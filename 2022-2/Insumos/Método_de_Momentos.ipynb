{
  "nbformat": 4,
  "nbformat_minor": 0,
  "metadata": {
    "colab": {
      "name": "Método de Momentos.ipynb",
      "provenance": [],
      "collapsed_sections": [],
      "include_colab_link": true
    },
    "kernelspec": {
      "name": "python3",
      "display_name": "Python 3"
    }
  },
  "cells": [
    {
      "cell_type": "markdown",
      "metadata": {
        "id": "view-in-github",
        "colab_type": "text"
      },
      "source": [
        "<a href=\"https://colab.research.google.com/github/pikey-msc/RiesgosFinancieros/blob/master/2020-2/Insumos/M%C3%A9todo_de_Momentos.ipynb\" target=\"_parent\"><img src=\"https://colab.research.google.com/assets/colab-badge.svg\" alt=\"Open In Colab\"/></a>"
      ]
    },
    {
      "cell_type": "code",
      "metadata": {
        "id": "9y03ikfbe8Ov",
        "colab_type": "code",
        "colab": {}
      },
      "source": [
        "#import pandas as pd\n",
        "\n",
        "#archivo = pd.read_excel(\"/content/Historico Deudores (modelo de valores de referencia).xls\") "
      ],
      "execution_count": 0,
      "outputs": []
    },
    {
      "cell_type": "code",
      "metadata": {
        "id": "QoR4cXsGq5w9",
        "colab_type": "code",
        "outputId": "30927266-3303-4ad0-87d7-0765826570eb",
        "colab": {
          "base_uri": "https://localhost:8080/",
          "height": 230
        }
      },
      "source": [
        "%load_ext rpy2.ipython\n",
        "!rm -rf RiesgosFinancieros\n",
        "!git clone \"https://github.com/pikey-msc/RiesgosFinancieros/\""
      ],
      "execution_count": 0,
      "outputs": [
        {
          "output_type": "stream",
          "text": [
            "/usr/local/lib/python3.6/dist-packages/rpy2/robjects/pandas2ri.py:14: FutureWarning: pandas.core.index is deprecated and will be removed in a future version.  The public classes are available in the top-level namespace.\n",
            "  from pandas.core.index import Index as PandasIndex\n",
            "/usr/local/lib/python3.6/dist-packages/rpy2/robjects/pandas2ri.py:34: UserWarning: pandas >= 1.0 is not supported.\n",
            "  warnings.warn('pandas >= 1.0 is not supported.')\n"
          ],
          "name": "stderr"
        },
        {
          "output_type": "stream",
          "text": [
            "Cloning into 'RiesgosFinancieros'...\n",
            "remote: Enumerating objects: 16, done.\u001b[K\n",
            "remote: Counting objects: 100% (16/16), done.\u001b[K\n",
            "remote: Compressing objects: 100% (16/16), done.\u001b[K\n",
            "remote: Total 557 (delta 6), reused 0 (delta 0), pack-reused 541\u001b[K\n",
            "Receiving objects: 100% (557/557), 25.10 MiB | 26.89 MiB/s, done.\n",
            "Resolving deltas: 100% (360/360), done.\n"
          ],
          "name": "stdout"
        }
      ]
    },
    {
      "cell_type": "code",
      "metadata": {
        "id": "aGdCF6cLhKZY",
        "colab_type": "code",
        "outputId": "096f3ad9-e9dd-46cc-9d4c-1b1599ca50be",
        "colab": {
          "base_uri": "https://localhost:8080/",
          "height": 228
        }
      },
      "source": [
        "%%R\n",
        "# install.packages(\"rootSolve\")\n",
        "# install.packages(\"bivariate\")\n",
        "library(\"MASS\")\n",
        "library(rootSolve)\n",
        "library(bivariate)\n",
        "D_t <- matrix(c(0,2,1,2,0,2,0,0,2,2,3,0,0,1,1,0,2,4,4,5,6,14,3,0,1))\n",
        "N_t <- matrix(c(1070,1099,1122,1181,1216,1337,1334,1349,1400,1447,1496,1661,1822,1916,2144,2336,2551,2718,2790,2835,2929,3049,2998,3117,3264))\n",
        "PMI <- colMeans(D_t/N_t) #Promedio de la fórmula para PMI\n",
        "print(\"La Probabilidad Media de Incumplimiento está dada por:\")\n",
        "print(PMI)\n",
        "Aux_PCI <- matrix(0, nrow = 25, ncol=1)\n",
        "Aux_PCI <- (D_t*(D_t-1))/(N_t*(N_t-1))\n",
        "PCI <- colMeans(Aux_PCI) #Promedio de la fórmula para PCI\n",
        "print(\"La Probabilidad Conjunta de Incumplimiento está dada por:\")\n",
        "print(PCI)\n",
        "VCR <- qnorm(PMI)\n",
        "print(\"Nuestro valor crítico de referencia es:\")\n",
        "print(VCR)\n",
        "#Suponiendo una correlación de activos de 0.2\n",
        "print(\"Suponiendo que nuestra de activos tiene un valor de 0.2\")\n",
        "Corr_Act <- 0.2\n",
        "Factor_sens <- sqrt(Corr_Act)\n",
        "print(\"El factor de sensibilidad estaría dado por:\")\n",
        "print(Factor_sens)\n",
        "PCI_normbiv = nbvcdf(0,0,1,1,Corr_Act)\n",
        "print(\"Y la Probabilidad Conjunta de Incumplimiento de la Normal Bivariada Estándar:\")\n",
        "print(PCI_normbiv(VCR,VCR))\n",
        "print(nbvcdf(0,0,1,1,Corr_Act)(VCR,VCR)) \n"
      ],
      "execution_count": 0,
      "outputs": [
        {
          "output_type": "stream",
          "text": [
            "[1] \"La Probabilidad Media de Incumplimiento está dada por:\"\n",
            "[1] 0.001004205\n",
            "[1] \"La Probabilidad Conjunta de Incumplimiento está dada por:\"\n",
            "[1] 1.543424e-06\n",
            "[1] \"Nuestro valor crítico de referencia es:\"\n",
            "[1] -3.088986\n",
            "[1] \"Suponiendo que nuestra de activos tiene un valor de 0.2\"\n",
            "[1] \"El factor de sensibilidad estaría dado por:\"\n",
            "[1] 0.4472136\n",
            "[1] \"Y la Probabilidad Conjunta de Incumplimiento de la Normal Bivariada Estándar:\"\n",
            "[1] 6.938907e-06\n",
            "[1] 6.938907e-06\n"
          ],
          "name": "stdout"
        }
      ]
    },
    {
      "cell_type": "markdown",
      "metadata": {
        "id": "HhgM-HM8t-d8",
        "colab_type": "text"
      },
      "source": [
        "Encontremos el valor de Corr_Act que hace lo más cercano a 0 nuestro PCI_normbiv"
      ]
    },
    {
      "cell_type": "code",
      "metadata": {
        "id": "Mq4DcLX2uB4M",
        "colab_type": "code",
        "outputId": "f6cfa6e7-833b-4603-9249-95b4fdbc604b",
        "colab": {
          "base_uri": "https://localhost:8080/",
          "height": 158
        }
      },
      "source": [
        "%%R\n",
        "#f <- function(x)  (1/(2*pi*sqrt(1-(x)^2)))*exp(-(1/(2*(1-(x^2))))*((2*(VCR^2))-(2*Corr_Act*VCR*VCR)))-PCI\n",
        "G <- function(x)  nbvcdf(0,0,1,1,x)(VCR,VCR)/PCI-1\n",
        "#Resuelve el sistema\n",
        "raiz = multiroot(G,0.2,positive = TRUE, maxiter=10000) \n",
        "print(\"Encontramos el valor aproximado a 0, el cual nos representa la Probabilidad Conjunta de Incumplimiento por Normal Bivariada y que nos resulta:\")\n",
        "print(G(raiz$root))\n",
        "print(\"Donde el valor de la Correlación de Activos que encontramos está dada por: \")\n",
        "print(raiz$root)\n",
        "print(\"Es decir, nuestro factor de sensibilidad es: \")\n",
        "print(sqrt(raiz$root))\n",
        "print(\"Valor bivariado \")\n",
        "print( nbvcdf(0,0,1,1,raiz$root)(VCR,VCR))"
      ],
      "execution_count": 0,
      "outputs": [
        {
          "output_type": "stream",
          "text": [
            "[1] \"Encontramos el valor aproximado a 0, el cual nos representa la Probabilidad Conjunta de Incumplimiento por Normal Bivariada y que nos resulta:\"\n",
            "[1] 8.70265e-10\n",
            "[1] \"Donde el valor de la Correlación de Activos que encontramos está dada por: \"\n",
            "[1] 0.03886633\n",
            "[1] \"Es decir, nuestro factor de sensibilidad es: \"\n",
            "[1] 0.1971455\n",
            "[1] \"Valor bivariado \"\n",
            "[1] 1.543424e-06\n"
          ],
          "name": "stdout"
        }
      ]
    },
    {
      "cell_type": "markdown",
      "metadata": {
        "id": "KJxdyY6Ffnl5",
        "colab_type": "text"
      },
      "source": [
        "Como podemos observar, la Probabilidad Media de Incumplimiento y la Probabilidad Conjunta de Incumplimiento resultaron iguales a las calculadas en el archivo de Excel. Sin embargo, a la hora de aproximar la correlación de activos, los resultados aquí son muy altos comparados a los obtenidos en la hoja de cálculo, desde la función que utilizamos para estimar la función de probabilidad acumulada de la normal bivariada, los resultados varían un poco en los decimales. Pero el factor de sensibilidad mostrado aquí arriba resultó más de tres veces mayor al obtenido en la hoja de cálculo.\n",
        "En general, los resultados muestran que la probabilidad media y, sobre todo, una probabilidad conjunta de incumplimiento con valores pequeños, lo cual nos da cierta seguridad en cuanto a incumplimiento se refiere.\n",
        "Respecto a la correlación de activos, ambas son positivas aunque, una de ellas es relativamente pequeña y nos muestra una correlación casi nula, el otro resultado nos da a entender que su fuerza de relación hacia la misma dirección es moderada."
      ]
    }
  ]
}