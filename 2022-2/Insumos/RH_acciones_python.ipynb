{
  "nbformat": 4,
  "nbformat_minor": 0,
  "metadata": {
    "colab": {
      "name": "Untitled6.ipynb",
      "provenance": [],
      "authorship_tag": "ABX9TyO9/dvSk8oO32y5N6YtWtWm",
      "include_colab_link": true
    },
    "kernelspec": {
      "name": "python3",
      "display_name": "Python 3"
    },
    "language_info": {
      "name": "python"
    }
  },
  "cells": [
    {
      "cell_type": "markdown",
      "metadata": {
        "id": "view-in-github",
        "colab_type": "text"
      },
      "source": [
        "<a href=\"https://colab.research.google.com/github/pikey-msc/RiesgosFinancieros/blob/master/2022-2/Insumos/RH_acciones_python.ipynb\" target=\"_parent\"><img src=\"https://colab.research.google.com/assets/colab-badge.svg\" alt=\"Open In Colab\"/></a>"
      ]
    },
    {
      "cell_type": "markdown",
      "source": [
        "#Riesgo de Mercado (Simulación Histórica)\n",
        "\n",
        "Existen trés métodos principales para medir el riesgo de mercado\n",
        "* Simulación histórica\n",
        "* Paramétrico\n",
        "* Simulación de Monte Carlo\n",
        "\n",
        "\n",
        "\n",
        "   **Pérdidas y Ganancias simulación histórica (sin alisado)**\n",
        "   \n",
        "Un enfoque más claro es suponer que tenemos:\n",
        "1.   Una matriz $X_{(n+1)\\times m}$ de $m$ factores de riesgo y $n+1$ observaciones. \n",
        "2.   Denotemos el vector de precios actual como $X_{00}:=(x_{0,1},x_{0,2},\\ldots,x_{0,m})$. \n",
        "3.   Sea $r$ el número de instrumentos de un portafolio, entonces cada instrumento tiene una función de valuación $f_i\\colon A_i \\to R$ para todo $x\\in X$, $i=1,\\ldots, r$, donde $A_i\\subset X_i$ con $\\#(A_i)\\leq \\#(X_i)$.\n",
        "4.   Sea $r$ el número de instrumentos de un portafolio, entonces cada instrumento tiene una función de valuación $f_i\\colon A_i \\to R$ para todo $x\\in X$, $i=1,\\ldots, r$, donde $A_i\\subset X_i$ con $\\#(A_i)\\leq \\#(X_i)$.\n",
        "5.   Sea $M_{1\\times r}=(m_1,\\ldots,m_r)$ el vector de posiciones nominales de cada instrumento, es decir, el número de contratos que se tienen por instrumento $m_i\\in R$ $(i=1,\\ldots,r)$."
      ],
      "metadata": {
        "id": "qaNMAFEoC_cG"
      }
    },
    {
      "cell_type": "code",
      "source": [
        "!pip install yfinance\n",
        "import yfinance as yf\n",
        "import pandas as pd\n"
      ],
      "metadata": {
        "id": "ZfObh47fDDLe"
      },
      "execution_count": null,
      "outputs": []
    },
    {
      "cell_type": "code",
      "source": [
        "start = '2020-01-01'\n",
        "\n",
        "symbol = ['AAPL','MSFT','SQ','AMZN']\n",
        "stock_data = yf.download(symbol,start)\n",
        "# stock_data = stock_data.history(start=start)#, end=end) \n",
        "# symbol1='APPL'\n",
        "# stock_data = yf.Ticker(symbol)\n",
        "# stock_data = stock_data.history(start=start)#, end=end) \n"
      ],
      "metadata": {
        "colab": {
          "base_uri": "https://localhost:8080/"
        },
        "id": "gfH-istCZBOg",
        "outputId": "f73aace1-632e-468c-ecce-c3503e1cefb1"
      },
      "execution_count": null,
      "outputs": [
        {
          "output_type": "stream",
          "name": "stdout",
          "text": [
            "[*********************100%***********************]  4 of 4 completed\n"
          ]
        }
      ]
    },
    {
      "cell_type": "markdown",
      "source": [
        ""
      ],
      "metadata": {
        "id": "X0LmGAw4yfu3"
      }
    },
    {
      "cell_type": "markdown",
      "source": [
        "\n",
        "##Paso 1.\n",
        " (Generación de rendimientos) Construir ${\\Delta X}_{n\\times m}$ que es la matriz de diferencias basados en el operador $T_j$, es decir\n",
        "\t\t$${\\Delta X}_t=\\Big[ T_j(\\frac{x_{t,1}}{x_{t+1,1}}), T_j(\\frac{x_{t,2}}{x_{t+1,2}}),\\ldots, T_j(\\frac{x_{t,m}}{x_{t+1,m}})\\Big]\\quad t=0,1,\\ldots, n-1.$$"
      ],
      "metadata": {
        "id": "9I7OT80dy24f"
      }
    },
    {
      "cell_type": "code",
      "source": [
        "# yf.download?\n",
        "print(stock_data.Close.head(5))\n",
        "\n",
        "import numpy as np\n",
        "X=stock_data.Close\n",
        "X0=stock_data.Close.tail(1)\n",
        "DeltaX=np.log(stock_data.Close/stock_data.Close.shift(1))\n",
        "\n",
        "print(DeltaX.head())\n",
        "print(X0)\n"
      ],
      "metadata": {
        "colab": {
          "base_uri": "https://localhost:8080/"
        },
        "id": "dzMJ_z_SYCCd",
        "outputId": "dd6d2fa0-283a-4776-f33c-6dc2df4b3e9e"
      },
      "execution_count": null,
      "outputs": [
        {
          "output_type": "stream",
          "name": "stdout",
          "text": [
            "                 AAPL         AMZN        MSFT         SQ\n",
            "Date                                                     \n",
            "2020-01-02  75.087502  1898.010010  160.619995  63.830002\n",
            "2020-01-03  74.357498  1874.969971  158.619995  63.000000\n",
            "2020-01-06  74.949997  1902.880005  159.029999  62.570000\n",
            "2020-01-07  74.597504  1906.859985  157.580002  64.589996\n",
            "2020-01-08  75.797501  1891.969971  160.089996  67.599998\n",
            "                AAPL      AMZN      MSFT        SQ\n",
            "Date                                              \n",
            "2020-01-02       NaN       NaN       NaN       NaN\n",
            "2020-01-03 -0.009770 -0.012213 -0.012530 -0.013089\n",
            "2020-01-06  0.007937  0.014776  0.002581 -0.006849\n",
            "2020-01-07 -0.004714  0.002089 -0.009160  0.031774\n",
            "2020-01-08  0.015958 -0.007839  0.015803  0.045548\n",
            "                  AAPL         AMZN        MSFT          SQ\n",
            "Date                                                       \n",
            "2022-03-08  157.440002  2720.290039  275.850006  100.620003\n"
          ]
        }
      ]
    },
    {
      "cell_type": "code",
      "source": [
        "import pandas as pd\n",
        "M=np.array([1000,5000,2000,100])\n",
        "print(M)\n",
        "\n",
        "#Valoración\n",
        "\n",
        "Y0=X0.squeeze()*M\n",
        "\n",
        "Y0\n",
        "\n"
      ],
      "metadata": {
        "colab": {
          "base_uri": "https://localhost:8080/"
        },
        "id": "C99BKappr5Za",
        "outputId": "9d0c0082-358c-4d55-ac20-a337014c7dbb"
      },
      "execution_count": null,
      "outputs": [
        {
          "output_type": "stream",
          "name": "stdout",
          "text": [
            "[1000 5000 2000  100]\n"
          ]
        },
        {
          "output_type": "execute_result",
          "data": {
            "text/plain": [
              "AAPL    1.574400e+05\n",
              "AMZN    1.360145e+07\n",
              "MSFT    5.517000e+05\n",
              "SQ      1.006200e+04\n",
              "Name: 2022-03-08 00:00:00, dtype: float64"
            ]
          },
          "metadata": {},
          "execution_count": 57
        }
      ]
    },
    {
      "cell_type": "markdown",
      "source": [
        "##Paso 2. \n",
        "Construir ${X^\\ast}_{n\\times m}$ que es la matriz de factores de riesgo simulada basada en el vector de precios actual $X_{00}$\n",
        "\t\t$$X_{t}^\\ast=\\Big[x_{0,1}T^{-1}_j(\\Delta x_{t,1}), x_{0,2}T^{-1}_j(\\Delta x_{t,2}),\\ldots, x_{0,m}T^{-1}_j(\\Delta x_{t,m})\\Big]\\quad (t=1,\\ldots,n\\quad j=1,2),$$\n",
        "\t\tdonde $T_1(x)=\\ln(x)$, $T_2(x)=x-1$.\n",
        "\n"
      ],
      "metadata": {
        "id": "7Uz38FmizEOO"
      }
    },
    {
      "cell_type": "code",
      "source": [
        "X_s=np.exp(DeltaX.squeeze())*X0.squeeze()\n",
        "X_s.head"
      ],
      "metadata": {
        "colab": {
          "base_uri": "https://localhost:8080/"
        },
        "id": "_YpS4IQMs9Hh",
        "outputId": "783d8c61-0601-4688-c14a-fac796866025"
      },
      "execution_count": null,
      "outputs": [
        {
          "output_type": "execute_result",
          "data": {
            "text/plain": [
              "<bound method NDFrame.head of                   AAPL         AMZN        MSFT          SQ\n",
              "Date                                                       \n",
              "2020-01-02         NaN          NaN         NaN         NaN\n",
              "2020-01-03  155.909365  2687.268301  272.415191   99.311609\n",
              "2020-01-06  158.694523  2760.783161  276.563028   99.933231\n",
              "2020-01-07  156.699555  2725.979679  273.334873  103.868398\n",
              "2020-01-08  159.972628  2699.048229  280.243850  105.309064\n",
              "...                ...          ...         ...         ...\n",
              "2022-03-02  160.681415  2736.677401  280.750672   99.183262\n",
              "2022-03-03  157.128070  2645.972976  271.926236   92.490074\n",
              "2022-03-04  154.541813  2678.768039  270.200984   93.836826\n",
              "2022-03-07  153.705909  2567.354151  265.429277   92.109059\n",
              "2022-03-08  155.601719  2691.821109  272.823581  103.829194\n",
              "\n",
              "[550 rows x 4 columns]>"
            ]
          },
          "metadata": {},
          "execution_count": 58
        }
      ]
    },
    {
      "cell_type": "markdown",
      "source": [
        "## Paso 3. \n",
        "Construcción de la matriz de reevaluación del portafolio basada en los escenarios históricos $Y_{n\\times r}$ de todos los instrumentos financieros, es decir\n",
        "\t\t$$Y_t=[m_1f_1(X_{t}^\\ast), m_2f_2(X_{t}^\\ast),\\ldots, m_rf_r(X_{t}^\\ast)]\\quad (t=1,\\ldots,n).$$\n",
        "    \n"
      ],
      "metadata": {
        "id": "440v6MiazKEQ"
      }
    },
    {
      "cell_type": "code",
      "source": [
        "Y_s=X_s*M.squeeze()\n",
        "Y_s.head\n"
      ],
      "metadata": {
        "colab": {
          "base_uri": "https://localhost:8080/"
        },
        "id": "c-dGnxo5zYgz",
        "outputId": "60c628a8-7bd7-44f7-b6a7-b46695bb715e"
      },
      "execution_count": null,
      "outputs": [
        {
          "output_type": "execute_result",
          "data": {
            "text/plain": [
              "<bound method NDFrame.head of                      AAPL          AMZN           MSFT            SQ\n",
              "Date                                                                \n",
              "2020-01-02            NaN           NaN            NaN           NaN\n",
              "2020-01-03  155909.365145  1.343634e+07  544830.381663   9931.160882\n",
              "2020-01-06  158694.522988  1.380392e+07  553126.055785   9993.323081\n",
              "2020-01-07  156699.554862  1.362990e+07  546669.745338  10386.839764\n",
              "2020-01-08  159972.627706  1.349524e+07  560487.700898  10530.906360\n",
              "...                   ...           ...            ...           ...\n",
              "2022-03-02  160681.414906  1.368339e+07  561501.343133   9918.326193\n",
              "2022-03-03  157128.069865  1.322986e+07  543852.472410   9249.007435\n",
              "2022-03-04  154541.812972  1.339384e+07  540401.967425   9383.682578\n",
              "2022-03-07  153705.908873  1.283677e+07  530858.553099   9210.905926\n",
              "2022-03-08  155601.719359  1.345911e+07  545647.161222  10382.919425\n",
              "\n",
              "[550 rows x 4 columns]>"
            ]
          },
          "metadata": {},
          "execution_count": 59
        }
      ]
    },
    {
      "cell_type": "markdown",
      "source": [
        "## Paso 4. \n",
        "Construcción de la matriz de pérdidas y ganancias del portafolio basada en los escenarios históricos $\\Delta Y_{n\\times r}$ de todos los instrumentos financieros, es decir\n",
        "\t\t$$\\Delta Y_t=Y_t-Y_{0}=[m_1(f_1(X_{00})-f_1(X_{t}^\\ast)), m_2( f_2(X_{00})-f_2(X_{t}^\\ast)),\\ldots, m_r(f_r(X_{00})-f_r(X_{t}^\\ast))],$$\n",
        "\t\tpara $(t=1,\\ldots,n)$. Se puede obtener el vector de pérdidas totales ${\\Delta YT}_{n\\times m}$ muy fácilmente, esto es $\\Delta YT=\\sum_{k=1}^r Y_{kt}$ $(t=1,\\ldots,n)$, incluso se puede hacer lo mismo por tipo de riesgo.\n"
      ],
      "metadata": {
        "id": "MIrkcbiSzOiR"
      }
    },
    {
      "cell_type": "code",
      "source": [
        "PL=Y_s-Y0\n",
        "\n",
        "cols=PL.shape[1]\n",
        "\n",
        "PL['Total']=PL.sum(axis=1)\n",
        "PL.head"
      ],
      "metadata": {
        "colab": {
          "base_uri": "https://localhost:8080/"
        },
        "id": "p--ugkyazdcL",
        "outputId": "944fbf0b-94e7-41fc-c1dc-6f4d2d1eea88"
      },
      "execution_count": null,
      "outputs": [
        {
          "output_type": "execute_result",
          "data": {
            "text/plain": [
              "<bound method NDFrame.head of                    AAPL           AMZN          MSFT          SQ          Total\n",
              "Date                                                                           \n",
              "2020-01-02          NaN            NaN           NaN         NaN       0.000000\n",
              "2020-01-03 -1530.637296 -165108.688676  -6869.630544 -130.839392 -173639.795908\n",
              "2020-01-06  1254.520547  202465.610530   1426.043578  -68.677193  205077.497462\n",
              "2020-01-07  -740.447580   28448.197461  -5030.266869  324.839490   23002.322502\n",
              "2020-01-08  2532.625265 -106209.052686   8787.688691  468.906085  -94419.832644\n",
              "...                 ...            ...           ...         ...            ...\n",
              "2022-03-02  3241.412464   81936.810929   9801.330926 -143.674082   94835.880237\n",
              "2022-03-03  -311.932576 -371585.316485  -7847.539797 -812.992839 -380557.781698\n",
              "2022-03-04 -2898.189469 -207610.000823 -11298.044782 -678.317697 -222484.552771\n",
              "2022-03-07 -3734.093568 -764679.439354 -20841.459108 -851.094349 -790106.086379\n",
              "2022-03-08 -1838.283082 -142344.648510  -6052.850985  320.919150 -149914.863427\n",
              "\n",
              "[550 rows x 5 columns]>"
            ]
          },
          "metadata": {},
          "execution_count": 61
        }
      ]
    },
    {
      "cell_type": "markdown",
      "source": [
        "##Paso 5. \n",
        "Obtenerla medida de riesgo basado en un nivel de confianza de la matriz ${\\Delta Y}_{\\cdot k}$ $(k=1,\\ldots,r)$ y $\\Delta YT$.\n",
        "\n",
        "Las pérdidas y ganancias vía simulación histórica sin alisado es donde se ponderan los escenarios históricos con un mismo peso para todos, es decir cada escenario tiene una probabilidad de ocurrencia de $1/n$."
      ],
      "metadata": {
        "id": "WAdcqcF4znAR"
      }
    },
    {
      "cell_type": "code",
      "source": [
        "alpha = 0.98 #@param {type:\"slider\", min:0.8, max:1, step:0.001}"
      ],
      "metadata": {
        "id": "ePaAJfQXAhFb"
      },
      "execution_count": null,
      "outputs": []
    },
    {
      "cell_type": "markdown",
      "source": [
        "###Valor en Riesgo (VaR)\n",
        "\n",
        "Es un cuantil a un $\\alpha$ de confianza de la distribución de pérdidas y ganancias, generalmente se expresa en términos monetarios.\n",
        "\n",
        "#VaR\n",
        "\n",
        "El valor en riesgo (VaR) es una estadística utilizada para tratar de cuantificar el nivel de riesgo financiero dentro de una empresa o cartera durante un período de tiempo específico. VaR proporciona una estimación de la pérdida máxima de una posición o cartera determinada durante un período de tiempo, y puede calcularla a través de varios niveles de confianza.\n",
        "\n",
        "Estimar el riesgo de una cartera es importante para el crecimiento del capital a largo plazo y la gestión del riesgo, en particular dentro de empresas o instituciones más grandes. El VaR generalmente se enmarca como algo como esto:\n",
        "\n",
        "“Tenemos un VaR de cartera de 250.000 USD para el próximo mes al 95% de confianza”\n",
        "Esto significa que, con un 95% de confianza, podemos decir que la pérdida de la cartera no superará los 250.000 USD en un mes.\n",
        "En esta publicación, lo guiaré a través de los pasos para calcular esta métrica en una cartera de acciones."
      ],
      "metadata": {
        "id": "tetUyVvJzuNi"
      }
    },
    {
      "cell_type": "code",
      "source": [
        "VaR=PL.quantile(1-alpha, numeric_only=False)\n",
        "\n",
        "print(VaR)\n",
        "\n",
        "print(sum(Y0))"
      ],
      "metadata": {
        "colab": {
          "base_uri": "https://localhost:8080/"
        },
        "id": "2SLu5LbSAHPc",
        "outputId": "edf16a3b-5ecc-4aa6-f55b-749710d39f0e"
      },
      "execution_count": null,
      "outputs": [
        {
          "output_type": "stream",
          "name": "stdout",
          "text": [
            "AAPL      -7298.874401\n",
            "AMZN    -630538.408388\n",
            "MSFT     -23795.190363\n",
            "SQ         -813.530388\n",
            "Total   -677462.575261\n",
            "Name: 0.020000000000000018, dtype: float64\n",
            "14320652.210235596\n"
          ]
        }
      ]
    },
    {
      "cell_type": "markdown",
      "source": [
        "###Valor en Riesgo Condicional o \"Expected Shortfall\"\n",
        "\n",
        "Es el promedio de las pérdidas que son más severas que el Valor en Riesgo ($VaR_\\alpha$) a un $\\alpha$ de confianza, es decir:\n",
        "$$E(x|x\\le VaR_\\alpha)$$\n"
      ],
      "metadata": {
        "id": "o0ZOmnB_z5wL"
      }
    },
    {
      "cell_type": "code",
      "source": [
        "def VaR_Cond(x , VaR ):\n",
        "  return np.mean(x[x <= VaR])"
      ],
      "metadata": {
        "id": "FLd6lSMXA4pY"
      },
      "execution_count": null,
      "outputs": []
    },
    {
      "cell_type": "code",
      "source": [
        "\n",
        "VaR_C=[]\n",
        "\n",
        "for i in range(0,PL.shape[1]):\n",
        "  VC=VaR_Cond(PL.iloc[:,i],VaR[i])\n",
        "  VaR_C.append(VC)\n"
      ],
      "metadata": {
        "id": "W7ACgPC7ECw8"
      },
      "execution_count": null,
      "outputs": []
    },
    {
      "cell_type": "code",
      "source": [
        "\n",
        "print(VaR)\n",
        "print(VaR_C)\n",
        "\n",
        "pd.concat([VaR,pd.DataFrame(VaR_C).squeeze()], axis=1, ignore_index=True)"
      ],
      "metadata": {
        "colab": {
          "base_uri": "https://localhost:8080/",
          "height": 484
        },
        "id": "i3rmVoZc0iwR",
        "outputId": "eea8dfc2-7ca4-436c-9549-4ca409d6379d"
      },
      "execution_count": null,
      "outputs": [
        {
          "output_type": "stream",
          "name": "stdout",
          "text": [
            "AAPL      -7298.874401\n",
            "AMZN    -630538.408388\n",
            "MSFT     -23795.190363\n",
            "SQ         -813.530388\n",
            "Total   -677462.575261\n",
            "Name: 0.020000000000000018, dtype: float64\n",
            "[-11261.958141897987, -846332.0609951812, -36937.994447413366, -1200.8464660778375, -881792.5615757715]\n"
          ]
        },
        {
          "output_type": "execute_result",
          "data": {
            "text/html": [
              "\n",
              "  <div id=\"df-b9ecee25-5a1b-4b23-9c7c-d2f8134d8feb\">\n",
              "    <div class=\"colab-df-container\">\n",
              "      <div>\n",
              "<style scoped>\n",
              "    .dataframe tbody tr th:only-of-type {\n",
              "        vertical-align: middle;\n",
              "    }\n",
              "\n",
              "    .dataframe tbody tr th {\n",
              "        vertical-align: top;\n",
              "    }\n",
              "\n",
              "    .dataframe thead th {\n",
              "        text-align: right;\n",
              "    }\n",
              "</style>\n",
              "<table border=\"1\" class=\"dataframe\">\n",
              "  <thead>\n",
              "    <tr style=\"text-align: right;\">\n",
              "      <th></th>\n",
              "      <th>0</th>\n",
              "      <th>1</th>\n",
              "    </tr>\n",
              "  </thead>\n",
              "  <tbody>\n",
              "    <tr>\n",
              "      <th>AAPL</th>\n",
              "      <td>-7298.874401</td>\n",
              "      <td>NaN</td>\n",
              "    </tr>\n",
              "    <tr>\n",
              "      <th>AMZN</th>\n",
              "      <td>-630538.408388</td>\n",
              "      <td>NaN</td>\n",
              "    </tr>\n",
              "    <tr>\n",
              "      <th>MSFT</th>\n",
              "      <td>-23795.190363</td>\n",
              "      <td>NaN</td>\n",
              "    </tr>\n",
              "    <tr>\n",
              "      <th>SQ</th>\n",
              "      <td>-813.530388</td>\n",
              "      <td>NaN</td>\n",
              "    </tr>\n",
              "    <tr>\n",
              "      <th>Total</th>\n",
              "      <td>-677462.575261</td>\n",
              "      <td>NaN</td>\n",
              "    </tr>\n",
              "    <tr>\n",
              "      <th>0</th>\n",
              "      <td>NaN</td>\n",
              "      <td>-11261.958142</td>\n",
              "    </tr>\n",
              "    <tr>\n",
              "      <th>1</th>\n",
              "      <td>NaN</td>\n",
              "      <td>-846332.060995</td>\n",
              "    </tr>\n",
              "    <tr>\n",
              "      <th>2</th>\n",
              "      <td>NaN</td>\n",
              "      <td>-36937.994447</td>\n",
              "    </tr>\n",
              "    <tr>\n",
              "      <th>3</th>\n",
              "      <td>NaN</td>\n",
              "      <td>-1200.846466</td>\n",
              "    </tr>\n",
              "    <tr>\n",
              "      <th>4</th>\n",
              "      <td>NaN</td>\n",
              "      <td>-881792.561576</td>\n",
              "    </tr>\n",
              "  </tbody>\n",
              "</table>\n",
              "</div>\n",
              "      <button class=\"colab-df-convert\" onclick=\"convertToInteractive('df-b9ecee25-5a1b-4b23-9c7c-d2f8134d8feb')\"\n",
              "              title=\"Convert this dataframe to an interactive table.\"\n",
              "              style=\"display:none;\">\n",
              "        \n",
              "  <svg xmlns=\"http://www.w3.org/2000/svg\" height=\"24px\"viewBox=\"0 0 24 24\"\n",
              "       width=\"24px\">\n",
              "    <path d=\"M0 0h24v24H0V0z\" fill=\"none\"/>\n",
              "    <path d=\"M18.56 5.44l.94 2.06.94-2.06 2.06-.94-2.06-.94-.94-2.06-.94 2.06-2.06.94zm-11 1L8.5 8.5l.94-2.06 2.06-.94-2.06-.94L8.5 2.5l-.94 2.06-2.06.94zm10 10l.94 2.06.94-2.06 2.06-.94-2.06-.94-.94-2.06-.94 2.06-2.06.94z\"/><path d=\"M17.41 7.96l-1.37-1.37c-.4-.4-.92-.59-1.43-.59-.52 0-1.04.2-1.43.59L10.3 9.45l-7.72 7.72c-.78.78-.78 2.05 0 2.83L4 21.41c.39.39.9.59 1.41.59.51 0 1.02-.2 1.41-.59l7.78-7.78 2.81-2.81c.8-.78.8-2.07 0-2.86zM5.41 20L4 18.59l7.72-7.72 1.47 1.35L5.41 20z\"/>\n",
              "  </svg>\n",
              "      </button>\n",
              "      \n",
              "  <style>\n",
              "    .colab-df-container {\n",
              "      display:flex;\n",
              "      flex-wrap:wrap;\n",
              "      gap: 12px;\n",
              "    }\n",
              "\n",
              "    .colab-df-convert {\n",
              "      background-color: #E8F0FE;\n",
              "      border: none;\n",
              "      border-radius: 50%;\n",
              "      cursor: pointer;\n",
              "      display: none;\n",
              "      fill: #1967D2;\n",
              "      height: 32px;\n",
              "      padding: 0 0 0 0;\n",
              "      width: 32px;\n",
              "    }\n",
              "\n",
              "    .colab-df-convert:hover {\n",
              "      background-color: #E2EBFA;\n",
              "      box-shadow: 0px 1px 2px rgba(60, 64, 67, 0.3), 0px 1px 3px 1px rgba(60, 64, 67, 0.15);\n",
              "      fill: #174EA6;\n",
              "    }\n",
              "\n",
              "    [theme=dark] .colab-df-convert {\n",
              "      background-color: #3B4455;\n",
              "      fill: #D2E3FC;\n",
              "    }\n",
              "\n",
              "    [theme=dark] .colab-df-convert:hover {\n",
              "      background-color: #434B5C;\n",
              "      box-shadow: 0px 1px 3px 1px rgba(0, 0, 0, 0.15);\n",
              "      filter: drop-shadow(0px 1px 2px rgba(0, 0, 0, 0.3));\n",
              "      fill: #FFFFFF;\n",
              "    }\n",
              "  </style>\n",
              "\n",
              "      <script>\n",
              "        const buttonEl =\n",
              "          document.querySelector('#df-b9ecee25-5a1b-4b23-9c7c-d2f8134d8feb button.colab-df-convert');\n",
              "        buttonEl.style.display =\n",
              "          google.colab.kernel.accessAllowed ? 'block' : 'none';\n",
              "\n",
              "        async function convertToInteractive(key) {\n",
              "          const element = document.querySelector('#df-b9ecee25-5a1b-4b23-9c7c-d2f8134d8feb');\n",
              "          const dataTable =\n",
              "            await google.colab.kernel.invokeFunction('convertToInteractive',\n",
              "                                                     [key], {});\n",
              "          if (!dataTable) return;\n",
              "\n",
              "          const docLinkHtml = 'Like what you see? Visit the ' +\n",
              "            '<a target=\"_blank\" href=https://colab.research.google.com/notebooks/data_table.ipynb>data table notebook</a>'\n",
              "            + ' to learn more about interactive tables.';\n",
              "          element.innerHTML = '';\n",
              "          dataTable['output_type'] = 'display_data';\n",
              "          await google.colab.output.renderOutput(dataTable, element);\n",
              "          const docLink = document.createElement('div');\n",
              "          docLink.innerHTML = docLinkHtml;\n",
              "          element.appendChild(docLink);\n",
              "        }\n",
              "      </script>\n",
              "    </div>\n",
              "  </div>\n",
              "  "
            ],
            "text/plain": [
              "                   0              1\n",
              "AAPL    -7298.874401            NaN\n",
              "AMZN  -630538.408388            NaN\n",
              "MSFT   -23795.190363            NaN\n",
              "SQ       -813.530388            NaN\n",
              "Total -677462.575261            NaN\n",
              "0                NaN  -11261.958142\n",
              "1                NaN -846332.060995\n",
              "2                NaN  -36937.994447\n",
              "3                NaN   -1200.846466\n",
              "4                NaN -881792.561576"
            ]
          },
          "metadata": {},
          "execution_count": 70
        }
      ]
    }
  ]
}