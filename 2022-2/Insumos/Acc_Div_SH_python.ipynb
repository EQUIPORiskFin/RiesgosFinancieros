{
  "nbformat": 4,
  "nbformat_minor": 0,
  "metadata": {
    "colab": {
      "name": "Copia de Acc_Div_SH_python.ipynb",
      "provenance": [],
      "include_colab_link": true
    },
    "kernelspec": {
      "name": "python3",
      "display_name": "Python 3"
    },
    "language_info": {
      "name": "python"
    }
  },
  "cells": [
    {
      "cell_type": "markdown",
      "metadata": {
        "id": "view-in-github",
        "colab_type": "text"
      },
      "source": [
        "<a href=\"https://colab.research.google.com/github/pikey-msc/RiesgosFinancieros/blob/master/2022-2/Insumos/Acc_Div_SH_python.ipynb\" target=\"_parent\"><img src=\"https://colab.research.google.com/assets/colab-badge.svg\" alt=\"Open In Colab\"/></a>"
      ]
    },
    {
      "cell_type": "markdown",
      "source": [
        "#Riesgo de Mercado (Simulación Histórica)\n",
        "\n",
        "Existen trés métodos principales para medir el riesgo de mercado\n",
        "* Simulación histórica\n",
        "* Paramétrico\n",
        "* Simulación de Monte Carlo\n",
        "\n",
        "\n",
        "\n",
        "   **Pérdidas y Ganancias simulación histórica (sin alisado)**\n",
        "   \n",
        "Un enfoque más claro es suponer que tenemos:\n",
        "1.   Una matriz $X_{(n+1)\\times m}$ de $m$ factores de riesgo y $n+1$ observaciones. \n",
        "2.   Denotemos el vector de precios actual como $X_{00}:=(x_{0,1},x_{0,2},\\ldots,x_{0,m})$. \n",
        "3.   Sea $r$ el número de instrumentos de un portafolio, entonces cada instrumento tiene una función de valuación $f_i\\colon A_i \\to R$ para todo $x\\in X$, $i=1,\\ldots, r$, donde $A_i\\subset X_i$ con $\\#(A_i)\\leq \\#(X_i)$.\n",
        "4.   Sea $r$ el número de instrumentos de un portafolio, entonces cada instrumento tiene una función de valuación $f_i\\colon A_i \\to R$ para todo $x\\in X$, $i=1,\\ldots, r$, donde $A_i\\subset X_i$ con $\\#(A_i)\\leq \\#(X_i)$.\n",
        "5.   Sea $M_{1\\times r}=(m_1,\\ldots,m_r)$ el vector de posiciones nominales de cada instrumento, es decir, el número de contratos que se tienen por instrumento $m_i\\in R$ $(i=1,\\ldots,r)$."
      ],
      "metadata": {
        "id": "qaNMAFEoC_cG"
      }
    },
    {
      "cell_type": "code",
      "source": [
        "#!pip install yfinance\n",
        "import yfinance as yf\n",
        "import pandas as pd\n"
      ],
      "metadata": {
        "id": "ZfObh47fDDLe",
        "colab": {
          "base_uri": "https://localhost:8080/"
        },
        "outputId": "f92fb5f6-b115-4e74-cb24-4c9089505add"
      },
      "execution_count": null,
      "outputs": [
        {
          "output_type": "stream",
          "name": "stdout",
          "text": [
            "Collecting yfinance\n",
            "  Downloading yfinance-0.1.70-py2.py3-none-any.whl (26 kB)\n",
            "Collecting lxml>=4.5.1\n",
            "  Downloading lxml-4.8.0-cp37-cp37m-manylinux_2_17_x86_64.manylinux2014_x86_64.manylinux_2_24_x86_64.whl (6.4 MB)\n",
            "\u001b[K     |████████████████████████████████| 6.4 MB 11.5 MB/s \n",
            "\u001b[?25hRequirement already satisfied: multitasking>=0.0.7 in /usr/local/lib/python3.7/dist-packages (from yfinance) (0.0.10)\n",
            "Requirement already satisfied: numpy>=1.15 in /usr/local/lib/python3.7/dist-packages (from yfinance) (1.21.5)\n",
            "Requirement already satisfied: pandas>=0.24.0 in /usr/local/lib/python3.7/dist-packages (from yfinance) (1.3.5)\n",
            "Collecting requests>=2.26\n",
            "  Downloading requests-2.27.1-py2.py3-none-any.whl (63 kB)\n",
            "\u001b[K     |████████████████████████████████| 63 kB 576 kB/s \n",
            "\u001b[?25hRequirement already satisfied: pytz>=2017.3 in /usr/local/lib/python3.7/dist-packages (from pandas>=0.24.0->yfinance) (2018.9)\n",
            "Requirement already satisfied: python-dateutil>=2.7.3 in /usr/local/lib/python3.7/dist-packages (from pandas>=0.24.0->yfinance) (2.8.2)\n",
            "Requirement already satisfied: six>=1.5 in /usr/local/lib/python3.7/dist-packages (from python-dateutil>=2.7.3->pandas>=0.24.0->yfinance) (1.15.0)\n",
            "Requirement already satisfied: idna<4,>=2.5 in /usr/local/lib/python3.7/dist-packages (from requests>=2.26->yfinance) (2.10)\n",
            "Requirement already satisfied: urllib3<1.27,>=1.21.1 in /usr/local/lib/python3.7/dist-packages (from requests>=2.26->yfinance) (1.24.3)\n",
            "Requirement already satisfied: certifi>=2017.4.17 in /usr/local/lib/python3.7/dist-packages (from requests>=2.26->yfinance) (2021.10.8)\n",
            "Requirement already satisfied: charset-normalizer~=2.0.0 in /usr/local/lib/python3.7/dist-packages (from requests>=2.26->yfinance) (2.0.12)\n",
            "Installing collected packages: requests, lxml, yfinance\n",
            "  Attempting uninstall: requests\n",
            "    Found existing installation: requests 2.23.0\n",
            "    Uninstalling requests-2.23.0:\n",
            "      Successfully uninstalled requests-2.23.0\n",
            "  Attempting uninstall: lxml\n",
            "    Found existing installation: lxml 4.2.6\n",
            "    Uninstalling lxml-4.2.6:\n",
            "      Successfully uninstalled lxml-4.2.6\n",
            "\u001b[31mERROR: pip's dependency resolver does not currently take into account all the packages that are installed. This behaviour is the source of the following dependency conflicts.\n",
            "google-colab 1.0.0 requires requests~=2.23.0, but you have requests 2.27.1 which is incompatible.\n",
            "datascience 0.10.6 requires folium==0.2.1, but you have folium 0.8.3 which is incompatible.\u001b[0m\n",
            "Successfully installed lxml-4.8.0 requests-2.27.1 yfinance-0.1.70\n"
          ]
        }
      ]
    },
    {
      "cell_type": "code",
      "source": [
        "start = '2020-01-01'\n",
        "\n",
        "symbol = ['AAPL','MSFT','SQ','AMZN']\n",
        "stock_data = yf.download(symbol,start)\n",
        "# stock_data = stock_data.history(start=start)#, end=end) \n",
        "# symbol1='APPL'\n",
        "# stock_data = yf.Ticker(symbol)\n",
        "# stock_data = stock_data.history(start=start)#, end=end) \n"
      ],
      "metadata": {
        "colab": {
          "base_uri": "https://localhost:8080/"
        },
        "id": "gfH-istCZBOg",
        "outputId": "4f18d29e-295a-4736-b0b2-14a3a9c2a5a9"
      },
      "execution_count": null,
      "outputs": [
        {
          "output_type": "stream",
          "name": "stdout",
          "text": [
            "[*********************100%***********************]  4 of 4 completed\n"
          ]
        }
      ]
    },
    {
      "cell_type": "markdown",
      "source": [
        ""
      ],
      "metadata": {
        "id": "X0LmGAw4yfu3"
      }
    },
    {
      "cell_type": "markdown",
      "source": [
        "\n",
        "##Paso 1.\n",
        " (Generación de rendimientos) Construir ${\\Delta X}_{n\\times m}$ que es la matriz de diferencias basados en el operador $T_j$, es decir\n",
        "\t\t$${\\Delta X}_t=\\Big[ T_j(\\frac{x_{t,1}}{x_{t+1,1}}), T_j(\\frac{x_{t,2}}{x_{t+1,2}}),\\ldots, T_j(\\frac{x_{t,m}}{x_{t+1,m}})\\Big]\\quad t=0,1,\\ldots, n-1.$$"
      ],
      "metadata": {
        "id": "9I7OT80dy24f"
      }
    },
    {
      "cell_type": "code",
      "source": [
        "# yf.download?\n",
        "print(stock_data.Close.head(5))\n",
        "\n",
        "import numpy as np\n",
        "X=stock_data.Close\n",
        "X0=stock_data.Close.tail(1)\n",
        "DeltaX=np.log(stock_data.Close/stock_data.Close.shift(1))\n",
        "\n",
        "print(DeltaX.head())\n",
        "print(X0)\n"
      ],
      "metadata": {
        "colab": {
          "base_uri": "https://localhost:8080/"
        },
        "id": "dzMJ_z_SYCCd",
        "outputId": "41fc60b3-4fbf-42be-f3e2-1958a7ada50d"
      },
      "execution_count": null,
      "outputs": [
        {
          "output_type": "stream",
          "name": "stdout",
          "text": [
            "                 AAPL         AMZN        MSFT         SQ\n",
            "Date                                                     \n",
            "2020-01-02  75.087502  1898.010010  160.619995  63.830002\n",
            "2020-01-03  74.357498  1874.969971  158.619995  63.000000\n",
            "2020-01-06  74.949997  1902.880005  159.029999  62.570000\n",
            "2020-01-07  74.597504  1906.859985  157.580002  64.589996\n",
            "2020-01-08  75.797501  1891.969971  160.089996  67.599998\n",
            "                AAPL      AMZN      MSFT        SQ\n",
            "Date                                              \n",
            "2020-01-02       NaN       NaN       NaN       NaN\n",
            "2020-01-03 -0.009770 -0.012213 -0.012530 -0.013089\n",
            "2020-01-06  0.007937  0.014776  0.002581 -0.006849\n",
            "2020-01-07 -0.004714  0.002089 -0.009160  0.031774\n",
            "2020-01-08  0.015958 -0.007839  0.015803  0.045548\n",
            "                  AAPL        AMZN        MSFT          SQ\n",
            "Date                                                      \n",
            "2022-03-30  177.770004  3326.02002  313.859985  140.100006\n"
          ]
        }
      ]
    },
    {
      "cell_type": "code",
      "source": [
        "import pandas as pd\n",
        "M=np.array([1000,5000,2000,100])\n",
        "print(M)\n",
        "\n",
        "#Valoración\n",
        "\n",
        "Y0=X0.squeeze()*M\n",
        "\n",
        "Y0\n",
        "\n"
      ],
      "metadata": {
        "colab": {
          "base_uri": "https://localhost:8080/"
        },
        "id": "C99BKappr5Za",
        "outputId": "0391518d-ee93-4f04-8632-2b4ad224b341"
      },
      "execution_count": null,
      "outputs": [
        {
          "output_type": "stream",
          "name": "stdout",
          "text": [
            "[1000 5000 2000  100]\n"
          ]
        },
        {
          "output_type": "execute_result",
          "data": {
            "text/plain": [
              "AAPL    1.777700e+05\n",
              "AMZN    1.663010e+07\n",
              "MSFT    6.277200e+05\n",
              "SQ      1.401000e+04\n",
              "Name: 2022-03-30 00:00:00, dtype: float64"
            ]
          },
          "metadata": {},
          "execution_count": 4
        }
      ]
    },
    {
      "cell_type": "markdown",
      "source": [
        "##Paso 2. \n",
        "Construir ${X^\\ast}_{n\\times m}$ que es la matriz de factores de riesgo simulada basada en el vector de precios actual $X_{00}$\n",
        "\t\t$$X_{t}^\\ast=\\Big[x_{0,1}T^{-1}_j(\\Delta x_{t,1}), x_{0,2}T^{-1}_j(\\Delta x_{t,2}),\\ldots, x_{0,m}T^{-1}_j(\\Delta x_{t,m})\\Big]\\quad (t=1,\\ldots,n\\quad j=1,2),$$\n",
        "\t\tdonde $T_1(x)=\\ln(x)$, $T_2(x)=x-1$.\n",
        "\n"
      ],
      "metadata": {
        "id": "7Uz38FmizEOO"
      }
    },
    {
      "cell_type": "code",
      "source": [
        "X_s=np.exp(DeltaX.squeeze())*X0.squeeze()\n",
        "X_s.head"
      ],
      "metadata": {
        "colab": {
          "base_uri": "https://localhost:8080/"
        },
        "id": "_YpS4IQMs9Hh",
        "outputId": "a5c7143a-39df-4b67-818e-b6a3934260ab"
      },
      "execution_count": null,
      "outputs": [
        {
          "output_type": "execute_result",
          "data": {
            "text/plain": [
              "<bound method NDFrame.head of                   AAPL         AMZN        MSFT          SQ\n",
              "Date                                                       \n",
              "2020-01-02         NaN          NaN         NaN         NaN\n",
              "2020-01-03  176.041718  3285.645295  309.951879  138.278241\n",
              "2020-01-06  179.186519  3375.529790  314.671256  139.143767\n",
              "2020-01-07  176.933944  3332.976577  310.998286  144.622965\n",
              "2020-01-08  180.629664  3300.048272  318.859267  146.628901\n",
              "...                ...          ...         ...         ...\n",
              "2022-03-24  181.801450  3330.935610  318.691197  139.748208\n",
              "2022-03-25  178.433814  3348.864228  313.426492  135.193502\n",
              "2022-03-28  178.665371  3411.141967  321.115331  148.473965\n",
              "2022-03-29  181.171526  3332.406721  318.617880  148.945012\n",
              "2022-03-30  176.587915  3266.813044  312.317584  133.669383\n",
              "\n",
              "[566 rows x 4 columns]>"
            ]
          },
          "metadata": {},
          "execution_count": 5
        }
      ]
    },
    {
      "cell_type": "markdown",
      "source": [
        "## Paso 3. \n",
        "Construcción de la matriz de reevaluación del portafolio basada en los escenarios históricos $Y_{n\\times r}$ de todos los instrumentos financieros, es decir\n",
        "\t\t$$Y_t=[m_1f_1(X_{t}^\\ast), m_2f_2(X_{t}^\\ast),\\ldots, m_rf_r(X_{t}^\\ast)]\\quad (t=1,\\ldots,n).$$\n",
        "    \n"
      ],
      "metadata": {
        "id": "440v6MiazKEQ"
      }
    },
    {
      "cell_type": "code",
      "source": [
        "Y_s=X_s*M.squeeze()\n",
        "Y_s.head\n"
      ],
      "metadata": {
        "colab": {
          "base_uri": "https://localhost:8080/"
        },
        "id": "c-dGnxo5zYgz",
        "outputId": "f24828b4-2e99-4559-8674-1761f1d798c1"
      },
      "execution_count": null,
      "outputs": [
        {
          "output_type": "execute_result",
          "data": {
            "text/plain": [
              "<bound method NDFrame.head of                      AAPL          AMZN           MSFT            SQ\n",
              "Date                                                                \n",
              "2020-01-02            NaN           NaN            NaN           NaN\n",
              "2020-01-03  176041.717977  1.642823e+07  619903.758653  13827.824113\n",
              "2020-01-06  179186.519259  1.687765e+07  629342.511963  13914.376729\n",
              "2020-01-07  176933.943758  1.666488e+07  621996.572295  14462.296508\n",
              "2020-01-08  180629.663807  1.650024e+07  637718.534353  14662.890131\n",
              "...                   ...           ...            ...           ...\n",
              "2022-03-24  181801.449534  1.665468e+07  637382.393891  13974.820779\n",
              "2022-03-25  178433.814308  1.674432e+07  626852.983491  13519.350201\n",
              "2022-03-28  178665.370977  1.705571e+07  642230.661433  14847.396522\n",
              "2022-03-29  181171.526494  1.666203e+07  637235.759509  14894.501238\n",
              "2022-03-30  176587.914805  1.633407e+07  624635.168581  13366.938300\n",
              "\n",
              "[566 rows x 4 columns]>"
            ]
          },
          "metadata": {},
          "execution_count": 6
        }
      ]
    },
    {
      "cell_type": "markdown",
      "source": [
        "## Paso 4. \n",
        "Construcción de la matriz de pérdidas y ganancias del portafolio basada en los escenarios históricos $\\Delta Y_{n\\times r}$ de todos los instrumentos financieros, es decir\n",
        "\t\t$$\\Delta Y_t=Y_t-Y_{0}=[m_1(f_1(X_{00})-f_1(X_{t}^\\ast)), m_2( f_2(X_{00})-f_2(X_{t}^\\ast)),\\ldots, m_r(f_r(X_{00})-f_r(X_{t}^\\ast))],$$\n",
        "\t\tpara $(t=1,\\ldots,n)$. Se puede obtener el vector de pérdidas totales ${\\Delta YT}_{n\\times m}$ muy fácilmente, esto es $\\Delta YT=\\sum_{k=1}^r Y_{kt}$ $(t=1,\\ldots,n)$, incluso se puede hacer lo mismo por tipo de riesgo.\n"
      ],
      "metadata": {
        "id": "MIrkcbiSzOiR"
      }
    },
    {
      "cell_type": "code",
      "source": [
        "PL=Y_s-Y0\n",
        "\n",
        "cols=PL.shape[1]\n",
        "\n",
        "PL['Total']=PL.sum(axis=1)\n",
        "PL.head"
      ],
      "metadata": {
        "colab": {
          "base_uri": "https://localhost:8080/"
        },
        "id": "p--ugkyazdcL",
        "outputId": "f6eae951-53a7-4356-dd5e-6713e49e4f32"
      },
      "execution_count": null,
      "outputs": [
        {
          "output_type": "execute_result",
          "data": {
            "text/plain": [
              "<bound method NDFrame.head of                    AAPL           AMZN          MSFT          SQ  \\\n",
              "Date                                                               \n",
              "2020-01-02          NaN            NaN           NaN         NaN   \n",
              "2020-01-03 -1728.286296 -201873.622316  -7816.212051 -182.176497   \n",
              "2020-01-06  1416.514987  247548.851123   1622.541260  -95.623882   \n",
              "2020-01-07  -836.060514   34782.788937  -5723.398408  452.295898   \n",
              "2020-01-08  2859.659535 -129858.739478   9998.563650  652.889521   \n",
              "...                 ...            ...           ...         ...   \n",
              "2022-03-24  4031.445261   24577.953606   9662.423188  -35.179831   \n",
              "2022-03-25   663.810036  114221.041465   -866.987212 -490.650409   \n",
              "2022-03-28   895.366705  425609.735891  14510.690730  837.395912   \n",
              "2022-03-29  3401.522222   31933.506724   9515.788806  884.500628   \n",
              "2022-03-30 -1182.089468 -296034.877785  -3084.802122 -643.062310   \n",
              "\n",
              "                    Total  \n",
              "Date                       \n",
              "2020-01-02       0.000000  \n",
              "2020-01-03 -211600.297160  \n",
              "2020-01-06  250492.283488  \n",
              "2020-01-07   28675.625913  \n",
              "2020-01-08 -116347.626772  \n",
              "...                   ...  \n",
              "2022-03-24   38236.642225  \n",
              "2022-03-25  113527.213879  \n",
              "2022-03-28  441853.189237  \n",
              "2022-03-29   45735.318379  \n",
              "2022-03-30 -300944.831684  \n",
              "\n",
              "[566 rows x 5 columns]>"
            ]
          },
          "metadata": {},
          "execution_count": 7
        }
      ]
    },
    {
      "cell_type": "markdown",
      "source": [
        "##Paso 5. \n",
        "Obtenerla medida de riesgo basado en un nivel de confianza de la matriz ${\\Delta Y}_{\\cdot k}$ $(k=1,\\ldots,r)$ y $\\Delta YT$.\n",
        "\n",
        "Las pérdidas y ganancias vía simulación histórica sin alisado es donde se ponderan los escenarios históricos con un mismo peso para todos, es decir cada escenario tiene una probabilidad de ocurrencia de $1/n$."
      ],
      "metadata": {
        "id": "WAdcqcF4znAR"
      }
    },
    {
      "cell_type": "code",
      "source": [
        "alpha = 0.98 #@param {type:\"slider\", min:0.8, max:1, step:0.001}"
      ],
      "metadata": {
        "id": "ePaAJfQXAhFb"
      },
      "execution_count": null,
      "outputs": []
    },
    {
      "cell_type": "markdown",
      "source": [
        "###Valor en Riesgo (VaR)\n",
        "\n",
        "Es un cuantil a un $\\alpha$ de confianza de la distribución de pérdidas y ganancias, generalmente se expresa en términos monetarios.\n",
        "\n",
        "#VaR\n",
        "\n",
        "El valor en riesgo (VaR) es una estadística utilizada para tratar de cuantificar el nivel de riesgo financiero dentro de una empresa o cartera durante un período de tiempo específico. VaR proporciona una estimación de la pérdida máxima de una posición o cartera determinada durante un período de tiempo, y puede calcularla a través de varios niveles de confianza.\n",
        "\n",
        "Estimar el riesgo de una cartera es importante para el crecimiento del capital a largo plazo y la gestión del riesgo, en particular dentro de empresas o instituciones más grandes. El VaR generalmente se enmarca como algo como esto:\n",
        "\n",
        "“Tenemos un VaR de cartera de 250.000 USD para el próximo mes al 95% de confianza”\n",
        "Esto significa que, con un 95% de confianza, podemos decir que la pérdida de la cartera no superará los 250.000 USD en un mes.\n",
        "En esta publicación, lo guiaré a través de los pasos para calcular esta métrica en una cartera de acciones."
      ],
      "metadata": {
        "id": "tetUyVvJzuNi"
      }
    },
    {
      "cell_type": "code",
      "source": [
        "VaR=PL.quantile(1-alpha, numeric_only=False)\n",
        "\n",
        "print(VaR)\n",
        "\n",
        "\n",
        "VaRsi=[]\n",
        "\n",
        "for i in range(0,PL.shape[1]):\n",
        "  VC=PL.iloc[:,i].sort_values(ascending=True).quantile(1-alpha, interpolation = 'higher')\n",
        "  VaRsi.append(VC)\n",
        "\n",
        "print(VaRsi)\n",
        "\n",
        "print(sum(Y0))"
      ],
      "metadata": {
        "colab": {
          "base_uri": "https://localhost:8080/"
        },
        "id": "2SLu5LbSAHPc",
        "outputId": "0761583f-c4da-4191-b3da-a99d3f3599d2"
      },
      "execution_count": null,
      "outputs": [
        {
          "output_type": "stream",
          "name": "stdout",
          "text": [
            "AAPL      -8193.309543\n",
            "AMZN    -758814.358453\n",
            "MSFT     -26925.092186\n",
            "SQ        -1109.632491\n",
            "Total   -809806.864573\n",
            "Name: 0.020000000000000018, dtype: float64\n",
            "[-8091.457725118351, -730799.392254062, -26566.717137969215, -1052.1554296586746, -777416.0683959855]\n",
            "17449600.073242188\n"
          ]
        }
      ]
    },
    {
      "cell_type": "markdown",
      "source": [
        "###Valor en Riesgo Condicional o \"Expected Shortfall\"\n",
        "\n",
        "Es el promedio de las pérdidas que son más severas que el Valor en Riesgo ($VaR_\\alpha$) a un $\\alpha$ de confianza, es decir:\n",
        "$$E(x|x\\le VaR_\\alpha)$$\n"
      ],
      "metadata": {
        "id": "o0ZOmnB_z5wL"
      }
    },
    {
      "cell_type": "code",
      "source": [
        "def VaR_Cond(x , VaR ):\n",
        "  return np.mean(x[x <= VaR])"
      ],
      "metadata": {
        "id": "FLd6lSMXA4pY"
      },
      "execution_count": null,
      "outputs": []
    },
    {
      "cell_type": "code",
      "source": [
        "\n",
        "VaR_C=[]\n",
        "\n",
        "for i in range(0,PL.shape[1]):\n",
        "  VC=VaR_Cond(PL.iloc[:,i],VaR[i])\n",
        "  VaR_C.append(VC)\n"
      ],
      "metadata": {
        "id": "W7ACgPC7ECw8"
      },
      "execution_count": null,
      "outputs": []
    },
    {
      "cell_type": "code",
      "source": [
        "\n",
        "print(VaR)\n",
        "print(VaR_C)\n",
        "\n",
        "pd.concat([VaR,pd.DataFrame(VaR_C).squeeze()], axis=1, ignore_index=True)"
      ],
      "metadata": {
        "colab": {
          "base_uri": "https://localhost:8080/",
          "height": 491
        },
        "id": "i3rmVoZc0iwR",
        "outputId": "86920b9c-dad9-42da-9c92-5fc831d12f85"
      },
      "execution_count": null,
      "outputs": [
        {
          "output_type": "stream",
          "name": "stdout",
          "text": [
            "AAPL      -8193.309543\n",
            "AMZN    -758814.358453\n",
            "MSFT     -26925.092186\n",
            "SQ        -1109.632491\n",
            "Total   -809806.864573\n",
            "Name: 0.020000000000000018, dtype: float64\n",
            "[-12342.591980741228, -1012696.0297471011, -40780.820161650394, -1627.0165123262495, -1054330.3999173671]\n"
          ]
        },
        {
          "output_type": "execute_result",
          "data": {
            "text/plain": [
              "                   0             1\n",
              "AAPL    -8193.309543           NaN\n",
              "AMZN  -758814.358453           NaN\n",
              "MSFT   -26925.092186           NaN\n",
              "SQ      -1109.632491           NaN\n",
              "Total -809806.864573           NaN\n",
              "0                NaN -1.234259e+04\n",
              "1                NaN -1.012696e+06\n",
              "2                NaN -4.078082e+04\n",
              "3                NaN -1.627017e+03\n",
              "4                NaN -1.054330e+06"
            ],
            "text/html": [
              "\n",
              "  <div id=\"df-25fca9b2-f9d4-49d7-91a5-ae2904e718fc\">\n",
              "    <div class=\"colab-df-container\">\n",
              "      <div>\n",
              "<style scoped>\n",
              "    .dataframe tbody tr th:only-of-type {\n",
              "        vertical-align: middle;\n",
              "    }\n",
              "\n",
              "    .dataframe tbody tr th {\n",
              "        vertical-align: top;\n",
              "    }\n",
              "\n",
              "    .dataframe thead th {\n",
              "        text-align: right;\n",
              "    }\n",
              "</style>\n",
              "<table border=\"1\" class=\"dataframe\">\n",
              "  <thead>\n",
              "    <tr style=\"text-align: right;\">\n",
              "      <th></th>\n",
              "      <th>0</th>\n",
              "      <th>1</th>\n",
              "    </tr>\n",
              "  </thead>\n",
              "  <tbody>\n",
              "    <tr>\n",
              "      <th>AAPL</th>\n",
              "      <td>-8193.309543</td>\n",
              "      <td>NaN</td>\n",
              "    </tr>\n",
              "    <tr>\n",
              "      <th>AMZN</th>\n",
              "      <td>-758814.358453</td>\n",
              "      <td>NaN</td>\n",
              "    </tr>\n",
              "    <tr>\n",
              "      <th>MSFT</th>\n",
              "      <td>-26925.092186</td>\n",
              "      <td>NaN</td>\n",
              "    </tr>\n",
              "    <tr>\n",
              "      <th>SQ</th>\n",
              "      <td>-1109.632491</td>\n",
              "      <td>NaN</td>\n",
              "    </tr>\n",
              "    <tr>\n",
              "      <th>Total</th>\n",
              "      <td>-809806.864573</td>\n",
              "      <td>NaN</td>\n",
              "    </tr>\n",
              "    <tr>\n",
              "      <th>0</th>\n",
              "      <td>NaN</td>\n",
              "      <td>-1.234259e+04</td>\n",
              "    </tr>\n",
              "    <tr>\n",
              "      <th>1</th>\n",
              "      <td>NaN</td>\n",
              "      <td>-1.012696e+06</td>\n",
              "    </tr>\n",
              "    <tr>\n",
              "      <th>2</th>\n",
              "      <td>NaN</td>\n",
              "      <td>-4.078082e+04</td>\n",
              "    </tr>\n",
              "    <tr>\n",
              "      <th>3</th>\n",
              "      <td>NaN</td>\n",
              "      <td>-1.627017e+03</td>\n",
              "    </tr>\n",
              "    <tr>\n",
              "      <th>4</th>\n",
              "      <td>NaN</td>\n",
              "      <td>-1.054330e+06</td>\n",
              "    </tr>\n",
              "  </tbody>\n",
              "</table>\n",
              "</div>\n",
              "      <button class=\"colab-df-convert\" onclick=\"convertToInteractive('df-25fca9b2-f9d4-49d7-91a5-ae2904e718fc')\"\n",
              "              title=\"Convert this dataframe to an interactive table.\"\n",
              "              style=\"display:none;\">\n",
              "        \n",
              "  <svg xmlns=\"http://www.w3.org/2000/svg\" height=\"24px\"viewBox=\"0 0 24 24\"\n",
              "       width=\"24px\">\n",
              "    <path d=\"M0 0h24v24H0V0z\" fill=\"none\"/>\n",
              "    <path d=\"M18.56 5.44l.94 2.06.94-2.06 2.06-.94-2.06-.94-.94-2.06-.94 2.06-2.06.94zm-11 1L8.5 8.5l.94-2.06 2.06-.94-2.06-.94L8.5 2.5l-.94 2.06-2.06.94zm10 10l.94 2.06.94-2.06 2.06-.94-2.06-.94-.94-2.06-.94 2.06-2.06.94z\"/><path d=\"M17.41 7.96l-1.37-1.37c-.4-.4-.92-.59-1.43-.59-.52 0-1.04.2-1.43.59L10.3 9.45l-7.72 7.72c-.78.78-.78 2.05 0 2.83L4 21.41c.39.39.9.59 1.41.59.51 0 1.02-.2 1.41-.59l7.78-7.78 2.81-2.81c.8-.78.8-2.07 0-2.86zM5.41 20L4 18.59l7.72-7.72 1.47 1.35L5.41 20z\"/>\n",
              "  </svg>\n",
              "      </button>\n",
              "      \n",
              "  <style>\n",
              "    .colab-df-container {\n",
              "      display:flex;\n",
              "      flex-wrap:wrap;\n",
              "      gap: 12px;\n",
              "    }\n",
              "\n",
              "    .colab-df-convert {\n",
              "      background-color: #E8F0FE;\n",
              "      border: none;\n",
              "      border-radius: 50%;\n",
              "      cursor: pointer;\n",
              "      display: none;\n",
              "      fill: #1967D2;\n",
              "      height: 32px;\n",
              "      padding: 0 0 0 0;\n",
              "      width: 32px;\n",
              "    }\n",
              "\n",
              "    .colab-df-convert:hover {\n",
              "      background-color: #E2EBFA;\n",
              "      box-shadow: 0px 1px 2px rgba(60, 64, 67, 0.3), 0px 1px 3px 1px rgba(60, 64, 67, 0.15);\n",
              "      fill: #174EA6;\n",
              "    }\n",
              "\n",
              "    [theme=dark] .colab-df-convert {\n",
              "      background-color: #3B4455;\n",
              "      fill: #D2E3FC;\n",
              "    }\n",
              "\n",
              "    [theme=dark] .colab-df-convert:hover {\n",
              "      background-color: #434B5C;\n",
              "      box-shadow: 0px 1px 3px 1px rgba(0, 0, 0, 0.15);\n",
              "      filter: drop-shadow(0px 1px 2px rgba(0, 0, 0, 0.3));\n",
              "      fill: #FFFFFF;\n",
              "    }\n",
              "  </style>\n",
              "\n",
              "      <script>\n",
              "        const buttonEl =\n",
              "          document.querySelector('#df-25fca9b2-f9d4-49d7-91a5-ae2904e718fc button.colab-df-convert');\n",
              "        buttonEl.style.display =\n",
              "          google.colab.kernel.accessAllowed ? 'block' : 'none';\n",
              "\n",
              "        async function convertToInteractive(key) {\n",
              "          const element = document.querySelector('#df-25fca9b2-f9d4-49d7-91a5-ae2904e718fc');\n",
              "          const dataTable =\n",
              "            await google.colab.kernel.invokeFunction('convertToInteractive',\n",
              "                                                     [key], {});\n",
              "          if (!dataTable) return;\n",
              "\n",
              "          const docLinkHtml = 'Like what you see? Visit the ' +\n",
              "            '<a target=\"_blank\" href=https://colab.research.google.com/notebooks/data_table.ipynb>data table notebook</a>'\n",
              "            + ' to learn more about interactive tables.';\n",
              "          element.innerHTML = '';\n",
              "          dataTable['output_type'] = 'display_data';\n",
              "          await google.colab.output.renderOutput(dataTable, element);\n",
              "          const docLink = document.createElement('div');\n",
              "          docLink.innerHTML = docLinkHtml;\n",
              "          element.appendChild(docLink);\n",
              "        }\n",
              "      </script>\n",
              "    </div>\n",
              "  </div>\n",
              "  "
            ]
          },
          "metadata": {},
          "execution_count": 12
        }
      ]
    },
    {
      "cell_type": "code",
      "source": [
        "def ExponentialWeighted(primer, num_esc):\n",
        "  return [primer*((1-primer)**i) for i in range(num_esc)]"
      ],
      "metadata": {
        "id": "oZMgcsbK0RTH"
      },
      "execution_count": null,
      "outputs": []
    },
    {
      "cell_type": "markdown",
      "source": [
        "Sirve para generar el VaR con alisado"
      ],
      "metadata": {
        "id": "L9OYFJ5H2dq8"
      }
    },
    {
      "cell_type": "code",
      "source": [
        "PL.dropna(inplace = True)\n",
        "PL.head()"
      ],
      "metadata": {
        "id": "wlre0BbD2Hvq",
        "outputId": "6676517e-bd9d-4c43-e4e6-6d16f974869d",
        "colab": {
          "base_uri": "https://localhost:8080/",
          "height": 237
        }
      },
      "execution_count": null,
      "outputs": [
        {
          "output_type": "execute_result",
          "data": {
            "text/plain": [
              "                   AAPL           AMZN         MSFT          SQ          Total\n",
              "Date                                                                          \n",
              "2020-01-03 -1728.286296 -201873.622316 -7816.212051 -182.176497 -211600.297160\n",
              "2020-01-06  1416.514987  247548.851123  1622.541260  -95.623882  250492.283488\n",
              "2020-01-07  -836.060514   34782.788937 -5723.398408  452.295898   28675.625913\n",
              "2020-01-08  2859.659535 -129858.739478  9998.563650  652.889521 -116347.626772\n",
              "2020-01-09  3775.979591   79812.370414  7842.088638   68.392396   91498.831039"
            ],
            "text/html": [
              "\n",
              "  <div id=\"df-11fcf56e-067f-4c03-a65a-6f186e967b92\">\n",
              "    <div class=\"colab-df-container\">\n",
              "      <div>\n",
              "<style scoped>\n",
              "    .dataframe tbody tr th:only-of-type {\n",
              "        vertical-align: middle;\n",
              "    }\n",
              "\n",
              "    .dataframe tbody tr th {\n",
              "        vertical-align: top;\n",
              "    }\n",
              "\n",
              "    .dataframe thead th {\n",
              "        text-align: right;\n",
              "    }\n",
              "</style>\n",
              "<table border=\"1\" class=\"dataframe\">\n",
              "  <thead>\n",
              "    <tr style=\"text-align: right;\">\n",
              "      <th></th>\n",
              "      <th>AAPL</th>\n",
              "      <th>AMZN</th>\n",
              "      <th>MSFT</th>\n",
              "      <th>SQ</th>\n",
              "      <th>Total</th>\n",
              "    </tr>\n",
              "    <tr>\n",
              "      <th>Date</th>\n",
              "      <th></th>\n",
              "      <th></th>\n",
              "      <th></th>\n",
              "      <th></th>\n",
              "      <th></th>\n",
              "    </tr>\n",
              "  </thead>\n",
              "  <tbody>\n",
              "    <tr>\n",
              "      <th>2020-01-03</th>\n",
              "      <td>-1728.286296</td>\n",
              "      <td>-201873.622316</td>\n",
              "      <td>-7816.212051</td>\n",
              "      <td>-182.176497</td>\n",
              "      <td>-211600.297160</td>\n",
              "    </tr>\n",
              "    <tr>\n",
              "      <th>2020-01-06</th>\n",
              "      <td>1416.514987</td>\n",
              "      <td>247548.851123</td>\n",
              "      <td>1622.541260</td>\n",
              "      <td>-95.623882</td>\n",
              "      <td>250492.283488</td>\n",
              "    </tr>\n",
              "    <tr>\n",
              "      <th>2020-01-07</th>\n",
              "      <td>-836.060514</td>\n",
              "      <td>34782.788937</td>\n",
              "      <td>-5723.398408</td>\n",
              "      <td>452.295898</td>\n",
              "      <td>28675.625913</td>\n",
              "    </tr>\n",
              "    <tr>\n",
              "      <th>2020-01-08</th>\n",
              "      <td>2859.659535</td>\n",
              "      <td>-129858.739478</td>\n",
              "      <td>9998.563650</td>\n",
              "      <td>652.889521</td>\n",
              "      <td>-116347.626772</td>\n",
              "    </tr>\n",
              "    <tr>\n",
              "      <th>2020-01-09</th>\n",
              "      <td>3775.979591</td>\n",
              "      <td>79812.370414</td>\n",
              "      <td>7842.088638</td>\n",
              "      <td>68.392396</td>\n",
              "      <td>91498.831039</td>\n",
              "    </tr>\n",
              "  </tbody>\n",
              "</table>\n",
              "</div>\n",
              "      <button class=\"colab-df-convert\" onclick=\"convertToInteractive('df-11fcf56e-067f-4c03-a65a-6f186e967b92')\"\n",
              "              title=\"Convert this dataframe to an interactive table.\"\n",
              "              style=\"display:none;\">\n",
              "        \n",
              "  <svg xmlns=\"http://www.w3.org/2000/svg\" height=\"24px\"viewBox=\"0 0 24 24\"\n",
              "       width=\"24px\">\n",
              "    <path d=\"M0 0h24v24H0V0z\" fill=\"none\"/>\n",
              "    <path d=\"M18.56 5.44l.94 2.06.94-2.06 2.06-.94-2.06-.94-.94-2.06-.94 2.06-2.06.94zm-11 1L8.5 8.5l.94-2.06 2.06-.94-2.06-.94L8.5 2.5l-.94 2.06-2.06.94zm10 10l.94 2.06.94-2.06 2.06-.94-2.06-.94-.94-2.06-.94 2.06-2.06.94z\"/><path d=\"M17.41 7.96l-1.37-1.37c-.4-.4-.92-.59-1.43-.59-.52 0-1.04.2-1.43.59L10.3 9.45l-7.72 7.72c-.78.78-.78 2.05 0 2.83L4 21.41c.39.39.9.59 1.41.59.51 0 1.02-.2 1.41-.59l7.78-7.78 2.81-2.81c.8-.78.8-2.07 0-2.86zM5.41 20L4 18.59l7.72-7.72 1.47 1.35L5.41 20z\"/>\n",
              "  </svg>\n",
              "      </button>\n",
              "      \n",
              "  <style>\n",
              "    .colab-df-container {\n",
              "      display:flex;\n",
              "      flex-wrap:wrap;\n",
              "      gap: 12px;\n",
              "    }\n",
              "\n",
              "    .colab-df-convert {\n",
              "      background-color: #E8F0FE;\n",
              "      border: none;\n",
              "      border-radius: 50%;\n",
              "      cursor: pointer;\n",
              "      display: none;\n",
              "      fill: #1967D2;\n",
              "      height: 32px;\n",
              "      padding: 0 0 0 0;\n",
              "      width: 32px;\n",
              "    }\n",
              "\n",
              "    .colab-df-convert:hover {\n",
              "      background-color: #E2EBFA;\n",
              "      box-shadow: 0px 1px 2px rgba(60, 64, 67, 0.3), 0px 1px 3px 1px rgba(60, 64, 67, 0.15);\n",
              "      fill: #174EA6;\n",
              "    }\n",
              "\n",
              "    [theme=dark] .colab-df-convert {\n",
              "      background-color: #3B4455;\n",
              "      fill: #D2E3FC;\n",
              "    }\n",
              "\n",
              "    [theme=dark] .colab-df-convert:hover {\n",
              "      background-color: #434B5C;\n",
              "      box-shadow: 0px 1px 3px 1px rgba(0, 0, 0, 0.15);\n",
              "      filter: drop-shadow(0px 1px 2px rgba(0, 0, 0, 0.3));\n",
              "      fill: #FFFFFF;\n",
              "    }\n",
              "  </style>\n",
              "\n",
              "      <script>\n",
              "        const buttonEl =\n",
              "          document.querySelector('#df-11fcf56e-067f-4c03-a65a-6f186e967b92 button.colab-df-convert');\n",
              "        buttonEl.style.display =\n",
              "          google.colab.kernel.accessAllowed ? 'block' : 'none';\n",
              "\n",
              "        async function convertToInteractive(key) {\n",
              "          const element = document.querySelector('#df-11fcf56e-067f-4c03-a65a-6f186e967b92');\n",
              "          const dataTable =\n",
              "            await google.colab.kernel.invokeFunction('convertToInteractive',\n",
              "                                                     [key], {});\n",
              "          if (!dataTable) return;\n",
              "\n",
              "          const docLinkHtml = 'Like what you see? Visit the ' +\n",
              "            '<a target=\"_blank\" href=https://colab.research.google.com/notebooks/data_table.ipynb>data table notebook</a>'\n",
              "            + ' to learn more about interactive tables.';\n",
              "          element.innerHTML = '';\n",
              "          dataTable['output_type'] = 'display_data';\n",
              "          await google.colab.output.renderOutput(dataTable, element);\n",
              "          const docLink = document.createElement('div');\n",
              "          docLink.innerHTML = docLinkHtml;\n",
              "          element.appendChild(docLink);\n",
              "        }\n",
              "      </script>\n",
              "    </div>\n",
              "  </div>\n",
              "  "
            ]
          },
          "metadata": {},
          "execution_count": 15
        }
      ]
    },
    {
      "cell_type": "code",
      "source": [
        "PL = PL.iloc[::-1]\n",
        "PL[\"Esc_SA\"] = ExponentialWeighted(0.05,PL.shape[0])"
      ],
      "metadata": {
        "id": "h0_ABDzH26oC"
      },
      "execution_count": null,
      "outputs": []
    },
    {
      "cell_type": "code",
      "source": [
        "PL.head()"
      ],
      "metadata": {
        "id": "WPftwBnZ3XmP",
        "outputId": "a1bb24cb-37f1-48ab-b269-fc6cfd647233",
        "colab": {
          "base_uri": "https://localhost:8080/",
          "height": 237
        }
      },
      "execution_count": null,
      "outputs": [
        {
          "output_type": "execute_result",
          "data": {
            "text/plain": [
              "                   AAPL           AMZN          MSFT          SQ  \\\n",
              "Date                                                               \n",
              "2022-03-30 -1182.089468 -296034.877785  -3084.802122 -643.062310   \n",
              "2022-03-29  3401.522222   31933.506724   9515.788806  884.500628   \n",
              "2022-03-28   895.366705  425609.735891  14510.690730  837.395912   \n",
              "2022-03-25   663.810036  114221.041465   -866.987212 -490.650409   \n",
              "2022-03-24  4031.445261   24577.953606   9662.423188  -35.179831   \n",
              "\n",
              "                    Total    Esc_SA  \n",
              "Date                                 \n",
              "2022-03-30 -300944.831684  0.050000  \n",
              "2022-03-29   45735.318379  0.047500  \n",
              "2022-03-28  441853.189237  0.045125  \n",
              "2022-03-25  113527.213879  0.042869  \n",
              "2022-03-24   38236.642225  0.040725  "
            ],
            "text/html": [
              "\n",
              "  <div id=\"df-d18e493c-774c-4804-aeb4-69b14ec18d33\">\n",
              "    <div class=\"colab-df-container\">\n",
              "      <div>\n",
              "<style scoped>\n",
              "    .dataframe tbody tr th:only-of-type {\n",
              "        vertical-align: middle;\n",
              "    }\n",
              "\n",
              "    .dataframe tbody tr th {\n",
              "        vertical-align: top;\n",
              "    }\n",
              "\n",
              "    .dataframe thead th {\n",
              "        text-align: right;\n",
              "    }\n",
              "</style>\n",
              "<table border=\"1\" class=\"dataframe\">\n",
              "  <thead>\n",
              "    <tr style=\"text-align: right;\">\n",
              "      <th></th>\n",
              "      <th>AAPL</th>\n",
              "      <th>AMZN</th>\n",
              "      <th>MSFT</th>\n",
              "      <th>SQ</th>\n",
              "      <th>Total</th>\n",
              "      <th>Esc_SA</th>\n",
              "    </tr>\n",
              "    <tr>\n",
              "      <th>Date</th>\n",
              "      <th></th>\n",
              "      <th></th>\n",
              "      <th></th>\n",
              "      <th></th>\n",
              "      <th></th>\n",
              "      <th></th>\n",
              "    </tr>\n",
              "  </thead>\n",
              "  <tbody>\n",
              "    <tr>\n",
              "      <th>2022-03-30</th>\n",
              "      <td>-1182.089468</td>\n",
              "      <td>-296034.877785</td>\n",
              "      <td>-3084.802122</td>\n",
              "      <td>-643.062310</td>\n",
              "      <td>-300944.831684</td>\n",
              "      <td>0.050000</td>\n",
              "    </tr>\n",
              "    <tr>\n",
              "      <th>2022-03-29</th>\n",
              "      <td>3401.522222</td>\n",
              "      <td>31933.506724</td>\n",
              "      <td>9515.788806</td>\n",
              "      <td>884.500628</td>\n",
              "      <td>45735.318379</td>\n",
              "      <td>0.047500</td>\n",
              "    </tr>\n",
              "    <tr>\n",
              "      <th>2022-03-28</th>\n",
              "      <td>895.366705</td>\n",
              "      <td>425609.735891</td>\n",
              "      <td>14510.690730</td>\n",
              "      <td>837.395912</td>\n",
              "      <td>441853.189237</td>\n",
              "      <td>0.045125</td>\n",
              "    </tr>\n",
              "    <tr>\n",
              "      <th>2022-03-25</th>\n",
              "      <td>663.810036</td>\n",
              "      <td>114221.041465</td>\n",
              "      <td>-866.987212</td>\n",
              "      <td>-490.650409</td>\n",
              "      <td>113527.213879</td>\n",
              "      <td>0.042869</td>\n",
              "    </tr>\n",
              "    <tr>\n",
              "      <th>2022-03-24</th>\n",
              "      <td>4031.445261</td>\n",
              "      <td>24577.953606</td>\n",
              "      <td>9662.423188</td>\n",
              "      <td>-35.179831</td>\n",
              "      <td>38236.642225</td>\n",
              "      <td>0.040725</td>\n",
              "    </tr>\n",
              "  </tbody>\n",
              "</table>\n",
              "</div>\n",
              "      <button class=\"colab-df-convert\" onclick=\"convertToInteractive('df-d18e493c-774c-4804-aeb4-69b14ec18d33')\"\n",
              "              title=\"Convert this dataframe to an interactive table.\"\n",
              "              style=\"display:none;\">\n",
              "        \n",
              "  <svg xmlns=\"http://www.w3.org/2000/svg\" height=\"24px\"viewBox=\"0 0 24 24\"\n",
              "       width=\"24px\">\n",
              "    <path d=\"M0 0h24v24H0V0z\" fill=\"none\"/>\n",
              "    <path d=\"M18.56 5.44l.94 2.06.94-2.06 2.06-.94-2.06-.94-.94-2.06-.94 2.06-2.06.94zm-11 1L8.5 8.5l.94-2.06 2.06-.94-2.06-.94L8.5 2.5l-.94 2.06-2.06.94zm10 10l.94 2.06.94-2.06 2.06-.94-2.06-.94-.94-2.06-.94 2.06-2.06.94z\"/><path d=\"M17.41 7.96l-1.37-1.37c-.4-.4-.92-.59-1.43-.59-.52 0-1.04.2-1.43.59L10.3 9.45l-7.72 7.72c-.78.78-.78 2.05 0 2.83L4 21.41c.39.39.9.59 1.41.59.51 0 1.02-.2 1.41-.59l7.78-7.78 2.81-2.81c.8-.78.8-2.07 0-2.86zM5.41 20L4 18.59l7.72-7.72 1.47 1.35L5.41 20z\"/>\n",
              "  </svg>\n",
              "      </button>\n",
              "      \n",
              "  <style>\n",
              "    .colab-df-container {\n",
              "      display:flex;\n",
              "      flex-wrap:wrap;\n",
              "      gap: 12px;\n",
              "    }\n",
              "\n",
              "    .colab-df-convert {\n",
              "      background-color: #E8F0FE;\n",
              "      border: none;\n",
              "      border-radius: 50%;\n",
              "      cursor: pointer;\n",
              "      display: none;\n",
              "      fill: #1967D2;\n",
              "      height: 32px;\n",
              "      padding: 0 0 0 0;\n",
              "      width: 32px;\n",
              "    }\n",
              "\n",
              "    .colab-df-convert:hover {\n",
              "      background-color: #E2EBFA;\n",
              "      box-shadow: 0px 1px 2px rgba(60, 64, 67, 0.3), 0px 1px 3px 1px rgba(60, 64, 67, 0.15);\n",
              "      fill: #174EA6;\n",
              "    }\n",
              "\n",
              "    [theme=dark] .colab-df-convert {\n",
              "      background-color: #3B4455;\n",
              "      fill: #D2E3FC;\n",
              "    }\n",
              "\n",
              "    [theme=dark] .colab-df-convert:hover {\n",
              "      background-color: #434B5C;\n",
              "      box-shadow: 0px 1px 3px 1px rgba(0, 0, 0, 0.15);\n",
              "      filter: drop-shadow(0px 1px 2px rgba(0, 0, 0, 0.3));\n",
              "      fill: #FFFFFF;\n",
              "    }\n",
              "  </style>\n",
              "\n",
              "      <script>\n",
              "        const buttonEl =\n",
              "          document.querySelector('#df-d18e493c-774c-4804-aeb4-69b14ec18d33 button.colab-df-convert');\n",
              "        buttonEl.style.display =\n",
              "          google.colab.kernel.accessAllowed ? 'block' : 'none';\n",
              "\n",
              "        async function convertToInteractive(key) {\n",
              "          const element = document.querySelector('#df-d18e493c-774c-4804-aeb4-69b14ec18d33');\n",
              "          const dataTable =\n",
              "            await google.colab.kernel.invokeFunction('convertToInteractive',\n",
              "                                                     [key], {});\n",
              "          if (!dataTable) return;\n",
              "\n",
              "          const docLinkHtml = 'Like what you see? Visit the ' +\n",
              "            '<a target=\"_blank\" href=https://colab.research.google.com/notebooks/data_table.ipynb>data table notebook</a>'\n",
              "            + ' to learn more about interactive tables.';\n",
              "          element.innerHTML = '';\n",
              "          dataTable['output_type'] = 'display_data';\n",
              "          await google.colab.output.renderOutput(dataTable, element);\n",
              "          const docLink = document.createElement('div');\n",
              "          docLink.innerHTML = docLinkHtml;\n",
              "          element.appendChild(docLink);\n",
              "        }\n",
              "      </script>\n",
              "    </div>\n",
              "  </div>\n",
              "  "
            ]
          },
          "metadata": {},
          "execution_count": 29
        }
      ]
    },
    {
      "cell_type": "code",
      "source": [
        "# Comprobar que sume 1\n",
        "PL.Esc_SA.sum()"
      ],
      "metadata": {
        "id": "2fSLnXJA4prO",
        "outputId": "1b4e8500-5610-4b37-ddf9-7f404fe8d452",
        "colab": {
          "base_uri": "https://localhost:8080/"
        }
      },
      "execution_count": null,
      "outputs": [
        {
          "output_type": "execute_result",
          "data": {
            "text/plain": [
              "0.9999999999997397"
            ]
          },
          "metadata": {},
          "execution_count": 30
        }
      ]
    },
    {
      "cell_type": "code",
      "source": [
        "def VaR_SA(x,P,alpha):\n",
        "  aux = pd.DataFrame({\"X\":x, \"Proba\":P})\n",
        "  # Hacer un OrderBy X,Proba\n",
        "  # Hacer aux[\"Proba\"].cumsum()\n",
        "  # Hacer un Where para encontrar el mínimo que sea menor que alpha\n",
        "  return # X t.q. alcance el alpha"
      ],
      "metadata": {
        "id": "QHYFVw7J42uz"
      },
      "execution_count": null,
      "outputs": []
    }
  ]
}