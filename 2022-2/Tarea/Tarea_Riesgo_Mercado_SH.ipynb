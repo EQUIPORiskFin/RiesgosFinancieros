{
  "nbformat": 4,
  "nbformat_minor": 0,
  "metadata": {
    "colab": {
      "name": "Tarea Riesgo Mercado SH.ipynb",
      "provenance": [],
      "authorship_tag": "ABX9TyNj3sk/8eItbac7LZIQVkze",
      "include_colab_link": true
    },
    "kernelspec": {
      "name": "python3",
      "display_name": "Python 3"
    }
  },
  "cells": [
    {
      "cell_type": "markdown",
      "metadata": {
        "id": "view-in-github",
        "colab_type": "text"
      },
      "source": [
        "<a href=\"https://colab.research.google.com/github/pikey-msc/RiesgosFinancieros/blob/master/2020-2/Tarea/Tarea_Riesgo_Mercado_SH.ipynb\" target=\"_parent\"><img src=\"https://colab.research.google.com/assets/colab-badge.svg\" alt=\"Open In Colab\"/></a>"
      ]
    },
    {
      "cell_type": "markdown",
      "metadata": {
        "colab_type": "text",
        "id": "Uo17TD88FJCS"
      },
      "source": [
        "#Tarea 1. Riesgo de Mercado\n",
        "\n",
        "###1.  Calcular el VaR y CVaR a un día por los métodos Simulación histórica con y sin alisado. Tomar como día de valoración el 28 de Febrero de 2020.\n",
        "*   1000 acciones de GCarso,  -5000 de America Móvil y 1200 WalMart. *Todas de la BMV*.\n",
        "*    1500 dólares (peso dólar), 700 euros, y -600 libras esterlinas.\n",
        "*   2 bonos largos, uno cupón cero de cetes (con la curva guber) con nocional de 1500 vencimiento de 180 días, un bono M con tasa fija de 6.5$\\%$ con un cupon de 2.5$\\%$ anual vencimiento de 3600 días y un bono corto 1000 bondes con plazo 707 con cupón que paga 28 días  (calcular cupón basado en curva de fondeo y descontar con la curva correspondiente).\n",
        "*   100 contratos de compra de futuros de peso dólar con un strike de 19.83 vencimiento de 5 días, y 50 contratos de venta de futuros del IPC con strike de 49525 vencimiento de 53 días.\n",
        "*   Un swap largo con nocional de 1600 pagando tasa fija de 5.2$\\%$ anual (cada 28 días) y recibiendo tasa flotante de la curva TIIE vencimiento de 588 días, un swap corto con nocional de 1200 pagando tasa variable de la TIIE y recibiendo fija de 4.9$\\%$ vencimiento de 270 días.\n",
        "*   Dos opciones europeas, una de tasa de interés larga call con strike de 9.4 $\\%$ vencimiento de 1700 días 1000 contratos, y otra put larga de tasa de interés con strike de 8.9$\\%$ de la tiie nocional de 500 contratos vencimiento 700 días. (se valuará basado en las superficies de volatilidad si es in o out the money y en las curvas de tasa de interés TIIE o Pagarés).\n",
        "\n",
        "Se requiere que entreguen VaR marginal por instrumento, por factor de riesgo (+1 punto), por tipo de instrumento y obviamente el VaR y CVaR total, y hacer una breve interpretación de la comparación de VaRes y CVaRes.\n",
        "\n",
        "La interpolación para las tasas la pueden hacer por el método de la alambrada o interpolación lineal. Es necesario que se entreguen los archivos donde calcularon todo.\n",
        "\n",
        "Entregar liga a github donde pueda acceder al código y archivo de análisis de resultados.\n",
        "\n",
        "Revisar la página del curso para ver el formato de entrega de resultados. Documento entregado sin análisis no se revisa.\n",
        "\n",
        "*   Crear un programa en google colab (R o Python) para valorar portafolio de CCS peso mexicano - dólar, y que calcule el riesgo por simulación histórica (1.5 puntos extra).\n",
        "\n",
        "\n",
        "**Recomendaciones**\n",
        "\n",
        "*Generales* Alinear la información de insumos, es decir, definir un $n$ número de escenarios históricos igual para todos, la mejor forma de hacerlo es cruzar todos los insumos por fecha y quedarse con la intersección de todo, otra manera de hacerlo más \"casual\" es tomar la fecha mínima y la máxima de cada insumo y tomar la fecha mínima más reciente y la fecha máxima más vieja observada de todos los insumos, para así definir un intervalo de medición para todos los factores de riesgo.\n",
        "\n",
        "*Particulares:* Con respecto a Simulación Histórica, se puede obtener de cada instrumento el vector de pérdidas y ganancias con sus fechas y después unirlo para generar las medidas de riesgo del portafolio.\n",
        "\n",
        "Se pueden auxiliar de los programas que se les ha proporcionado en R para calcular el riesgo por distintos métodos, cualquier duda de cualquier cálculo nos pueden contactar en cualquier momento vía correo electrónico a la dirección c.miranda@ciencias.unam.mx.\n",
        "\n"
      ]
    }
  ]
}