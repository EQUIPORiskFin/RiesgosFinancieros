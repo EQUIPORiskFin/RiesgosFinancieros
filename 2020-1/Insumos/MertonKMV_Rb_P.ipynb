{
  "nbformat": 4,
  "nbformat_minor": 0,
  "metadata": {
    "kernelspec": {
      "display_name": "R",
      "language": "R",
      "name": "ir"
    },
    "language_info": {
      "codemirror_mode": "r",
      "file_extension": ".r",
      "mimetype": "text/x-r-source",
      "name": "R",
      "pygments_lexer": "r",
      "version": "3.3.1"
    },
    "colab": {
      "name": "MertonKMV_R.ipynb",
      "provenance": [],
      "collapsed_sections": [],
      "include_colab_link": true
    },
    "accelerator": "GPU"
  },
  "cells": [
    {
      "cell_type": "markdown",
      "metadata": {
        "id": "view-in-github",
        "colab_type": "text"
      },
      "source": [
        "<a href=\"https://colab.research.google.com/github/pikey-msc/RiesgosFinancieros/blob/master/2020-1/Insumos/MertonKMV_Rb_P.ipynb\" target=\"_parent\"><img src=\"https://colab.research.google.com/assets/colab-badge.svg\" alt=\"Open In Colab\"/></a>"
      ]
    },
    {
      "cell_type": "markdown",
      "metadata": {
        "id": "dPEF1ujr7wvM"
      },
      "source": [
        "Paso de carga de librerías en R de todas las que se utilizarán"
      ]
    },
    {
      "cell_type": "code",
      "metadata": {
        "id": "57AsDOlcRWL9",
        "colab": {
          "base_uri": "https://localhost:8080/"
        },
        "outputId": "720ebe35-98f2-4e63-ac3d-10471299da59"
      },
      "source": [
        "install.packages(\"quantmod\")\n",
        "install.packages(\"curl\")\n",
        "install.packages(\"data.table\")\n",
        "install.packages(\"RCurl\")\n",
        "install.packages(\"bitops\")\n",
        "install.packages(\"setInternet2\")\n",
        "install.packages(\"rootSolve\")\n",
        "install.packages(\"xml2\")\n",
        "library(rootSolve)\n",
        "library(quantmod)\n",
        "library(RCurl)\n",
        "library(data.table)\n",
        "library(xml2)\n",
        "require(jsonlite) #para el getQuotes\n"
      ],
      "execution_count": 1,
      "outputs": [
        {
          "output_type": "stream",
          "text": [
            "Installing package into ‘/usr/local/lib/R/site-library’\n",
            "(as ‘lib’ is unspecified)\n",
            "\n",
            "also installing the dependencies ‘xts’, ‘zoo’, ‘TTR’\n",
            "\n",
            "\n",
            "Installing package into ‘/usr/local/lib/R/site-library’\n",
            "(as ‘lib’ is unspecified)\n",
            "\n",
            "Installing package into ‘/usr/local/lib/R/site-library’\n",
            "(as ‘lib’ is unspecified)\n",
            "\n",
            "Installing package into ‘/usr/local/lib/R/site-library’\n",
            "(as ‘lib’ is unspecified)\n",
            "\n",
            "also installing the dependency ‘bitops’\n",
            "\n",
            "\n",
            "Installing package into ‘/usr/local/lib/R/site-library’\n",
            "(as ‘lib’ is unspecified)\n",
            "\n",
            "Installing package into ‘/usr/local/lib/R/site-library’\n",
            "(as ‘lib’ is unspecified)\n",
            "\n",
            "Warning message:\n",
            "“package ‘setInternet2’ is not available for this version of R\n",
            "\n",
            "A version of this package for your version of R might be available elsewhere,\n",
            "see the ideas at\n",
            "https://cran.r-project.org/doc/manuals/r-patched/R-admin.html#Installing-packages”\n",
            "Installing package into ‘/usr/local/lib/R/site-library’\n",
            "(as ‘lib’ is unspecified)\n",
            "\n",
            "Installing package into ‘/usr/local/lib/R/site-library’\n",
            "(as ‘lib’ is unspecified)\n",
            "\n",
            "Loading required package: xts\n",
            "\n",
            "Loading required package: zoo\n",
            "\n",
            "\n",
            "Attaching package: ‘zoo’\n",
            "\n",
            "\n",
            "The following objects are masked from ‘package:base’:\n",
            "\n",
            "    as.Date, as.Date.numeric\n",
            "\n",
            "\n",
            "Loading required package: TTR\n",
            "\n",
            "Registered S3 method overwritten by 'quantmod':\n",
            "  method            from\n",
            "  as.zoo.data.frame zoo \n",
            "\n",
            "\n",
            "Attaching package: ‘data.table’\n",
            "\n",
            "\n",
            "The following objects are masked from ‘package:xts’:\n",
            "\n",
            "    first, last\n",
            "\n",
            "\n",
            "Loading required package: jsonlite\n",
            "\n"
          ],
          "name": "stderr"
        }
      ]
    },
    {
      "cell_type": "code",
      "metadata": {
        "id": "hmhB2TtvLFBw",
        "colab": {
          "base_uri": "https://localhost:8080/",
          "height": 228
        },
        "outputId": "4bc18612-5500-4cb8-fc97-414a506633a6"
      },
      "source": [
        "Symbols<-c  (\"WALMEX.MX\")#tienen que ir en orden alfabético\n",
        "length(Symbols)\n",
        "\n",
        "\n",
        "start_date=Sys.Date()-3660 #fecha inicial\n",
        "\n",
        "#Creación del objeto para guardar los datos\n",
        "dataEnv<-new.env()\n",
        "\n",
        "#obtener los datos\n",
        "getSymbols.yahoo(Symbols,env=dataEnv,from=start_date)\n",
        "\n",
        "\n",
        "#limpiarlos, alinearnos y quedarnos con el precio de cierre \n",
        "\n",
        "\n",
        "\n",
        "#muestra de datos\n",
        "#Nos quedamos con los precios\n",
        "stock_prices = na.omit(dataEnv$`WALMEX.MX`)\n",
        "stock_prices=stock_prices[,4] #Close\n",
        "tail(stock_prices[,])\n"
      ],
      "execution_count": 2,
      "outputs": [
        {
          "output_type": "display_data",
          "data": {
            "text/plain": [
              "[1] 1"
            ],
            "text/latex": "1",
            "text/markdown": "1",
            "text/html": [
              "1"
            ]
          },
          "metadata": {
            "tags": []
          }
        },
        {
          "output_type": "stream",
          "text": [
            "Warning message:\n",
            "“WALMEX.MX contains missing values. Some functions will not work if objects contain missing values in the middle of the series. Consider using na.omit(), na.approx(), na.fill(), etc to remove or replace them.”\n"
          ],
          "name": "stderr"
        },
        {
          "output_type": "display_data",
          "data": {
            "text/plain": [
              "[1] \"WALMEX.MX\""
            ],
            "text/latex": "'WALMEX.MX'",
            "text/markdown": "'WALMEX.MX'",
            "text/html": [
              "'WALMEX.MX'"
            ]
          },
          "metadata": {
            "tags": []
          }
        },
        {
          "output_type": "display_data",
          "data": {
            "text/plain": [
              "           WALMEX.MX.Close\n",
              "2021-01-07           58.71\n",
              "2021-01-08           60.75\n",
              "2021-01-11           60.92\n",
              "2021-01-12           61.75\n",
              "2021-01-13           63.19\n",
              "2021-01-14           64.51"
            ]
          },
          "metadata": {
            "tags": []
          }
        }
      ]
    },
    {
      "cell_type": "markdown",
      "metadata": {
        "id": "IjUGLFfeA3Ty"
      },
      "source": [
        "Se deja el código de \"webscrapping\" hay que arreglarlo"
      ]
    },
    {
      "cell_type": "code",
      "metadata": {
        "id": "hQ_Vf4r2LMD-",
        "colab": {
          "base_uri": "https://localhost:8080/",
          "height": 637
        },
        "outputId": "ccf16028-5e4d-4931-b016-8f9817ae41e2"
      },
      "source": [
        "\n",
        "#PARA CARGAR EL NÚMERO DE ACCIONES EN VENTA\n",
        "\n",
        "getQuote <- function(ticks) {\n",
        "  qRoot <- \"https://query1.finance.yahoo.com/v7/finance/quote?fields=symbol,longName,regularMarketPrice,regularMarketChange,regularMarketTime,sharesOutstanding,bookValue&formatted=false&symbols=\"\n",
        "  z <- fromJSON(paste(qRoot, paste(ticks, collapse=\",\"), sep=\"\"))\n",
        "  z <- z$quoteResponse$result[,c(\"symbol\", \"regularMarketTime\", \"regularMarketPrice\", \"regularMarketChange\", \"longName\", \"sharesOutstanding\", \"bookValue\" )]\n",
        "  row.names(z) <- z$symbol\n",
        "  z$symbol <- NULL\n",
        "  names(z) <- c(\"Time\", \"Price\", \"Change\", \"Name\", \"Numeroacciones\", \"valorlibros\")\n",
        "  z$Time <- as.POSIXct(z$Time, origin = '1970-01-01 00:00:00')\n",
        "  return(z)\n",
        "}\n",
        "\n",
        "\n",
        "ticks=Symbols\n",
        "\n",
        "stqt=getQuote(Symbols)\n",
        "\n",
        "\n",
        "#PARA CARGAR LOS ESTADOS FINANCIEROS Y FLUJOS DE EFECTIVO\n",
        "url <- \"https://finance.yahoo.com/quote/\"\n",
        "stock=Symbols\n",
        "# scrapy_stocks <- function(stock){\n",
        "  if (\"rvest\" %in% installed.packages()) {\n",
        "    library(rvest)\n",
        "  }else{\n",
        "    install.packages(\"rvest\")\n",
        "    library(rvest)\n",
        "  }\n",
        "  for (i in 1:length(stock)) {\n",
        "    tryCatch(\n",
        "      {\n",
        "        # Income Statement\n",
        "        financial <- paste0(url,stock[i],\"/financials?p=\",stock[i])\n",
        "        wahis.session <- html_session(financial)                                \n",
        "        p <-    wahis.session %>% \n",
        "          html_nodes(xpath = '//*[@id=\"Col1-1-Financials-Proxy\"]/section/div[4]/div[1]/div[1]/div[2]') %>%\n",
        "          .[[1]] %>% html_children() %>% html_nodes(\"div\")\n",
        "        suppressWarnings(Values <- p[sapply(p, function(x){length(x %>% html_attrs())}) == 3] %>% \n",
        "                           html_text() %>% gsub(pattern = \",\",replacement = \"\") %>% \n",
        "                           gsub(pattern = \"-\",replacement = 0) %>% as.numeric()) \n",
        "        Headers <- wahis.session %>% \n",
        "          html_nodes(xpath = '//*[@id=\"Col1-1-Financials-Proxy\"]/section/div[4]/div[1]/div[1]') %>% \n",
        "          .[[1]] %>% html_nodes(\"span\") %>% html_text() %>% head()\n",
        "        Concepts <- p[sapply(p, function(x){length(x %>% html_attrs())}) == 2] %>% html_text() %>% .[seq(2,88,4)]\n",
        "        print(Concepts)\n",
        "        # print(data.frame(Breakdown = Concepts[-c(3,6,9,12,15,18,21)], matrix(Values[!is.na(Values)], ncol = 1, byrow = T)))\n",
        "        print(data.frame(Breakdown = Concepts[-c(2,5,8,11,14,17,20)], matrix(Values[!is.na(Values)], ncol = 1, byrow = T)))\n",
        "        IS <- data.frame(Breakdown = Concepts[-c(4,16,18)], matrix(Values[!is.na(Values)], ncol = 5, byrow = T))\n",
        "        names(IS) <- Headers\n",
        "        temp1 <- IS\n",
        "        \n",
        "        # Balance Sheet\n",
        "        bsheet <- paste0(url,stock[i],\"/balance-sheet?p=\",stock[i])\n",
        "        wahis.session <- html_session(bsheet)\n",
        "        p <-    wahis.session %>% \n",
        "          html_nodes(xpath = '//*[@id=\"Col1-1-Financials-Proxy\"]/section/div[4]/div[1]/div[1]/div[2]') %>%\n",
        "          .[[1]] %>% html_children() %>% html_nodes(\"div\")\n",
        "        suppressWarnings(Values <- p[sapply(p, function(x){length(x %>% html_attrs())}) == 3] %>% \n",
        "                           html_text() %>% gsub(pattern = \",\",replacement = \"\") %>% gsub(pattern = \"-\",replacement = 0) %>% as.numeric()) \n",
        "        Headers <- wahis.session %>% \n",
        "          html_nodes(xpath = '//*[@id=\"Col1-1-Financials-Proxy\"]/section/div[4]/div[1]/div[1]') %>% \n",
        "          .[[1]] %>% html_nodes(\"span\") %>% html_text() %>% head(5)\n",
        "        Concepts <- p[sapply(p, function(x){length(x %>% html_attrs())}) == 2] %>% html_text() %>% .[seq(2,175,4)]\n",
        "        print(Concepts[10][1:2])\n",
        "        BS <- data.frame(Breakdown = Concepts[-c(1:3,11,12,22:24,32,39)], matrix(Values[!is.na(Values)], ncol = 4, byrow = T))\n",
        "        print(data.frame(Breakdown = Concepts[c(6)], matrix(Values[!is.na(Values)], ncol = 4, byrow = T)))\n",
        "        names(BS) <- Headers\n",
        "        temp2 <- BS\n",
        "        \n",
        "        # Cash flows\n",
        "        cash_f <- paste0(url,stock[i],\"/cash-flow?p=\",stock[i])\n",
        "        wahis.session <- html_session(cash_f)\n",
        "        p <-    wahis.session %>% \n",
        "          html_nodes(xpath = '//*[@id=\"Col1-1-Financials-Proxy\"]/section/div[4]/div[1]/div[1]/div[2]') %>%\n",
        "          .[[1]] %>% html_children() %>% html_nodes(\"div\")\n",
        "        suppressWarnings(Values <- p[sapply(p, function(x){length(x %>% html_attrs())}) == 3] %>% \n",
        "                           html_text() %>% gsub(pattern = \",\",replacement = \"\") %>% gsub(pattern = \"-\",replacement = 0) %>% as.numeric())\n",
        "        Headers <- wahis.session %>% \n",
        "          html_nodes(xpath = '//*[@id=\"Col1-1-Financials-Proxy\"]/section/div[4]/div[1]/div[1]') %>% \n",
        "          .[[1]] %>% html_nodes(\"span\") %>% html_text() %>% head()\n",
        "        Concepts <- p[sapply(p, function(x){length(x %>% html_attrs())}) == 2] %>% html_text() %>% .[seq(2,133,4)]\n",
        "        CF <- data.frame(Breakdown = Concepts[-c(1,13,20,30)], matrix(Values[!is.na(Values)], ncol = 5, byrow = T))\n",
        "        names(CF) <- Headers\n",
        "        temp3 <- CF\n",
        "        \n",
        "        # Shares Outstanding\n",
        "        stock_url <- paste0(url,stock[i],\"/key-statistics?p=\",stock[i])\n",
        "        SO <- html_session(stock_url) %>%\n",
        "          html_nodes(xpath = '//*[@id=\"Col1-0-KeyStatistics-Proxy\"]/section/div[2]/div[2]/div/div[2]/div/table/tbody/tr[3]/td[2]') %>% \n",
        "          html_text() %>% gsub(pattern = \"[A-z]\",replacement = \"\") %>% as.numeric()\n",
        "        temp4 <- SO\n",
        "        \n",
        "        assign(paste0(stock[i],'.f'),value = list(IS = temp1,BS = temp2,CF = temp3, SO = temp4),envir = parent.frame())\n",
        "        \n",
        "      },\n",
        "      error = function(cond){\n",
        "        message(stock[i], \"Give error \",cond)\n",
        "      }\n",
        "    )\n",
        "  }\n",
        "# }\n",
        "\n",
        "#stock=Symbols\n",
        "scrapy_stocks(Symbols) \n",
        "#attach(WALMEX.MX.f)\n",
        "#WALMEX.MX.f$BS\n",
        "#WALMEX.MX.f$IS\n",
        "#WALMEX.MX.f$CF\n",
        "BS\n"
      ],
      "execution_count": 29,
      "outputs": [
        {
          "output_type": "stream",
          "text": [
            " [1] \"Total Revenue\"                                                  \n",
            " [2] \"\"                                                               \n",
            " [3] \"Operating Expense103,038,16494,048,11792,396,72483,857,809\"     \n",
            " [4] \"Operating Income\"                                               \n",
            " [5] \"\"                                                               \n",
            " [6] \"Tax Provision15,526,38511,304,34712,107,12310,899,663\"          \n",
            " [7] \"Net Income Common Stockholders\"                                 \n",
            " [8] \"\"                                                               \n",
            " [9] \"Diluted EPS-0.00220.00210.0023\"                                 \n",
            "[10] \"Basic Average Shares\"                                           \n",
            "[11] \"\"                                                               \n",
            "[12] \"Rent Expense Supplemental-6,775,941--\"                          \n",
            "[13] \"Total Expenses\"                                                 \n",
            "[14] \"\"                                                               \n",
            "[15] \"Interest Income987,4991,218,6871,268,1221,052,093\"              \n",
            "[16] \"Interest Expense\"                                               \n",
            "[17] \"\"                                                               \n",
            "[18] \"EBITDA71,201,613---\"                                            \n",
            "[19] \"Reconciled Cost of Revenue\"                                     \n",
            "[20] \"\"                                                               \n",
            "[21] \"Total Unusual Items Excluding Goodwill64,55116,840-98,19615,695\"\n",
            "[22] \"Total Unusual Items\"                                            \n"
          ],
          "name": "stdout"
        },
        {
          "output_type": "stream",
          "text": [
            "WALMEX.MXGive error Error in data.frame(Breakdown = Concepts[-c(2, 5, 8, 11, 14, 17, 20)], : arguments imply differing number of rows: 15, 128\n",
            "\n",
            "\n",
            "Warning message in matrix(Values[!is.na(Values)], ncol = 5, byrow = T):\n",
            "“data length [128] is not a sub-multiple or multiple of the number of rows [26]”\n",
            "WALMEX.MXGive error Error in data.frame(Breakdown = Concepts[-c(4, 16, 19)], matrix(Values[!is.na(Values)], : arguments imply differing number of rows: 19, 26\n",
            "\n",
            "\n"
          ],
          "name": "stderr"
        },
        {
          "output_type": "error",
          "ename": "ERROR",
          "evalue": "ignored",
          "traceback": [
            "Error in eval(expr, envir, enclos): object 'BS' not found\nTraceback:\n"
          ]
        }
      ]
    },
    {
      "cell_type": "code",
      "metadata": {
        "id": "65qkZOkVjBR1",
        "colab": {
          "base_uri": "https://localhost:8080/",
          "height": 234
        },
        "outputId": "aa40f5a3-50a0-4b4d-ca2a-ba42ff3b6948"
      },
      "source": [
        "TSE <- \"Total stockholders' equity\" #Capital\n",
        "TL <- \"Total Liabilities\" #Deuda Actual\n",
        "#dt <- colnames(BS)[2] # ÚLTIMA FECHA DISPONIBLE\n",
        "dt=\"12/31/2019\"\n",
        "\n",
        "\n",
        "\n",
        "#K_0=BS[33,1]/1000 #Total Stockholder Equity VALOR DE LA EMPRESA\n",
        "#en millones https://finance.yahoo.com/quote/WALMEX.MX/balance-sheet?p=WALMEX.MX\n",
        "#Total stockholders' equity\n",
        "#En millones\n",
        "#K_0=BS[BS$Breakdown==TSE, dt]*1000/1000000\n",
        "K_0=168144767*1000/1000000\n",
        "#nrow(BS)\n",
        "#D_0=BS[24,1]/1000 #Total Liabilities DEUDA ACTUAL\n",
        "#En millones\n",
        "#D_0=BS[BS$Breakdown==TL, dt]*1000/1000000\n",
        "D_0=181027502*1000/1000000\n",
        "\n",
        "\n",
        "#Shares Outstanding (Se expresa en miles de millones en la página)\n",
        "#En millones\n",
        "#Numeroacciones=WALMEX.MX.f$SO*1000000000/1000000\n",
        "Numeroacciones=17.46*1000000000/1000000\n",
        "\n",
        "dt=strptime(dt, \"%m/%d/%Y\")\n",
        "dt=format(dt, \"%Y-%m\")\n",
        "dt\n",
        "#no esta sentencia entonces mi ultima fecha fue tanto \n",
        "n=nrow(stock_prices[paste(\"/\",dt,sep=\"\")]) #NUMERO DE FILAS A ANALIZAR PARA EL ÚLTIMO DATO\n",
        "\n",
        "A_0=stock_prices[paste(\"/\",dt,sep=\"\")][n] #valores actuales\n",
        "\n",
        "#A_0=A_0*stqt$Numeroacciones/1000000 #VALOR ACTUAL DE LAS ACCIONES VALOR DE ACCIÓN POR ACCIONES DISPONIBLES\n",
        "A_0=A_0*Numeroacciones #VALOR ACTUAL DE LAS ACCIONES VALOR DE ACCIÓN POR ACCIONES DISPONIBLES\n",
        "A_0/K_0\n",
        "\n",
        "A=stock_prices[paste(\"/\",dt,sep=\"\")]  #VECTOR DE PRECIOS \n",
        "\n",
        "vol_A=sqrt(var(log(as.matrix(A[2:n])/as.matrix(A[1:(n-1)]))))*sqrt(252) #VOLATILIDAD ANUAL\n",
        "\n",
        "#Valor del CETE\n",
        "r=0.0425\n",
        "T=1\n",
        "\n",
        "A_0\n",
        "K_0\n",
        "vol_A\n",
        "D_0\n",
        "r\n",
        "T\n"
      ],
      "execution_count": 3,
      "outputs": [
        {
          "output_type": "display_data",
          "data": {
            "text/plain": [
              "[1] \"2019-12\""
            ],
            "text/latex": "'2019-12'",
            "text/markdown": "'2019-12'",
            "text/html": [
              "'2019-12'"
            ]
          },
          "metadata": {
            "tags": []
          }
        },
        {
          "output_type": "display_data",
          "data": {
            "text/plain": [
              "           WALMEX.MX.Close\n",
              "2019-12-31        5.626002"
            ]
          },
          "metadata": {
            "tags": []
          }
        },
        {
          "output_type": "display_data",
          "data": {
            "text/plain": [
              "           WALMEX.MX.Close\n",
              "2019-12-31        945982.8"
            ]
          },
          "metadata": {
            "tags": []
          }
        },
        {
          "output_type": "display_data",
          "data": {
            "text/plain": [
              "[1] 168144.8"
            ],
            "text/latex": "168144.767",
            "text/markdown": "168144.767",
            "text/html": [
              "168144.767"
            ]
          },
          "metadata": {
            "tags": []
          }
        },
        {
          "output_type": "display_data",
          "data": {
            "text/plain": [
              "                WALMEX.MX.Close\n",
              "WALMEX.MX.Close 0.2407236      "
            ],
            "text/latex": "A matrix: 1 × 1 of type dbl\n\\begin{tabular}{r|l}\n  & WALMEX.MX.Close\\\\\n\\hline\n\tWALMEX.MX.Close & 0.2407236\\\\\n\\end{tabular}\n",
            "text/markdown": "\nA matrix: 1 × 1 of type dbl\n\n| <!--/--> | WALMEX.MX.Close |\n|---|---|\n| WALMEX.MX.Close | 0.2407236 |\n\n",
            "text/html": [
              "<table>\n",
              "<caption>A matrix: 1 × 1 of type dbl</caption>\n",
              "<thead>\n",
              "\t<tr><th></th><th scope=col>WALMEX.MX.Close</th></tr>\n",
              "</thead>\n",
              "<tbody>\n",
              "\t<tr><th scope=row>WALMEX.MX.Close</th><td>0.2407236</td></tr>\n",
              "</tbody>\n",
              "</table>\n"
            ]
          },
          "metadata": {
            "tags": []
          }
        },
        {
          "output_type": "display_data",
          "data": {
            "text/plain": [
              "[1] 181027.5"
            ],
            "text/latex": "181027.502",
            "text/markdown": "181027.502",
            "text/html": [
              "181027.502"
            ]
          },
          "metadata": {
            "tags": []
          }
        },
        {
          "output_type": "display_data",
          "data": {
            "text/plain": [
              "[1] 0.0425"
            ],
            "text/latex": "0.0425",
            "text/markdown": "0.0425",
            "text/html": [
              "0.0425"
            ]
          },
          "metadata": {
            "tags": []
          }
        },
        {
          "output_type": "display_data",
          "data": {
            "text/plain": [
              "[1] 1"
            ],
            "text/latex": "1",
            "text/markdown": "1",
            "text/html": [
              "1"
            ]
          },
          "metadata": {
            "tags": []
          }
        }
      ]
    },
    {
      "cell_type": "code",
      "metadata": {
        "id": "OfIx_-_BjwhK",
        "colab": {
          "base_uri": "https://localhost:8080/",
          "height": 251
        },
        "outputId": "766a8c9c-ddd6-401a-9d01-d4ed6589fc1f"
      },
      "source": [
        "x=c(D_0,vol_A)\n",
        "\n",
        "#Función para estimar vol_k y D\n",
        "G = function(x) \n",
        "{\n",
        "  vol_k <- x[2]\n",
        "  D <- x[1]\n",
        "  c(A_0-K_0*pnorm((log(K_0/D)+(r+0.5*vol_k^2)*T)/(vol_k*sqrt(T)))+D*exp(-r*T)*pnorm((log(K_0/D)+(r-0.5*vol_k^2)*T)/(vol_k*sqrt(T))),\n",
        "  A_0*vol_A-vol_k*K_0*pnorm((log(K_0/D)+(r+0.5*vol_k^2)*T)/(vol_k*sqrt(T))) )\n",
        "}\n",
        "\n",
        "#K_0=164370\n",
        "\n",
        "ss=multiroot(G,x,positive = TRUE) #RESOLVER EL SISTEMA.\n",
        "\n",
        "D=ss$root[1]\n",
        "vol_k=ss$root[2]\n",
        "print(\"Cociente de D/D_0\")\n",
        "ss$root[1]/D_0\n",
        "print(\"Cociente de vol_A/vol_K)\")\n",
        "vol_A/ss$root[2]\n",
        "print(\"Función G\")\n",
        "G(c(D,vol_k))\n",
        "\n",
        "#Probabilidad de incumplimiento\n",
        "PD_merton=1-pnorm((log(K_0/D)+(r+0.5*vol_k^2)*T)/(vol_k*sqrt(T)))\n",
        "PD_merton\n"
      ],
      "execution_count": 7,
      "outputs": [
        {
          "output_type": "stream",
          "text": [
            "Warning message in stode(y, times, func, parms = parms, ...):\n",
            "“steady-state not reached”\n"
          ],
          "name": "stderr"
        },
        {
          "output_type": "stream",
          "text": [
            "[1] \"Cociente de D/D_0\"\n"
          ],
          "name": "stdout"
        },
        {
          "output_type": "display_data",
          "data": {
            "text/plain": [
              "[1] 0"
            ],
            "text/latex": "0",
            "text/markdown": "0",
            "text/html": [
              "0"
            ]
          },
          "metadata": {
            "tags": []
          }
        },
        {
          "output_type": "stream",
          "text": [
            "[1] \"Cociente de vol_A/vol_K)\"\n"
          ],
          "name": "stdout"
        },
        {
          "output_type": "display_data",
          "data": {
            "text/plain": [
              "                WALMEX.MX.Close\n",
              "WALMEX.MX.Close 0.1777461      "
            ],
            "text/latex": "A matrix: 1 × 1 of type dbl\n\\begin{tabular}{r|l}\n  & WALMEX.MX.Close\\\\\n\\hline\n\tWALMEX.MX.Close & 0.1777461\\\\\n\\end{tabular}\n",
            "text/markdown": "\nA matrix: 1 × 1 of type dbl\n\n| <!--/--> | WALMEX.MX.Close |\n|---|---|\n| WALMEX.MX.Close | 0.1777461 |\n\n",
            "text/html": [
              "<table>\n",
              "<caption>A matrix: 1 × 1 of type dbl</caption>\n",
              "<thead>\n",
              "\t<tr><th></th><th scope=col>WALMEX.MX.Close</th></tr>\n",
              "</thead>\n",
              "<tbody>\n",
              "\t<tr><th scope=row>WALMEX.MX.Close</th><td>0.1777461</td></tr>\n",
              "</tbody>\n",
              "</table>\n"
            ]
          },
          "metadata": {
            "tags": []
          }
        },
        {
          "output_type": "stream",
          "text": [
            "[1] \"Función G\"\n"
          ],
          "name": "stdout"
        },
        {
          "output_type": "display_data",
          "data": {
            "text/plain": [
              "           WALMEX.MX.Close\n",
              "2019-12-31          777838\n",
              "2019-12-31               0"
            ]
          },
          "metadata": {
            "tags": []
          }
        },
        {
          "output_type": "display_data",
          "data": {
            "text/plain": [
              "[1] 0"
            ],
            "text/latex": "0",
            "text/markdown": "0",
            "text/html": [
              "0"
            ]
          },
          "metadata": {
            "tags": []
          }
        }
      ]
    },
    {
      "cell_type": "code",
      "metadata": {
        "id": "Ti2-oe_yF6Rd",
        "colab": {
          "base_uri": "https://localhost:8080/",
          "height": 364
        },
        "outputId": "013e4dea-82a7-421e-ac4f-13e12624d71e"
      },
      "source": [
        "#Sólo estimar la volatilidad dada la deuda\n",
        "#Probabilidad de Incumplimiento\n",
        "\n",
        "Vk = function(x) \n",
        "{\n",
        "  vol_k <- x\n",
        "  ((vol_k/vol_A)*(K_0/A_0))-pnorm((log(K_0/D)+(r+0.5*vol_k^2)*T)/(vol_k*sqrt(T)))\n",
        "}\n",
        "\n",
        "#Definir una Deuda\n",
        "D=D_0*1/2\n",
        "x=vol_A #semilla de la vol_k\n",
        "ss=multiroot(Vk,x,positive = TRUE) #RESOLVER EL SISTEMA.\n",
        "\n",
        "vol_k=ss$root\n",
        "print(\"Ratio vol_k/vol_A\")\n",
        "ss$root[1]/vol_A\n",
        "print(\"valor Vk bajo solución\")\n",
        "Vk(vol_k)\n",
        "\n",
        "PD_merton=1-pnorm((log(K_0/D)+(r+0.5*vol_k^2)*T)/(vol_k*sqrt(T)))\n",
        "\n",
        "print(\"Deuda estimada\")\n",
        "D\n",
        "print(\"Deuda sencilla\")\n",
        "D_0\n",
        "print(\"Vol estimada\")\n",
        "vol_k\n",
        "print(\"Vol semilla\")\n",
        "vol_A\n",
        "print(\"PD Merton\")\n",
        "PD_merton\n",
        "\n"
      ],
      "execution_count": 10,
      "outputs": [
        {
          "output_type": "stream",
          "text": [
            "[1] \"Ratio vol_k/vol_A\"\n"
          ],
          "name": "stdout"
        },
        {
          "output_type": "display_data",
          "data": {
            "text/plain": [
              "                WALMEX.MX.Close\n",
              "WALMEX.MX.Close 4.923513       "
            ],
            "text/latex": "A matrix: 1 × 1 of type dbl\n\\begin{tabular}{r|l}\n  & WALMEX.MX.Close\\\\\n\\hline\n\tWALMEX.MX.Close & 4.923513\\\\\n\\end{tabular}\n",
            "text/markdown": "\nA matrix: 1 × 1 of type dbl\n\n| <!--/--> | WALMEX.MX.Close |\n|---|---|\n| WALMEX.MX.Close | 4.923513 |\n\n",
            "text/html": [
              "<table>\n",
              "<caption>A matrix: 1 × 1 of type dbl</caption>\n",
              "<thead>\n",
              "\t<tr><th></th><th scope=col>WALMEX.MX.Close</th></tr>\n",
              "</thead>\n",
              "<tbody>\n",
              "\t<tr><th scope=row>WALMEX.MX.Close</th><td>4.923513</td></tr>\n",
              "</tbody>\n",
              "</table>\n"
            ]
          },
          "metadata": {
            "tags": []
          }
        },
        {
          "output_type": "stream",
          "text": [
            "[1] \"valor Vk bajo solución\"\n"
          ],
          "name": "stdout"
        },
        {
          "output_type": "display_data",
          "data": {
            "text/plain": [
              "           WALMEX.MX.Close\n",
              "2019-12-31   -1.852787e-08"
            ]
          },
          "metadata": {
            "tags": []
          }
        },
        {
          "output_type": "stream",
          "text": [
            "[1] \"Deuda estimada\"\n"
          ],
          "name": "stdout"
        },
        {
          "output_type": "display_data",
          "data": {
            "text/plain": [
              "[1] 90513.75"
            ],
            "text/latex": "90513.751",
            "text/markdown": "90513.751",
            "text/html": [
              "90513.751"
            ]
          },
          "metadata": {
            "tags": []
          }
        },
        {
          "output_type": "stream",
          "text": [
            "[1] \"Deuda sencilla\"\n"
          ],
          "name": "stdout"
        },
        {
          "output_type": "display_data",
          "data": {
            "text/plain": [
              "[1] 181027.5"
            ],
            "text/latex": "181027.502",
            "text/markdown": "181027.502",
            "text/html": [
              "181027.502"
            ]
          },
          "metadata": {
            "tags": []
          }
        },
        {
          "output_type": "stream",
          "text": [
            "[1] \"Vol estimada\"\n"
          ],
          "name": "stdout"
        },
        {
          "output_type": "display_data",
          "data": {
            "text/plain": [
              "[1] 1.185206"
            ],
            "text/latex": "1.18520576157876",
            "text/markdown": "1.18520576157876",
            "text/html": [
              "1.18520576157876"
            ]
          },
          "metadata": {
            "tags": []
          }
        },
        {
          "output_type": "stream",
          "text": [
            "[1] \"Vol semilla\"\n"
          ],
          "name": "stdout"
        },
        {
          "output_type": "display_data",
          "data": {
            "text/plain": [
              "                WALMEX.MX.Close\n",
              "WALMEX.MX.Close 0.2407236      "
            ],
            "text/latex": "A matrix: 1 × 1 of type dbl\n\\begin{tabular}{r|l}\n  & WALMEX.MX.Close\\\\\n\\hline\n\tWALMEX.MX.Close & 0.2407236\\\\\n\\end{tabular}\n",
            "text/markdown": "\nA matrix: 1 × 1 of type dbl\n\n| <!--/--> | WALMEX.MX.Close |\n|---|---|\n| WALMEX.MX.Close | 0.2407236 |\n\n",
            "text/html": [
              "<table>\n",
              "<caption>A matrix: 1 × 1 of type dbl</caption>\n",
              "<thead>\n",
              "\t<tr><th></th><th scope=col>WALMEX.MX.Close</th></tr>\n",
              "</thead>\n",
              "<tbody>\n",
              "\t<tr><th scope=row>WALMEX.MX.Close</th><td>0.2407236</td></tr>\n",
              "</tbody>\n",
              "</table>\n"
            ]
          },
          "metadata": {
            "tags": []
          }
        },
        {
          "output_type": "stream",
          "text": [
            "[1] \"PD Merton\"\n"
          ],
          "name": "stdout"
        },
        {
          "output_type": "display_data",
          "data": {
            "text/plain": [
              "[1] 0.1248647"
            ],
            "text/latex": "0.124864720681058",
            "text/markdown": "0.124864720681058",
            "text/html": [
              "0.124864720681058"
            ]
          },
          "metadata": {
            "tags": []
          }
        }
      ]
    },
    {
      "cell_type": "markdown",
      "metadata": {
        "id": "da5yHAtbkDLf"
      },
      "source": [
        "#KMV"
      ]
    },
    {
      "cell_type": "code",
      "metadata": {
        "id": "9wGFNTQukETk",
        "colab": {
          "base_uri": "https://localhost:8080/",
          "height": 537
        },
        "outputId": "f49783f1-b84f-469e-b115-3f1bbed625a9"
      },
      "source": [
        "print(\"A_0:\")\n",
        "A_0\n",
        "print(\"Valor de K_0\")\n",
        "K_0\n",
        "print(\"Valor de vol_A\")\n",
        "vol_A\n",
        "print(\"Valor de Deuda Actual\")\n",
        "D_0\n",
        "print(\"Tasa libre de riesgo\")\n",
        "r\n",
        "print(\"Temporalidad\")\n",
        "T\n",
        "\n",
        "\n",
        "#Función para estimar vol_k y K_0\n",
        "Gkmv = function(x) \n",
        "{\n",
        "  vol_k <- x[2]\n",
        "  K_0 <- x[1]\n",
        "  c(A_0-K_0*pnorm((log(K_0/D)+(r+0.5*vol_k^2)*T)/(vol_k*sqrt(T)))+D*exp(-r*T)*pnorm((log(K_0/D)+(r-0.5*vol_k^2)*T)/(vol_k*sqrt(T))),\n",
        "    A_0*vol_A-vol_k*K_0*pnorm((log(K_0/D)+(r+0.5*vol_k^2)*T)/(vol_k*sqrt(T))) )\n",
        "}\n",
        "\n",
        "D=D_0\n",
        "\n",
        "x=c(K_0,vol_A)\n",
        "\n",
        "ss=multiroot(Gkmv,x,positive = TRUE) #RESOLVER EL SISTEMA.\n",
        "\n",
        "K_e=ss$root[1]\n",
        "vol_k=ss$root[2]\n",
        "print(\"Cociente K_0/D_0\")\n",
        "K_e/D_0\n",
        "print(\"Cociente vol_K/vol_A\")\n",
        "ss$root[2]/vol_A\n",
        "print(\"Valor de solución en función:\")\n",
        "Gkmv(c(K_e,vol_k))\n",
        "\n",
        "DI=(K_e-D)/(vol_k*K_0)\n",
        "print(\"DI\")\n",
        "DI\n",
        "EDF=pnorm(-DI)\n",
        "print(\"EDF Normal\")\n",
        "EDF\n",
        " \n"
      ],
      "execution_count": 11,
      "outputs": [
        {
          "output_type": "stream",
          "text": [
            "[1] \"A_0:\"\n"
          ],
          "name": "stdout"
        },
        {
          "output_type": "display_data",
          "data": {
            "text/plain": [
              "           WALMEX.MX.Close\n",
              "2019-12-31        945982.8"
            ]
          },
          "metadata": {
            "tags": []
          }
        },
        {
          "output_type": "stream",
          "text": [
            "[1] \"Valor de K_0\"\n"
          ],
          "name": "stdout"
        },
        {
          "output_type": "display_data",
          "data": {
            "text/plain": [
              "[1] 168144.8"
            ],
            "text/latex": "168144.767",
            "text/markdown": "168144.767",
            "text/html": [
              "168144.767"
            ]
          },
          "metadata": {
            "tags": []
          }
        },
        {
          "output_type": "stream",
          "text": [
            "[1] \"Valor de vol_A\"\n"
          ],
          "name": "stdout"
        },
        {
          "output_type": "display_data",
          "data": {
            "text/plain": [
              "                WALMEX.MX.Close\n",
              "WALMEX.MX.Close 0.2407236      "
            ],
            "text/latex": "A matrix: 1 × 1 of type dbl\n\\begin{tabular}{r|l}\n  & WALMEX.MX.Close\\\\\n\\hline\n\tWALMEX.MX.Close & 0.2407236\\\\\n\\end{tabular}\n",
            "text/markdown": "\nA matrix: 1 × 1 of type dbl\n\n| <!--/--> | WALMEX.MX.Close |\n|---|---|\n| WALMEX.MX.Close | 0.2407236 |\n\n",
            "text/html": [
              "<table>\n",
              "<caption>A matrix: 1 × 1 of type dbl</caption>\n",
              "<thead>\n",
              "\t<tr><th></th><th scope=col>WALMEX.MX.Close</th></tr>\n",
              "</thead>\n",
              "<tbody>\n",
              "\t<tr><th scope=row>WALMEX.MX.Close</th><td>0.2407236</td></tr>\n",
              "</tbody>\n",
              "</table>\n"
            ]
          },
          "metadata": {
            "tags": []
          }
        },
        {
          "output_type": "stream",
          "text": [
            "[1] \"Valor de Deuda Actual\"\n"
          ],
          "name": "stdout"
        },
        {
          "output_type": "display_data",
          "data": {
            "text/plain": [
              "[1] 181027.5"
            ],
            "text/latex": "181027.502",
            "text/markdown": "181027.502",
            "text/html": [
              "181027.502"
            ]
          },
          "metadata": {
            "tags": []
          }
        },
        {
          "output_type": "stream",
          "text": [
            "[1] \"Tasa libre de riesgo\"\n"
          ],
          "name": "stdout"
        },
        {
          "output_type": "display_data",
          "data": {
            "text/plain": [
              "[1] 0.0425"
            ],
            "text/latex": "0.0425",
            "text/markdown": "0.0425",
            "text/html": [
              "0.0425"
            ]
          },
          "metadata": {
            "tags": []
          }
        },
        {
          "output_type": "stream",
          "text": [
            "[1] \"Temporalidad\"\n"
          ],
          "name": "stdout"
        },
        {
          "output_type": "display_data",
          "data": {
            "text/plain": [
              "[1] 1"
            ],
            "text/latex": "1",
            "text/markdown": "1",
            "text/html": [
              "1"
            ]
          },
          "metadata": {
            "tags": []
          }
        },
        {
          "output_type": "stream",
          "text": [
            "[1] \"Cociente K_0/D_0\"\n"
          ],
          "name": "stdout"
        },
        {
          "output_type": "display_data",
          "data": {
            "text/plain": [
              "[1] 6.184021"
            ],
            "text/latex": "6.18402076781612",
            "text/markdown": "6.18402076781612",
            "text/html": [
              "6.18402076781612"
            ]
          },
          "metadata": {
            "tags": []
          }
        },
        {
          "output_type": "stream",
          "text": [
            "[1] \"Cociente vol_K/vol_A\"\n"
          ],
          "name": "stdout"
        },
        {
          "output_type": "display_data",
          "data": {
            "text/plain": [
              "                WALMEX.MX.Close\n",
              "WALMEX.MX.Close 0.8450215      "
            ],
            "text/latex": "A matrix: 1 × 1 of type dbl\n\\begin{tabular}{r|l}\n  & WALMEX.MX.Close\\\\\n\\hline\n\tWALMEX.MX.Close & 0.8450215\\\\\n\\end{tabular}\n",
            "text/markdown": "\nA matrix: 1 × 1 of type dbl\n\n| <!--/--> | WALMEX.MX.Close |\n|---|---|\n| WALMEX.MX.Close | 0.8450215 |\n\n",
            "text/html": [
              "<table>\n",
              "<caption>A matrix: 1 × 1 of type dbl</caption>\n",
              "<thead>\n",
              "\t<tr><th></th><th scope=col>WALMEX.MX.Close</th></tr>\n",
              "</thead>\n",
              "<tbody>\n",
              "\t<tr><th scope=row>WALMEX.MX.Close</th><td>0.8450215</td></tr>\n",
              "</tbody>\n",
              "</table>\n"
            ]
          },
          "metadata": {
            "tags": []
          }
        },
        {
          "output_type": "stream",
          "text": [
            "[1] \"Valor de solución en función:\"\n"
          ],
          "name": "stdout"
        },
        {
          "output_type": "display_data",
          "data": {
            "text/plain": [
              "           WALMEX.MX.Close\n",
              "2019-12-31   -2.910383e-11\n",
              "2019-12-31   -2.910383e-11"
            ]
          },
          "metadata": {
            "tags": []
          }
        },
        {
          "output_type": "stream",
          "text": [
            "[1] \"DI\"\n"
          ],
          "name": "stdout"
        },
        {
          "output_type": "display_data",
          "data": {
            "text/plain": [
              "[1] 27.43731"
            ],
            "text/latex": "27.4373085072824",
            "text/markdown": "27.4373085072824",
            "text/html": [
              "27.4373085072824"
            ]
          },
          "metadata": {
            "tags": []
          }
        },
        {
          "output_type": "stream",
          "text": [
            "[1] \"EDF Normal\"\n"
          ],
          "name": "stdout"
        },
        {
          "output_type": "display_data",
          "data": {
            "text/plain": [
              "[1] 4.923453e-166"
            ],
            "text/latex": "4.92345317628036e-166",
            "text/markdown": "4.92345317628036e-166",
            "text/html": [
              "4.92345317628036e-166"
            ]
          },
          "metadata": {
            "tags": []
          }
        }
      ]
    }
  ]
}