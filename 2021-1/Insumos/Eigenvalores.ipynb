{
  "nbformat": 4,
  "nbformat_minor": 0,
  "metadata": {
    "colab": {
      "name": "Eigenvalores.ipynb",
      "provenance": [],
      "authorship_tag": "ABX9TyNlF+PEWoR80QvFK5D04aLr",
      "include_colab_link": true
    },
    "kernelspec": {
      "name": "python3",
      "display_name": "Python 3"
    }
  },
  "cells": [
    {
      "cell_type": "markdown",
      "metadata": {
        "id": "view-in-github",
        "colab_type": "text"
      },
      "source": [
        "<a href=\"https://colab.research.google.com/github/pikey-msc/RiesgosFinancieros/blob/master/2021-1/Insumos/Eigenvalores.ipynb\" target=\"_parent\"><img src=\"https://colab.research.google.com/assets/colab-badge.svg\" alt=\"Open In Colab\"/></a>"
      ]
    },
    {
      "cell_type": "code",
      "metadata": {
        "id": "ncsJbDoKK9ZC",
        "colab": {
          "base_uri": "https://localhost:8080/"
        },
        "outputId": "c68fa904-7dcc-4e9d-95b9-0a09ea13b2b4"
      },
      "source": [
        "%load_ext rpy2.ipython"
      ],
      "execution_count": 1,
      "outputs": [
        {
          "output_type": "stream",
          "text": [
            "/usr/local/lib/python3.6/dist-packages/rpy2/robjects/pandas2ri.py:14: FutureWarning: pandas.core.index is deprecated and will be removed in a future version.  The public classes are available in the top-level namespace.\n",
            "  from pandas.core.index import Index as PandasIndex\n",
            "/usr/local/lib/python3.6/dist-packages/rpy2/robjects/pandas2ri.py:34: UserWarning: pandas >= 1.0 is not supported.\n",
            "  warnings.warn('pandas >= 1.0 is not supported.')\n"
          ],
          "name": "stderr"
        }
      ]
    },
    {
      "cell_type": "code",
      "metadata": {
        "id": "tRrObcLRLQ73",
        "colab": {
          "base_uri": "https://localhost:8080/"
        },
        "outputId": "d004814f-03fd-45d4-a942-6e67f511a762"
      },
      "source": [
        " \n",
        " %%R\n",
        " \n",
        " M=rbind(c(0.000104772764497511,6.19938907964904E-05, 5.77364682040207E-05, -1.76437016625581E-05, -3.87944615446051E-05,-2.58120194997392E-05),\n",
        "c(6.19938907964904E-05,8.56392671854966E-05, 6.34341822165413E-05, -0.000023126621156236, -2.80128692212162E-05,-0.000024957335501784),\n",
        "c(5.77364682040207E-05,6.34341822165413E-05, 8.90245462476997E-05, -6.64083951497155E-05, -5.51366217473231E-05,-4.17353971485784E-05),\n",
        "c(-1.76437016625581E-05,-0.000023126621156236, -6.64083951497155E-05, 0.000964570677969878, 0.000273268565559157,0.000141477642996978),\n",
        "c(-3.87944615446051E-05,-2.80128692212162E-05, -5.51366217473231E-05, 0.000273268565559157, 0.000563221244908991,0.000127127089048516),\n",
        "c(-2.58120194997392E-05,-0.000024957335501784, -4.17353971485784E-05, 0.000141477642996978, 0.000127127089048516,0.000313767145911979)     \n",
        " )\n",
        "\n",
        "print(M)\n",
        " \n",
        "  G<-eigen(M)      #eigenvectores\n",
        "  g1<-G$values                  #eigenvalores\n",
        "  \n",
        "  print(g1)\n",
        "\n",
        "  print(G$vectors)\n",
        "  g1p=g1/sum(g1) #representatividad\n",
        "  print(g1p)\n",
        "  \n",
        "  # g1pac=cumsum(g1p) #suma acumulada de varianza\n",
        "  \n",
        "  # k=which.max(g1pac>eta) #valor mínimo k\n"
      ],
      "execution_count": 4,
      "outputs": [
        {
          "output_type": "stream",
          "text": [
            "              [,1]          [,2]          [,3]          [,4]          [,5]\n",
            "[1,]  1.047728e-04  6.199389e-05  5.773647e-05 -1.764370e-05 -3.879446e-05\n",
            "[2,]  6.199389e-05  8.563927e-05  6.343418e-05 -2.312662e-05 -2.801287e-05\n",
            "[3,]  5.773647e-05  6.343418e-05  8.902455e-05 -6.640840e-05 -5.513662e-05\n",
            "[4,] -1.764370e-05 -2.312662e-05 -6.640840e-05  9.645707e-04  2.732686e-04\n",
            "[5,] -3.879446e-05 -2.801287e-05 -5.513662e-05  2.732686e-04  5.632212e-04\n",
            "[6,] -2.581202e-05 -2.495734e-05 -4.173540e-05  1.414776e-04  1.271271e-04\n",
            "              [,6]\n",
            "[1,] -2.581202e-05\n",
            "[2,] -2.495734e-05\n",
            "[3,] -4.173540e-05\n",
            "[4,]  1.414776e-04\n",
            "[5,]  1.271271e-04\n",
            "[6,]  3.137671e-04\n",
            "[1] 1.155431e-03 4.461132e-04 2.661603e-04 1.915862e-04 3.961983e-05\n",
            "[6] 2.208494e-05\n",
            "            [,1]        [,2]        [,3]        [,4]         [,5]        [,6]\n",
            "[1,]  0.04411811 -0.11579577 -0.16735606  0.58201331  0.775422887 -0.12890593\n",
            "[2,]  0.04346878 -0.08434432 -0.17200780  0.53897431 -0.332274080  0.74867245\n",
            "[3,]  0.09041077 -0.09326177 -0.17853392  0.49289466 -0.535492673 -0.64927361\n",
            "[4,] -0.85574408 -0.51385762 -0.04598831 -0.01585491 -0.029469989 -0.02043603\n",
            "[5,] -0.45541116  0.79267234 -0.39927507  0.06609865  0.004942217 -0.02138205\n",
            "[6,] -0.21975597  0.28000094  0.86544520  0.35100092 -0.025845190 -0.02101830\n",
            "[1] 0.54475892 0.21033196 0.12548835 0.09032840 0.01867983 0.01041254\n"
          ],
          "name": "stdout"
        }
      ]
    }
  ]
}