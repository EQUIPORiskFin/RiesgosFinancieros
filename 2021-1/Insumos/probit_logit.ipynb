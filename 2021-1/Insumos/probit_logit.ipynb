{
  "nbformat": 4,
  "nbformat_minor": 0,
  "metadata": {
    "colab": {
      "name": "probit_logit.ipynb",
      "provenance": [],
      "collapsed_sections": [],
      "authorship_tag": "ABX9TyMPBNQgRXC8M8ZYZiUEsUNd",
      "include_colab_link": true
    },
    "kernelspec": {
      "name": "python3",
      "display_name": "Python 3"
    }
  },
  "cells": [
    {
      "cell_type": "markdown",
      "metadata": {
        "id": "view-in-github",
        "colab_type": "text"
      },
      "source": [
        "<a href=\"https://colab.research.google.com/github/pikey-msc/RiesgosFinancieros/blob/master/2021-1/Insumos/probit_logit.ipynb\" target=\"_parent\"><img src=\"https://colab.research.google.com/assets/colab-badge.svg\" alt=\"Open In Colab\"/></a>"
      ]
    },
    {
      "cell_type": "code",
      "metadata": {
        "id": "1-f65iETyTKw",
        "colab": {
          "base_uri": "https://localhost:8080/",
          "height": 204
        },
        "outputId": "467646fa-a848-4344-fe38-e995a891423c"
      },
      "source": [
        "%load_ext rpy2.ipython\n",
        "!rm -rf RiesgosFinancieros\n",
        "!git clone \"https://github.com/pikey-msc/RiesgosFinancieros/\"\n",
        "\n"
      ],
      "execution_count": null,
      "outputs": [
        {
          "output_type": "stream",
          "text": [
            "/usr/local/lib/python3.6/dist-packages/rpy2/robjects/pandas2ri.py:14: FutureWarning: pandas.core.index is deprecated and will be removed in a future version.  The public classes are available in the top-level namespace.\n",
            "  from pandas.core.index import Index as PandasIndex\n",
            "/usr/local/lib/python3.6/dist-packages/rpy2/robjects/pandas2ri.py:34: UserWarning: pandas >= 1.0 is not supported.\n",
            "  warnings.warn('pandas >= 1.0 is not supported.')\n"
          ],
          "name": "stderr"
        },
        {
          "output_type": "stream",
          "text": [
            "Cloning into 'RiesgosFinancieros'...\n",
            "remote: Enumerating objects: 202, done.\u001b[K\n",
            "remote: Counting objects: 100% (202/202), done.\u001b[K\n",
            "remote: Compressing objects: 100% (202/202), done.\u001b[K\n",
            "remote: Total 513 (delta 150), reused 0 (delta 0), pack-reused 311\u001b[K\n",
            "Receiving objects: 100% (513/513), 17.97 MiB | 15.16 MiB/s, done.\n",
            "Resolving deltas: 100% (333/333), done.\n"
          ],
          "name": "stdout"
        }
      ]
    },
    {
      "cell_type": "markdown",
      "metadata": {
        "id": "4E3CCo5pWses"
      },
      "source": [
        "#Logit"
      ]
    },
    {
      "cell_type": "code",
      "metadata": {
        "id": "zozUPPpLy0A-",
        "colab": {
          "base_uri": "https://localhost:8080/",
          "height": 697
        },
        "outputId": "e46174cd-e95e-4dae-9c56-a6bfa82af876"
      },
      "source": [
        "%%R\n",
        "\n",
        "incump=\"RiesgosFinancieros/2020-2/Insumos/base_inc.csv\"\n",
        "\n",
        "data=read.csv(incump, sep=\",\", quote=\"/\")\n",
        "\n",
        "colors <- c(\"red\", \"blue\", \"darkgreen\", \"gold\", \"black\")\n",
        "attach(data)\n",
        "n<-nrow(data)-1\n",
        "m=ncol(data)\n",
        "x=data[,3:m]\n",
        "y=data[,2]\n",
        "ylogr = glm(y ~  Liquid  +  Apalanc  +  AscCl  +    Rentab  +Bancos  +  PCP_CT   +  Gop_SD + RetrTMP  +  PLP_PT + IFAudit  +UO_VN + AnOper , family=binomial(\"logit\"))\n",
        "ylogr\n",
        "xext=as.matrix(cbind(1,x))\n",
        "summary(ylogr)\n"
      ],
      "execution_count": null,
      "outputs": [
        {
          "output_type": "stream",
          "text": [
            "R[write to console]: The following objects are masked from data (pos = 3):\n",
            "\n",
            "    AnOper, Apalanc, AscCl, Bancos, Cliente, Gop_SD, IFAudit, Incump,\n",
            "    Liquid, PCP_CT, PLP_PT, Rentab, RetrTMP, UO_VN\n",
            "\n",
            "\n"
          ],
          "name": "stderr"
        },
        {
          "output_type": "stream",
          "text": [
            "\n",
            "Call:\n",
            "glm(formula = y ~ Liquid + Apalanc + AscCl + Rentab + Bancos + \n",
            "    PCP_CT + Gop_SD + RetrTMP + PLP_PT + IFAudit + UO_VN + AnOper, \n",
            "    family = binomial(\"logit\"))\n",
            "\n",
            "Deviance Residuals: \n",
            "       Min          1Q      Median          3Q         Max  \n",
            "-4.993e-05  -2.100e-08  -2.100e-08   2.100e-08   4.766e-05  \n",
            "\n",
            "Coefficients:\n",
            "              Estimate Std. Error z value Pr(>|z|)\n",
            "(Intercept)     86.097 345041.658   0.000    1.000\n",
            "Liquid         -35.348  83217.419   0.000    1.000\n",
            "Apalanc         63.663  74575.329   0.001    0.999\n",
            "AscCl           -7.861  16526.692   0.000    1.000\n",
            "Rentab        -395.216 893798.551   0.000    1.000\n",
            "Bancos           8.519  48731.575   0.000    1.000\n",
            "PCP_CT          47.308 128348.446   0.000    1.000\n",
            "Gop_SD         -73.761 111142.606  -0.001    0.999\n",
            "RetrTMP         -9.272 112996.503   0.000    1.000\n",
            "PLP_PT        -102.053 384818.303   0.000    1.000\n",
            "IFAudit         16.038  39775.381   0.000    1.000\n",
            "UO_VN         -124.528 663892.384   0.000    1.000\n",
            "AnOper          -3.374  30617.497   0.000    1.000\n",
            "\n",
            "(Dispersion parameter for binomial family taken to be 1)\n",
            "\n",
            "    Null deviance: 3.4231e+02  on 246  degrees of freedom\n",
            "Residual deviance: 1.3106e-08  on 234  degrees of freedom\n",
            "AIC: 26\n",
            "\n",
            "Number of Fisher Scoring iterations: 25\n",
            "\n"
          ],
          "name": "stdout"
        }
      ]
    },
    {
      "cell_type": "code",
      "metadata": {
        "id": "5yR2zSsiV888",
        "colab": {
          "base_uri": "https://localhost:8080/",
          "height": 51
        },
        "outputId": "0d974f12-49ea-4d0b-cf17-3af89a6c46a1"
      },
      "source": [
        "%%R\n",
        "#Réplica de Devianza\n",
        "Llogit=log(prod(((1+exp(-xext%*%as.matrix(ylogr$coef)))^(-1))^y*(1-(1+exp(-xext%*%as.matrix(ylogr$coef)))^(-1))^(1-y)))\n",
        "DLogit=-2*Llogit\n",
        "print(DLogit)\n",
        "\n",
        "print(ylogr$dev)\n"
      ],
      "execution_count": null,
      "outputs": [
        {
          "output_type": "stream",
          "text": [
            "[1] 1.310612e-08\n",
            "[1] 1.310611e-08\n"
          ],
          "name": "stdout"
        }
      ]
    },
    {
      "cell_type": "code",
      "metadata": {
        "id": "_NAd3j0MzhN5",
        "colab": {
          "base_uri": "https://localhost:8080/",
          "height": 582
        },
        "outputId": "e60a07f6-0ee4-42ae-90fe-41b265dd715f"
      },
      "source": [
        "%%R\n",
        "\n",
        "ptol=0.5\n",
        "yest=(1+exp(-xext%*%as.matrix(ylogr$coef)))^(-1)\n",
        "\n",
        "#print(confusionMatrix(as.factor(y), as.factor(ylogr$fit)))\n",
        "#matriz de confusión\n",
        "print(\"Matriz de confusión\")\n",
        "print(table(y,ifelse(yest<0.5,0,1)))\n",
        "\n",
        "plot(y,type=\"l\", lty=2, xlab=\"Observaciones\",\n",
        "  ylab=\"Probabilidad\", main=\"Regresión Logística\")\n",
        "points(yest, lwd=2, col=colors[1])\n",
        "\n"
      ],
      "execution_count": null,
      "outputs": [
        {
          "output_type": "stream",
          "text": [
            "[1] \"Matriz de confusión\"\n",
            "   \n",
            "y     0   1\n",
            "  0 126   0\n",
            "  1   0 121\n"
          ],
          "name": "stdout"
        },
        {
          "output_type": "display_data",
          "data": {
            "image/png": "[encoded data removed]"
          },
          "metadata": {
            "tags": []
          }
        }
      ]
    },
    {
      "cell_type": "markdown",
      "metadata": {
        "id": "IkqoKv5zWyop"
      },
      "source": [
        "#Probit"
      ]
    },
    {
      "cell_type": "code",
      "metadata": {
        "id": "HOukwyXKW0oM",
        "colab": {
          "base_uri": "https://localhost:8080/",
          "height": 595
        },
        "outputId": "3c7cdb68-9ae8-42c6-d9e9-4111dba3fd57"
      },
      "source": [
        "%%R\n",
        "yprobr <- glm(y ~  Liquid  +  Apalanc  +  AscCl  +    Rentab  +Bancos  +  PCP_CT   +  Gop_SD + RetrTMP  +  PLP_PT + IFAudit  +UO_VN + AnOper, family=binomial(\"probit\"))\n",
        "yprobr\n",
        "summary(yprobr)"
      ],
      "execution_count": null,
      "outputs": [
        {
          "output_type": "stream",
          "text": [
            "\n",
            "Call:\n",
            "glm(formula = y ~ Liquid + Apalanc + AscCl + Rentab + Bancos + \n",
            "    PCP_CT + Gop_SD + RetrTMP + PLP_PT + IFAudit + UO_VN + AnOper, \n",
            "    family = binomial(\"probit\"))\n",
            "\n",
            "Deviance Residuals: \n",
            "       Min          1Q      Median          3Q         Max  \n",
            "-4.926e-05  -2.100e-08  -2.100e-08   2.100e-08   4.848e-05  \n",
            "\n",
            "Coefficients:\n",
            "              Estimate Std. Error z value Pr(>|z|)\n",
            "(Intercept)  2.471e+01  9.547e+04   0.000    1.000\n",
            "Liquid      -1.026e+01  2.310e+04   0.000    1.000\n",
            "Apalanc      1.835e+01  2.157e+04   0.001    0.999\n",
            "AscCl       -2.292e+00  5.684e+03   0.000    1.000\n",
            "Rentab      -1.131e+02  2.929e+05   0.000    1.000\n",
            "Bancos       2.413e+00  1.575e+04   0.000    1.000\n",
            "PCP_CT       1.390e+01  3.383e+04   0.000    1.000\n",
            "Gop_SD      -2.059e+01  3.389e+04  -0.001    1.000\n",
            "RetrTMP     -2.470e+00  3.524e+04   0.000    1.000\n",
            "PLP_PT      -2.985e+01  1.296e+05   0.000    1.000\n",
            "IFAudit      4.724e+00  8.143e+03   0.001    1.000\n",
            "UO_VN       -3.906e+01  2.158e+05   0.000    1.000\n",
            "AnOper      -9.761e-01  9.403e+03   0.000    1.000\n",
            "\n",
            "(Dispersion parameter for binomial family taken to be 1)\n",
            "\n",
            "    Null deviance: 3.4231e+02  on 246  degrees of freedom\n",
            "Residual deviance: 1.2765e-08  on 234  degrees of freedom\n",
            "AIC: 26\n",
            "\n",
            "Number of Fisher Scoring iterations: 25\n",
            "\n"
          ],
          "name": "stdout"
        }
      ]
    },
    {
      "cell_type": "code",
      "metadata": {
        "id": "iSQ-L_LpXgRT",
        "colab": {
          "base_uri": "https://localhost:8080/",
          "height": 51
        },
        "outputId": "106f2d30-594e-4f01-f299-a7722bd4b4f1"
      },
      "source": [
        "%%R\n",
        "#Comprobación de devianza\n",
        "\n",
        "Lprobit=log(prod((pnorm(xext%*%as.matrix(yprobr$coef),0,1))^y*(1-pnorm(xext%*%as.matrix(yprobr$coef),0,1))^(1-y)))\n",
        "Dprobit=-2*Lprobit\n",
        "\n",
        "print(Dprobit)\n",
        "print(yprobr$dev)\n"
      ],
      "execution_count": null,
      "outputs": [
        {
          "output_type": "stream",
          "text": [
            "[1] 1.276503e-08\n",
            "[1] 1.276513e-08\n"
          ],
          "name": "stdout"
        }
      ]
    },
    {
      "cell_type": "code",
      "metadata": {
        "id": "ObkgvC65cdD_",
        "colab": {
          "base_uri": "https://localhost:8080/",
          "height": 582
        },
        "outputId": "6e0a53e0-0f51-416f-92a3-c82bd35bd6c9"
      },
      "source": [
        "%%R\n",
        "\n",
        "ptol=0.5\n",
        "yest=pnorm(xext%*%as.matrix(yprobr$coef),0,1)\n",
        "\n",
        "#print(confusionMatrix(as.factor(y), as.factor(ylogr$fit)))\n",
        "#matriz de confusión\n",
        "print(\"Matriz de confusión\")\n",
        "print(table(y,ifelse(yest<0.5,0,1)))\n",
        "\n",
        "plot(y,type=\"l\", lty=2, xlab=\"Observaciones\",\n",
        "  ylab=\"Probabilidad\", main=\"Regresión Logística\")\n",
        "points(yest, lwd=2, col=colors[1])\n"
      ],
      "execution_count": null,
      "outputs": [
        {
          "output_type": "stream",
          "text": [
            "[1] \"Matriz de confusión\"\n",
            "   \n",
            "y     0   1\n",
            "  0 126   0\n",
            "  1   0 121\n"
          ],
          "name": "stdout"
        },
        {
          "output_type": "display_data",
          "data": {
            "image/png": "[encoded data removed]"
          },
          "metadata": {
            "tags": []
          }
        }
      ]
    }
  ]
}