{
  "nbformat": 4,
  "nbformat_minor": 0,
  "metadata": {
    "kernelspec": {
      "display_name": "R",
      "language": "R",
      "name": "ir"
    },
    "language_info": {
      "codemirror_mode": "r",
      "file_extension": ".r",
      "mimetype": "text/x-r-source",
      "name": "R",
      "pygments_lexer": "r",
      "version": "3.3.1"
    },
    "colab": {
      "name": "R SH Acciones.ipynb",
      "provenance": [],
      "collapsed_sections": [],
      "include_colab_link": true
    },
    "accelerator": "GPU"
  },
  "cells": [
    {
      "cell_type": "markdown",
      "metadata": {
        "id": "view-in-github",
        "colab_type": "text"
      },
      "source": [
        "<a href=\"https://colab.research.google.com/github/pikey-msc/RiesgosFinancieros/blob/master/2020-1/R_SH_Acciones.ipynb\" target=\"_parent\"><img src=\"https://colab.research.google.com/assets/colab-badge.svg\" alt=\"Open In Colab\"/></a>"
      ]
    },
    {
      "cell_type": "markdown",
      "metadata": {
        "id": "dPEF1ujr7wvM",
        "colab_type": "text"
      },
      "source": [
        "Paso de carga de librerías en R de todas las que se utilizarán"
      ]
    },
    {
      "cell_type": "code",
      "metadata": {
        "id": "57AsDOlcRWL9",
        "colab_type": "code",
        "outputId": "cbd00cb9-10da-495f-f8d9-3fa923ae3c11",
        "colab": {
          "base_uri": "https://localhost:8080/",
          "height": 1000
        }
      },
      "source": [
        "#require(quantmod)\n",
        "install.packages(\"quantmod\")\n",
        "library(quantmod)\n",
        "#require(data.table)\n",
        "install.packages(\"data.table\")\n",
        "library(data.table)\n",
        "#require(\"PerformanceAnalytics\")\n",
        "install.packages(\"PerformanceAnalytics\")\n",
        "library(\"PerformanceAnalytics\")\n",
        "\n",
        "con = gzcon(url('https://github.com/systematicinvestor/SIT/raw/master/sit.gz', 'rb'))\n",
        "source(con)\n",
        "close(con)\n",
        "\n"
      ],
      "execution_count": 0,
      "outputs": [
        {
          "output_type": "stream",
          "text": [
            "Installing package into ‘/usr/local/lib/R/site-library’\n",
            "(as ‘lib’ is unspecified)\n",
            "also installing the dependencies ‘xts’, ‘zoo’, ‘TTR’\n",
            "\n",
            "Loading required package: xts\n",
            "Loading required package: zoo\n",
            "\n",
            "Attaching package: ‘zoo’\n",
            "\n",
            "The following objects are masked from ‘package:base’:\n",
            "\n",
            "    as.Date, as.Date.numeric\n",
            "\n",
            "Registered S3 method overwritten by 'xts':\n",
            "  method     from\n",
            "  as.zoo.xts zoo \n",
            "Loading required package: TTR\n",
            "Registered S3 method overwritten by 'quantmod':\n",
            "  method            from\n",
            "  as.zoo.data.frame zoo \n",
            "Version 0.4-0 included new data defaults. See ?getSymbols.\n",
            "Installing package into ‘/usr/local/lib/R/site-library’\n",
            "(as ‘lib’ is unspecified)\n",
            "\n",
            "Attaching package: ‘data.table’\n",
            "\n",
            "The following objects are masked from ‘package:xts’:\n",
            "\n",
            "    first, last\n",
            "\n",
            "Installing package into ‘/usr/local/lib/R/site-library’\n",
            "(as ‘lib’ is unspecified)\n",
            "also installing the dependency ‘quadprog’\n",
            "\n",
            "\n",
            "Attaching package: ‘PerformanceAnalytics’\n",
            "\n",
            "The following object is masked from ‘package:graphics’:\n",
            "\n",
            "    legend\n",
            "\n",
            "Warning message in system(\"timedatectl\", intern = TRUE):\n",
            "“running command 'timedatectl' had status 1”"
          ],
          "name": "stderr"
        }
      ]
    },
    {
      "cell_type": "markdown",
      "metadata": {
        "id": "Rnp7xU_hAeXq",
        "colab_type": "text"
      },
      "source": [
        "Cargamos parámetros para valoración:\n",
        "\t \n",
        "   **Pérdidas y Ganancias simulación histórica (sin alisado)**\n",
        "   \n",
        "\t Un enfoque más claro es suponer que tenemos:\n",
        "1.   Una matriz $X_{(n+1)\\times m}$ de $m$ factores de riesgo y $n+1$ observaciones. \n",
        "2.   Denotemos el vector de precios actual como $X_{00}:=(x_{0,1},x_{0,2},\\ldots,x_{0,m})$. \n",
        "3.   Sea $r$ el número de instrumentos de un portafolio, entonces cada instrumento tiene una función de valuación $f_i\\colon A_i \\to R$ para todo $x\\in X$, $i=1,\\ldots, r$, donde $A_i\\subset X_i$ con $\\#(A_i)\\leq \\#(X_i)$.\n",
        "4.   Sea $r$ el número de instrumentos de un portafolio, entonces cada instrumento tiene una función de valuación $f_i\\colon A_i \\to R$ para todo $x\\in X$, $i=1,\\ldots, r$, donde $A_i\\subset X_i$ con $\\#(A_i)\\leq \\#(X_i)$.\n",
        "5.   Sea $M_{1\\times r}=(m_1,\\ldots,m_r)$ el vector de posiciones nominales de cada instrumento, es decir, el número de contratos que se tienen por instrumento $m_i\\in R$ $(i=1,\\ldots,r)$."
      ]
    },
    {
      "cell_type": "code",
      "metadata": {
        "id": "9xQDSuPQRWMH",
        "colab_type": "code",
        "colab": {}
      },
      "source": [
        "\n",
        "#Cargar los símbolos de yahoo finance para EQ\n",
        "Symbols<-c  ( \"GCARSOA1.MX\", \"WALMEX.MX\" )#tienen que ir en orden alfabético\n",
        "pos_eq=c(1000,2000,-600) #monto inicial invertido en acciones\n",
        "#Cargar los símbolos de yahoo finance para FX\n",
        "SymbolsFX<-c(\"EURUSD=X\",\"GBPUSD=X\",\"USDMXN=X\" ) #tienen que ir en orden alfabético\n",
        "pos_fx=c(1000,-500,200) #monto inicial invertido en divisas\n",
        "nh=3660 #días de historia\n",
        "\n",
        "pos=cbind(t(pos_fx),t(pos_eq))\n"
      ],
      "execution_count": 0,
      "outputs": []
    },
    {
      "cell_type": "markdown",
      "metadata": {
        "id": "mOcLoO2ERWMN",
        "colab_type": "text"
      },
      "source": [
        "Ahora definimos el \"*environment*\""
      ]
    },
    {
      "cell_type": "code",
      "metadata": {
        "id": "zP3dhNYMRWMP",
        "colab_type": "code",
        "outputId": "f2fd6bc6-d4c3-42b0-d8d5-6730ed7a0439",
        "colab": {
          "base_uri": "https://localhost:8080/",
          "height": 903
        }
      },
      "source": [
        "start_date=Sys.Date()-nh #fecha inicial\n",
        "\n",
        "#Creación del objeto para guardar los datos\n",
        "dataEnv<-new.env()\n",
        "dataEnvFX<-new.env()\n",
        "\n",
        "#obtener los datos\n",
        "getSymbols.yahoo(Symbols,env=dataEnv,from=start_date)\n",
        "getSymbols.yahoo(SymbolsFX,env=dataEnvFX,from=start_date)\n",
        "\n",
        "#muestra\n",
        "tail(dataEnvFX$`GBPUSD=X`)\n",
        "\n"
      ],
      "execution_count": 0,
      "outputs": [
        {
          "output_type": "stream",
          "text": [
            "Warning message:\n",
            "“GCARSOA1.MX contains missing values. Some functions will not work if objects contain missing values in the middle of the series. Consider using na.omit(), na.approx(), na.fill(), etc to remove or replace them.”Warning message:\n",
            "“WALMEX.MX contains missing values. Some functions will not work if objects contain missing values in the middle of the series. Consider using na.omit(), na.approx(), na.fill(), etc to remove or replace them.”"
          ],
          "name": "stderr"
        },
        {
          "output_type": "display_data",
          "data": {
            "text/plain": [
              "[1] \"GCARSOA1.MX\" \"WALMEX.MX\"  "
            ],
            "text/latex": "\\begin{enumerate*}\n\\item 'GCARSOA1.MX'\n\\item 'WALMEX.MX'\n\\end{enumerate*}\n",
            "text/markdown": "1. 'GCARSOA1.MX'\n2. 'WALMEX.MX'\n\n\n",
            "text/html": [
              "<ol class=list-inline>\n",
              "\t<li>'GCARSOA1.MX'</li>\n",
              "\t<li>'WALMEX.MX'</li>\n",
              "</ol>\n"
            ]
          },
          "metadata": {
            "tags": []
          }
        },
        {
          "output_type": "stream",
          "text": [
            "Warning message:\n",
            "“EURUSD=X contains missing values. Some functions will not work if objects contain missing values in the middle of the series. Consider using na.omit(), na.approx(), na.fill(), etc to remove or replace them.”Warning message:\n",
            "“GBPUSD=X contains missing values. Some functions will not work if objects contain missing values in the middle of the series. Consider using na.omit(), na.approx(), na.fill(), etc to remove or replace them.”Warning message:\n",
            "“USDMXN=X contains missing values. Some functions will not work if objects contain missing values in the middle of the series. Consider using na.omit(), na.approx(), na.fill(), etc to remove or replace them.”"
          ],
          "name": "stderr"
        },
        {
          "output_type": "display_data",
          "data": {
            "text/plain": [
              "[1] \"EURUSD=X\" \"GBPUSD=X\" \"USDMXN=X\""
            ],
            "text/latex": "\\begin{enumerate*}\n\\item 'EURUSD=X'\n\\item 'GBPUSD=X'\n\\item 'USDMXN=X'\n\\end{enumerate*}\n",
            "text/markdown": "1. 'EURUSD=X'\n2. 'GBPUSD=X'\n3. 'USDMXN=X'\n\n\n",
            "text/html": [
              "<ol class=list-inline>\n",
              "\t<li>'EURUSD=X'</li>\n",
              "\t<li>'GBPUSD=X'</li>\n",
              "\t<li>'USDMXN=X'</li>\n",
              "</ol>\n"
            ]
          },
          "metadata": {
            "tags": []
          }
        },
        {
          "output_type": "display_data",
          "data": {
            "text/plain": [
              "           GBPUSD=X.Open GBPUSD=X.High GBPUSD=X.Low GBPUSD=X.Close\n",
              "2019-08-09      1.214477      1.214772     1.205734       1.214373\n",
              "2019-08-12      1.202198      1.210068     1.201923       1.202198\n",
              "2019-08-13      1.208021      1.209760     1.204355       1.207875\n",
              "2019-08-14      1.206418      1.209995     1.204674       1.206418\n",
              "2019-08-15      1.206040      1.214255     1.205110       1.206040\n",
              "2019-08-16      1.209219      1.217730     1.208313       1.209161\n",
              "           GBPUSD=X.Volume GBPUSD=X.Adjusted\n",
              "2019-08-09               0          1.214373\n",
              "2019-08-12               0          1.202198\n",
              "2019-08-13               0          1.207875\n",
              "2019-08-14               0          1.206418\n",
              "2019-08-15               0          1.206040\n",
              "2019-08-16               0          1.209161"
            ]
          },
          "metadata": {
            "tags": []
          }
        }
      ]
    },
    {
      "cell_type": "markdown",
      "metadata": {
        "id": "_KhrggjSDwXA",
        "colab_type": "text"
      },
      "source": [
        "Limpiamos NA's y nos quedamos con los precios de cierre"
      ]
    },
    {
      "cell_type": "code",
      "metadata": {
        "id": "TfZnjpRrRWMW",
        "colab_type": "code",
        "outputId": "cfa28f32-9b14-41f8-8dec-e68866ae6318",
        "colab": {
          "base_uri": "https://localhost:8080/",
          "height": 252
        }
      },
      "source": [
        "#limpiarlos, alinearnos y quedarnos con el precio de cierre \n",
        "\n",
        "bt.prep(dataEnv,align='remove.na',fill.gaps = T)\n",
        "bt.prep(dataEnvFX,align='remove.na',fill.gaps=T)\n",
        "\n",
        "#muestra de datos\n",
        "head(dataEnv$prices)\n",
        "head(dataEnvFX$prices)\n",
        "\n",
        "#muestra de datos\n",
        "head(dataEnv$prices)\n",
        "head(dataEnvFX$prices)\n",
        "\n",
        "\n",
        "#Nos quedamos con los precios\n",
        "stock_prices = dataEnv$prices\n",
        "tail(stock_prices[,])\n",
        "\n",
        "\n",
        "\n",
        "stock_pricesFX=dataEnvFX$prices\n",
        "tail(stock_pricesFX)\n",
        "#cambiar todo a pesos mexicanos\n",
        "stock_pricesFX=cbind(stock_pricesFX[,1,with=F]*stock_pricesFX[,3,with=F],stock_pricesFX[,2,with=F]*stock_pricesFX[,3,with=F],stock_pricesFX[,3,with=F])\n",
        "tail(stock_pricesFX)\n",
        "\n",
        "stock_prices_EQFX=merge(stock_pricesFX,stock_prices,join = \"inner\")\n",
        "stock_prices_EQFX\n",
        "tail(stock_prices_EQFX)\n",
        "\n",
        "\n",
        "#Preciso actuales\n",
        "#x0=as.data.table(as.matrix(stock_prices_EQFX[nrow(stock_prices_EQFX),])) #valores actuales\n",
        "x0=stock_prices_EQFX[nrow(stock_prices_EQFX),]\n",
        "x0\n"
      ],
      "execution_count": 0,
      "outputs": [
        {
          "output_type": "display_data",
          "data": {
            "text/plain": [
              "           GCARSOA1.MX WALMEX.MX\n",
              "2009-07-24     19.2530    21.640\n",
              "2009-07-27     19.8494    21.930\n",
              "2009-07-28     20.2797    21.970\n",
              "2009-07-29     19.9619    21.785\n",
              "2009-07-30     20.4850    21.920\n",
              "2009-07-31     21.0228    22.510"
            ]
          },
          "metadata": {
            "tags": []
          }
        },
        {
          "output_type": "display_data",
          "data": {
            "text/plain": [
              "           EURUSD=X GBPUSD=X USDMXN=X\n",
              "2009-07-24 1.421202 1.644710  13.1800\n",
              "2009-07-27 1.424704 1.648533  13.2642\n",
              "2009-07-28 1.414607 1.641093  13.2195\n",
              "2009-07-29 1.401463 1.635109  13.2525\n",
              "2009-07-30 1.408490 1.650792  13.2522\n",
              "2009-07-31 1.426005 1.670509  13.1490"
            ]
          },
          "metadata": {
            "tags": []
          }
        }
      ]
    },
    {
      "cell_type": "markdown",
      "metadata": {
        "id": "ybz1dRl2RWMb",
        "colab_type": "text"
      },
      "source": [
        "Plotting works too:"
      ]
    },
    {
      "cell_type": "code",
      "metadata": {
        "id": "6nFghrHPRWMd",
        "colab_type": "code",
        "outputId": "665cdabd-78ee-440c-8390-b122c0ffe0d2",
        "colab": {
          "base_uri": "https://localhost:8080/",
          "height": 857
        }
      },
      "source": [
        "x <- seq(0, 2*pi, length.out=50)\n",
        "plot(x, sin(x))"
      ],
      "execution_count": 0,
      "outputs": [
        {
          "output_type": "display_data",
          "data": {
            "image/png": "[encoded data removed]",
            "text/plain": [
              "plot without title"
            ]
          },
          "metadata": {
            "tags": []
          }
        }
      ]
    }
  ]
}