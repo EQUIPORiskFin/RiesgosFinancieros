{
  "nbformat": 4,
  "nbformat_minor": 0,
  "metadata": {
    "colab": {
      "name": "SH-SWAPS.ipynb",
      "provenance": [],
      "collapsed_sections": [],
      "toc_visible": true,
      "include_colab_link": true
    },
    "kernelspec": {
      "name": "python3",
      "display_name": "Python 3"
    },
    "accelerator": "GPU"
  },
  "cells": [
    {
      "cell_type": "markdown",
      "metadata": {
        "id": "view-in-github",
        "colab_type": "text"
      },
      "source": [
        "<a href=\"https://colab.research.google.com/github/pikey-msc/RiesgosFinancieros/blob/master/2021-1/Insumos/SWAPS.ipynb\" target=\"_parent\"><img src=\"https://colab.research.google.com/assets/colab-badge.svg\" alt=\"Open In Colab\"/></a>"
      ]
    },
    {
      "cell_type": "code",
      "metadata": {
        "id": "rAfq7pI7buTI",
        "outputId": "33491738-2e2a-483b-fb46-5fd6be8293ba",
        "colab": {
          "base_uri": "https://localhost:8080/",
          "height": 230
        }
      },
      "source": [
        "%load_ext rpy2.ipython\n",
        "!rm -rf RiesgosFinancieros\n",
        "!git clone \"https://github.com/pikey-msc/RiesgosFinancieros/\"\n",
        "\n"
      ],
      "execution_count": 1,
      "outputs": [
        {
          "output_type": "stream",
          "text": [
            "/usr/local/lib/python3.6/dist-packages/rpy2/robjects/pandas2ri.py:14: FutureWarning: pandas.core.index is deprecated and will be removed in a future version.  The public classes are available in the top-level namespace.\n",
            "  from pandas.core.index import Index as PandasIndex\n",
            "/usr/local/lib/python3.6/dist-packages/rpy2/robjects/pandas2ri.py:34: UserWarning: pandas >= 1.0 is not supported.\n",
            "  warnings.warn('pandas >= 1.0 is not supported.')\n"
          ],
          "name": "stderr"
        },
        {
          "output_type": "stream",
          "text": [
            "Cloning into 'RiesgosFinancieros'...\n",
            "remote: Enumerating objects: 15, done.\u001b[K\n",
            "remote: Counting objects: 100% (15/15), done.\u001b[K\n",
            "remote: Compressing objects: 100% (15/15), done.\u001b[K\n",
            "remote: Total 594 (delta 7), reused 0 (delta 0), pack-reused 579\u001b[K\n",
            "Receiving objects: 100% (594/594), 32.97 MiB | 31.67 MiB/s, done.\n",
            "Resolving deltas: 100% (386/386), done.\n"
          ],
          "name": "stdout"
        }
      ]
    },
    {
      "cell_type": "code",
      "metadata": {
        "id": "CQO2WUGWbAKN",
        "outputId": "84cf1266-6aff-43fb-ed9f-72b21f28919b",
        "colab": {
          "base_uri": "https://localhost:8080/",
          "height": 1000
        }
      },
      "source": [
        "%%R\n",
        "#require(quantmod)\n",
        "#require(data.table)\n",
        "install.packages(\"data.table\")\n",
        "library(data.table)\n",
        "#require(\"PerformanceAnalytics\")\n",
        "\n",
        "\n",
        "\n",
        "library(dplyr)\n"
      ],
      "execution_count": 2,
      "outputs": [
        {
          "output_type": "stream",
          "text": [
            "R[write to console]: Installing package into ‘/usr/local/lib/R/site-library’\n",
            "(as ‘lib’ is unspecified)\n",
            "\n",
            "R[write to console]: trying URL 'https://cran.rstudio.com/src/contrib/data.table_1.13.0.tar.gz'\n",
            "\n",
            "R[write to console]: Content type 'application/x-gzip'\n",
            "R[write to console]:  length 5273400 bytes (5.0 MB)\n",
            "\n",
            "R[write to console]: =\n",
            "R[write to console]: =\n",
            "R[write to console]: =\n",
            "R[write to console]: =\n",
            "R[write to console]: =\n",
            "R[write to console]: =\n",
            "R[write to console]: =\n",
            "R[write to console]: =\n",
            "R[write to console]: =\n",
            "R[write to console]: =\n",
            "R[write to console]: =\n",
            "R[write to console]: =\n",
            "R[write to console]: =\n",
            "R[write to console]: =\n",
            "R[write to console]: =\n",
            "R[write to console]: =\n",
            "R[write to console]: =\n",
            "R[write to console]: =\n",
            "R[write to console]: =\n",
            "R[write to console]: =\n",
            "R[write to console]: =\n",
            "R[write to console]: =\n",
            "R[write to console]: =\n",
            "R[write to console]: =\n",
            "R[write to console]: =\n",
            "R[write to console]: =\n",
            "R[write to console]: =\n",
            "R[write to console]: =\n",
            "R[write to console]: =\n",
            "R[write to console]: =\n",
            "R[write to console]: =\n",
            "R[write to console]: =\n",
            "R[write to console]: =\n",
            "R[write to console]: =\n",
            "R[write to console]: =\n",
            "R[write to console]: =\n",
            "R[write to console]: =\n",
            "R[write to console]: =\n",
            "R[write to console]: =\n",
            "R[write to console]: =\n",
            "R[write to console]: =\n",
            "R[write to console]: =\n",
            "R[write to console]: =\n",
            "R[write to console]: =\n",
            "R[write to console]: =\n",
            "R[write to console]: =\n",
            "R[write to console]: =\n",
            "R[write to console]: =\n",
            "R[write to console]: =\n",
            "R[write to console]: =\n",
            "R[write to console]: \n",
            "\n",
            "R[write to console]: downloaded 5.0 MB\n",
            "\n",
            "\n",
            "R[write to console]: \n",
            "\n",
            "R[write to console]: \n",
            "R[write to console]: The downloaded source packages are in\n",
            "\t‘/tmp/RtmpyO7UHs/downloaded_packages’\n",
            "R[write to console]: \n",
            "R[write to console]: \n",
            "\n",
            "R[write to console]: \n",
            "Attaching package: ‘dplyr’\n",
            "\n",
            "\n",
            "R[write to console]: The following objects are masked from ‘package:data.table’:\n",
            "\n",
            "    between, first, last\n",
            "\n",
            "\n",
            "R[write to console]: The following objects are masked from ‘package:stats’:\n",
            "\n",
            "    filter, lag\n",
            "\n",
            "\n",
            "R[write to console]: The following objects are masked from ‘package:base’:\n",
            "\n",
            "    intersect, setdiff, setequal, union\n",
            "\n",
            "\n"
          ],
          "name": "stderr"
        }
      ]
    },
    {
      "cell_type": "code",
      "metadata": {
        "id": "Qw6AthHnXMx4"
      },
      "source": [
        "%%R\n",
        "#FUNCIÓN DE INTERPOLACIÓN ALAMBRADA\n",
        "\n",
        "talamb=function(nodos,curva,plazos) #función de interpolación de tasas por el método alamabrada\n",
        "{\n",
        "  n=max(ncol(plazos),1)\n",
        "  m=max(ncol(nodos),1)\n",
        "  TC=matrix(0,1,n)\n",
        "  TL=matrix(0,1,n)\n",
        "  TF=matrix(0,1,n)\n",
        "  for (j in 1:n)\n",
        "  {\n",
        "    i=1\n",
        "    repeat\n",
        "    {\n",
        "      if(nodos[i]<= plazos[j] && plazos[j] <=nodos[i+1])\n",
        "      {\n",
        "        TC[j]=curva[i]\n",
        "        TL[j]=curva[i+1]\n",
        "        TF[j]=((((1+TL[j]*nodos[i+1]/360)/(1+TC[j]*nodos[i]/360))^((plazos[j]-nodos[i])/(nodos[i+1]-nodos[i]))*(1+TC[j]*nodos[i]/360))-1)*360/plazos[j]\n",
        "        break\n",
        "      }\n",
        "      else if (plazos[j]<nodos[1])\n",
        "      {\n",
        "        TC[j]=curva[1]\n",
        "        TL[j]=curva[1]\n",
        "        TF[j]=curva[1]\n",
        "        break\n",
        "      }\n",
        "      else if (plazos[j]>nodos[m])\n",
        "      {\n",
        "        TC[j]=curva[m]\n",
        "        TL[j]=curva[m]\n",
        "        TF[j]=curva[m]\n",
        "        break\n",
        "      }\n",
        "      else\n",
        "      {i=i+1}\n",
        "    }\n",
        "  }\n",
        "  as.matrix(t(as.numeric(rbind(TF))))\n",
        "}\n",
        "\n"
      ],
      "execution_count": 3,
      "outputs": []
    },
    {
      "cell_type": "markdown",
      "metadata": {
        "id": "hdBgOc9db2vM"
      },
      "source": [
        "# Definición de parámetros para valorar:\n",
        "SWAPS\n"
      ]
    },
    {
      "cell_type": "markdown",
      "metadata": {
        "id": "bZvhy8zdccGi"
      },
      "source": [
        "Cargamos parámetros para valoración:"
      ]
    },
    {
      "cell_type": "code",
      "metadata": {
        "id": "9xQDSuPQRWMH"
      },
      "source": [
        "%%R\n",
        "fval=as.Date(\"20180628\",format=\"%Y%m%d\") #Fecha de valoración\n",
        "itpl=0 #0 lineal 1 interpolación alambrada\n",
        "\n",
        "#SWAP\n",
        "btasadesc_sw=\"RiesgosFinancieros/2021-1/Insumos/tasa_TIIE_SW_OP.txt\"\n",
        "btasacupvar_sw=\"RiesgosFinancieros/2021-1/Insumos/tasa_DIRS_SW_OP.txt\"\n",
        "tasafija_sw=cbind(0.079,0.075) #se establece la tasa fija a pagar para cada swap\n",
        "plazos_sw=cbind(588,360) #se establece el número de días que vivirá el swap\n",
        "plazocupon_sw=cbind(28,28) #se establece el número de días que se pagará cada cupón\n",
        "contratos_sw=cbind(-1600,100000) #se establece el número de contratos_sw de cada swap\n",
        "nominal_sw=cbind(1,1) #se establece el nominal_sw de cada swap\n",
        "por_sw=cbind(0,0) #se establece 0 si se paga tasa fija y 1 si se paga tasa variable\n",
        "\n"
      ],
      "execution_count": 12,
      "outputs": []
    },
    {
      "cell_type": "markdown",
      "metadata": {
        "id": "wYq9vgjOcix0"
      },
      "source": [
        "# Carga de datos"
      ]
    },
    {
      "cell_type": "code",
      "metadata": {
        "id": "zP3dhNYMRWMP",
        "outputId": "1a73f6c3-31f8-4bcb-eb02-3bdb822797fa",
        "colab": {
          "base_uri": "https://localhost:8080/",
          "height": 580
        }
      },
      "source": [
        "%%R\n",
        "\n",
        "  \n",
        "  #CARGA DE DATOS PARA SWAP\n",
        "  data1<-read.table(btasadesc_sw)\n",
        "  n1<-nrow(data1)\n",
        "  m1_orig_sw=ncol(data1)\n",
        "  X1_orig_sw=data.table(mutate(data1[2:n1,1:m1_orig_sw],Date=as.Date(V1,format=\"%Y%m%d\")))\n",
        "  X1_orig_sw=X1_orig_sw%>%select(-V1)\n",
        "  nodos1_sw=data.frame(data1[1,2:m1_orig_sw])\n",
        "  \n",
        "  data2<-read.table(btasacupvar_sw)\n",
        "  n2<-nrow(data2)\n",
        "  m2_orig_sw=ncol(data2)\n",
        "  X2_orig_sw=data.table(mutate(data2[2:n1,1:m1_orig_sw],Date=as.Date(V1,format=\"%Y%m%d\")))\n",
        "  X2_orig_sw=X2_orig_sw%>%select(-V1)\n",
        "  nodos2_sw=data.frame(data2[1,2:m2_orig_sw])\n",
        "  \n",
        "\n",
        "print(X1_orig_sw[1:4])\n",
        "print(X2_orig_sw[1:4])\n",
        "print(nodos1_sw)"
      ],
      "execution_count": 13,
      "outputs": [
        {
          "output_type": "stream",
          "text": [
            "         V2       V3       V4       V5       V6       V7       V8       V9\n",
            "1: 8.051485 8.062321 8.104358 8.223960 8.393201 8.492391 8.572089 8.770682\n",
            "2: 8.016536 8.048647 8.102803 8.224503 8.401055 8.492246 8.572144 8.751695\n",
            "3: 8.050352 8.074009 8.102297 8.232799 8.400874 8.492216 8.572122 8.751831\n",
            "4: 8.001825 8.038139 8.105294 8.223375 8.384518 8.491140 8.563166 8.752018\n",
            "        V10      V11      V12       V13      V14      V15      V16      V17\n",
            "1: 8.930412 9.232427 9.610588 10.082187 10.59112 11.14255 11.73502 12.37160\n",
            "2: 8.911093 9.181149 9.522809  9.976765 10.46750 11.01064 11.59501 12.22267\n",
            "3: 8.891261 9.181133 9.523522  9.977425 10.46810 11.00649 11.58510 12.20624\n",
            "4: 8.881459 9.191721 9.524074  9.995334 10.50682 11.03940 11.60882 12.21951\n",
            "         Date\n",
            "1: 2020-03-06\n",
            "2: 2020-03-05\n",
            "3: 2020-03-04\n",
            "4: 2020-03-03\n",
            "         V2       V3       V4       V5       V6       V7       V8       V9\n",
            "1: 7.900000 8.000000 8.102531 8.166071 8.247143 8.258393 8.250357 8.113077\n",
            "2: 7.917478 8.017699 8.120457 8.184138 8.265389 8.267893 8.250958 8.089056\n",
            "3: 7.934956 8.035398 8.138383 8.202204 8.283635 8.294397 8.285779 8.089911\n",
            "4: 7.865044 7.964602 8.066679 8.129938 8.210651 8.256397 8.283377 8.089367\n",
            "        V10      V11      V12      V13      V14      V15      V16      V17\n",
            "1: 7.955275 7.902198 7.890549 7.917971 7.947688 7.979538 8.010974 8.041606\n",
            "2: 7.942882 7.846475 7.839408 7.854243 7.884480 7.927159 7.979805 8.019378\n",
            "3: 7.915280 7.813544 7.812232 7.811980 7.819942 7.844935 7.893856 7.940941\n",
            "4: 7.870817 7.834115 7.796440 7.750825 7.772299 7.808356 7.848855 7.880090\n",
            "         Date\n",
            "1: 2020-03-06\n",
            "2: 2020-03-05\n",
            "3: 2020-03-04\n",
            "4: 2020-03-03\n",
            "  V2 V3 V4 V5  V6  V7  V8  V9  V10  V11  V12  V13  V14  V15  V16  V17\n",
            "1  1  7 30 90 180 270 360 720 1080 1440 1800 2160 2520 2880 3240 3600\n"
          ],
          "name": "stdout"
        }
      ]
    },
    {
      "cell_type": "markdown",
      "metadata": {
        "id": "re1W63Xxcqk6"
      },
      "source": [
        "# Integración de Insumos"
      ]
    },
    {
      "cell_type": "markdown",
      "metadata": {
        "id": "dFkiz2PAcuD7"
      },
      "source": [
        "Aseguramiento de que todos los factores de riesgo estén alineados en sus fechas, nos quedamos con la intersección. Posteriormente, filtramos cada histórico factor de riesgo hacia esta intersección de todos."
      ]
    },
    {
      "cell_type": "code",
      "metadata": {
        "id": "TfZnjpRrRWMW",
        "outputId": "376b8d2b-c4cc-4f1d-988f-f78209947dec",
        "colab": {
          "base_uri": "https://localhost:8080/",
          "height": 228
        }
      },
      "source": [
        "%%R\n",
        "#INTERSECCIÓN DE FECHAS DE TODOS LOS INSUMOS    \n",
        "  \n",
        "#head(x_orig_gov)  \n",
        "sw_dt=data.table(Date=as.Date(X1_orig_sw[X2_orig_sw,on=.(Date),nomatch=0]$Date)) #Fechas acciones, equity, guber, st (bonde), libor, fwd, spot, equity or index, swap cupón\n",
        "print(sw_dt)"
      ],
      "execution_count": 14,
      "outputs": [
        {
          "output_type": "stream",
          "text": [
            "           Date\n",
            "  1: 2020-03-06\n",
            "  2: 2020-03-05\n",
            "  3: 2020-03-04\n",
            "  4: 2020-03-03\n",
            "  5: 2020-03-02\n",
            " ---           \n",
            "228: 2019-03-25\n",
            "229: 2019-03-21\n",
            "230: 2019-03-20\n",
            "231: 2019-03-19\n",
            "232: 2019-03-18\n"
          ],
          "name": "stdout"
        }
      ]
    },
    {
      "cell_type": "code",
      "metadata": {
        "id": "kMNQXZpl0x7Y",
        "outputId": "be907f08-6247-4979-f972-e79148012ed6",
        "colab": {
          "base_uri": "https://localhost:8080/",
          "height": 228
        }
      },
      "source": [
        "%%R\n",
        "n=nrow(sw_dt) #Historia de todos\n",
        "\n",
        "\n",
        "\n",
        "#historia de swaps\n",
        "X1_orig_sw=sw_dt[X1_orig_sw,on=.(Date),nomatch=0][order(-Date)]\n",
        "X1_orig_sw=X1_orig_sw%>%select(-Date)/100\n",
        "X2_orig_sw=sw_dt[X2_orig_sw,on=.(Date),nomatch=0][order(-Date)]\n",
        "X2_orig_sw=X2_orig_sw%>%select(-Date)/100\n",
        "\n",
        "\n",
        "print(X1_orig_sw[1:3])"
      ],
      "execution_count": 15,
      "outputs": [
        {
          "output_type": "stream",
          "text": [
            "           V2         V3         V4         V5         V6         V7         V8\n",
            "1: 0.08051485 0.08062321 0.08104358 0.08223960 0.08393201 0.08492391 0.08572089\n",
            "2: 0.08016536 0.08048647 0.08102803 0.08224503 0.08401055 0.08492246 0.08572144\n",
            "3: 0.08050352 0.08074009 0.08102297 0.08232799 0.08400874 0.08492216 0.08572122\n",
            "           V9        V10        V11        V12        V13       V14       V15\n",
            "1: 0.08770682 0.08930412 0.09232427 0.09610588 0.10082187 0.1059112 0.1114255\n",
            "2: 0.08751695 0.08911093 0.09181149 0.09522809 0.09976765 0.1046750 0.1101064\n",
            "3: 0.08751831 0.08891261 0.09181133 0.09523522 0.09977425 0.1046810 0.1100649\n",
            "         V16       V17\n",
            "1: 0.1173502 0.1237160\n",
            "2: 0.1159501 0.1222267\n",
            "3: 0.1158510 0.1220624\n"
          ],
          "name": "stdout"
        }
      ]
    },
    {
      "cell_type": "markdown",
      "metadata": {
        "id": "EbJH8k5GxWrr"
      },
      "source": [
        "## SWAPS"
      ]
    },
    {
      "cell_type": "code",
      "metadata": {
        "id": "53jKdJPVxY_g",
        "outputId": "c231084c-9dc6-4218-83f3-8301c57d1b45",
        "colab": {
          "base_uri": "https://localhost:8080/",
          "height": 105
        }
      },
      "source": [
        "%%R\n",
        "##SWAP TASA FIJA VS TASA VARIABLE CÁLCULO\n",
        "\n",
        "##Interpolamos\n",
        "\n",
        "nodosvp=nodos1_sw\n",
        "nodostc=nodos2_sw\n",
        "curvavp=as.matrix(X1_orig_sw)\n",
        "curvatc=X2_orig_sw\n",
        "n1=nrow(curvavp)\n",
        "n2=nrow(curvatc)\n",
        "\n",
        "\n",
        "m=max(ncol(plazos_sw),1) #número de contratos_sw swap a valorar\n",
        "print(m)\n",
        "N=matrix(0,1,m) #es un vector de m valores donde se cargarán los m número de cupones a pagar para cada contrato\n",
        "\n",
        "for (j in (1:m))\n",
        "{\n",
        "  N[j]=as.integer(plazos_sw[j]/plazocupon_sw[j])+1 #número de cupones a pagar\n",
        "}\n",
        "print(N)\n",
        "VTplazos_sw=matrix(0,1,sum(N)) #vector de todos los plazos_sw de todos los contratos_sw\n",
        "contratos_swT=matrix(0,1,sum(N)) #vector de todos los contratos_sw de todos los flujos de todos los contratos_sw\n",
        "nominal_swT=matrix(0,1,sum(N)) #vector de todos los nominal_swes de todos los flujos de todos los contratos_sw\n",
        "por_swT=matrix(0,1,sum(N)) #vector de todos los dummy si paga o recibe de todos los flujos de todos los contratos_sw\n",
        "plazocupon_swT=matrix(0,1,sum(N)) #vector de todos los plazos_swcupon de todos los flujos de todos los contratos_sw\n",
        "tasafija_swT=matrix(0,1,sum(N)) #vector de tasas fijas de todos los flujos de todos los contratos_sw\n",
        "VTplazos_swc=matrix(0,1,sum(N)) #vector de todos los plazos_sw cortos de todos los contratos_sw\n",
        "\n",
        "\n",
        "plazini=plazos_sw-plazocupon_sw*(N-1) #vector de plazos_sw iniciales}\n",
        "print(plazini)\n"
      ],
      "execution_count": 18,
      "outputs": [
        {
          "output_type": "stream",
          "text": [
            "[1] 2\n",
            "     [,1] [,2]\n",
            "[1,]   22   13\n",
            "     [,1] [,2]\n",
            "[1,]    0   24\n"
          ],
          "name": "stdout"
        }
      ]
    },
    {
      "cell_type": "code",
      "metadata": {
        "id": "_GwObqZP3NQl",
        "outputId": "185c88d8-1a58-4f26-ac38-341567d0b413",
        "colab": {
          "base_uri": "https://localhost:8080/",
          "height": 228
        }
      },
      "source": [
        "%%R\n",
        "for (j in (1:m))\n",
        "{\n",
        "  if (j==1)\n",
        "  {\n",
        "    VTplazos_sw[,1:sum(N[1:j])]=seq(plazini[j],plazos_sw[j], by=plazocupon_sw[j])\n",
        "    VTplazos_swc[,1:sum(N[1:j])]=c(0,VTplazos_sw[,1:(sum(N[1:j])-1)])\n",
        "    contratos_swT[,1:sum(N[1:j])]=seq(contratos_sw[j],contratos_sw[j])\n",
        "    nominal_swT[,1:sum(N[1:j])]=seq(nominal_sw[j],nominal_sw[j])\n",
        "    por_swT[,1:sum(N[1:j])]=seq(por_sw[j],por_sw[j])\n",
        "    plazocupon_swT[,1:sum(N[1:j])]=seq(plazocupon_sw[j],plazocupon_sw[j])\n",
        "    tasafija_swT[,1:sum(N[1:j])]=seq(tasafija_sw[j],tasafija_sw[j])\n",
        "  }\n",
        "  else\n",
        "  {\n",
        "    VTplazos_sw[,(sum(N[1:j-1])+1):sum(N[1:j])]=seq(plazini[j],plazos_sw[j], by=plazocupon_sw[j])\n",
        "    VTplazos_swc[,(sum(N[1:j-1])+1):sum(N[1:j])]=c(0,VTplazos_sw[,(sum(N[1:j-1])+1):(sum(N[1:j])-1)])\n",
        "    contratos_swT[,(sum(N[1:j-1])+1):sum(N[1:j])]=seq(contratos_sw[j],contratos_sw[j])\t\t\t\t\t\n",
        "    nominal_swT[,(sum(N[1:j-1])+1):sum(N[1:j])]=seq(nominal_sw[j],nominal_sw[j])\n",
        "    por_swT[,(sum(N[1:j-1])+1):sum(N[1:j])]=seq(por_sw[j],por_sw[j])\n",
        "    plazocupon_swT[,(sum(N[1:j-1])+1):sum(N[1:j])]=seq(plazocupon_sw[j],plazocupon_sw[j])\n",
        "    tasafija_swT[,(sum(N[1:j-1])+1):sum(N[1:j])]=seq(tasafija_sw[j],tasafija_sw[j])\n",
        "  }\n",
        "}\n",
        "\n",
        "print(VTplazos_sw)\n",
        "print(VTplazos_swc)"
      ],
      "execution_count": 20,
      "outputs": [
        {
          "output_type": "stream",
          "text": [
            "     [,1] [,2] [,3] [,4] [,5] [,6] [,7] [,8] [,9] [,10] [,11] [,12] [,13] [,14]\n",
            "[1,]    0   28   56   84  112  140  168  196  224   252   280   308   336   364\n",
            "     [,15] [,16] [,17] [,18] [,19] [,20] [,21] [,22] [,23] [,24] [,25] [,26]\n",
            "[1,]   392   420   448   476   504   532   560   588    24    52    80   108\n",
            "     [,27] [,28] [,29] [,30] [,31] [,32] [,33] [,34] [,35]\n",
            "[1,]   136   164   192   220   248   276   304   332   360\n",
            "     [,1] [,2] [,3] [,4] [,5] [,6] [,7] [,8] [,9] [,10] [,11] [,12] [,13] [,14]\n",
            "[1,]    0    0   28   56   84  112  140  168  196   224   252   280   308   336\n",
            "     [,15] [,16] [,17] [,18] [,19] [,20] [,21] [,22] [,23] [,24] [,25] [,26]\n",
            "[1,]   364   392   420   448   476   504   532   560     0    24    52    80\n",
            "     [,27] [,28] [,29] [,30] [,31] [,32] [,33] [,34] [,35]\n",
            "[1,]   108   136   164   192   220   248   276   304   332\n"
          ],
          "name": "stdout"
        }
      ]
    },
    {
      "cell_type": "code",
      "metadata": {
        "id": "Sfk1q46X5Ba3",
        "outputId": "5182f176-486f-4215-a60d-4e171fe0fb9f",
        "colab": {
          "base_uri": "https://localhost:8080/",
          "height": 140
        }
      },
      "source": [
        "%%R\n",
        "Xvp=matrix(0,n,ncol(VTplazos_sw))\n",
        "Xtc=matrix(0,n,ncol(VTplazos_sw))\n",
        "Xtcc=matrix(0,n,ncol(VTplazos_sw))\n",
        "XtfwdT=matrix(0,n,ncol(VTplazos_sw))\n",
        "\n",
        "for (i in (1:n))\n",
        "{\n",
        "  Xvp[i,]=if(itpl==0){approx(nodosvp,curvavp[i,],VTplazos_sw,rule=2)$y}else{talamb(nodosvp,curvavp[i,],VTplazos_sw)}\n",
        "  Xtc[i,]=if(itpl==0){approx(nodostc,curvatc[i,],VTplazos_sw,rule=2)$y}else{talamb(nodostc,curvatc[i,],VTplazos_sw)}\n",
        "  Xtcc[i,]=if(itpl==0){approx(nodostc,curvatc[i,],VTplazos_swc, rule=2)$y}else{talamb(nodostc,curvatc[i,],VTplazos_swc)}\n",
        "  \n",
        "  XtfwdT[i,]=((1+Xtc[i,]*VTplazos_sw/360)/(1+Xtcc[i,]*VTplazos_swc/360)-1)*360/plazocupon_swT \n",
        "  for (j in (1:ncol(VTplazos_sw)))\n",
        "  {\n",
        "    if (VTplazos_sw[j]<= plazocupon_swT[j])\n",
        "    {\n",
        "      XtfwdT[i,j]=Xtc[i,j]\n",
        "    }\n",
        "    else\n",
        "    {\n",
        "      j=sum(N[1:j])\n",
        "    }\n",
        "  }\n",
        "}\n",
        "\n",
        "print(Xvp[1:28])\n",
        "print(XtfwdT[1:10])"
      ],
      "execution_count": 24,
      "outputs": [
        {
          "output_type": "stream",
          "text": [
            " [1] 0.08051485 0.08016536 0.08050352 0.08001825 0.08031415 0.08013452\n",
            " [7] 0.08014507 0.08031415 0.08031415 0.07997598 0.08043033 0.08039869\n",
            "[13] 0.08065231 0.08048323 0.08039869 0.08013452 0.08018734 0.08012309\n",
            "[19] 0.08010280 0.08004362 0.07996548 0.07992526 0.08006053 0.08004362\n",
            "[25] 0.07997598 0.08017677 0.08014507 0.08001825\n",
            " [1] 0.07900000 0.07917478 0.07934956 0.07865044 0.07865044 0.07865044\n",
            " [7] 0.07865044 0.07882522 0.07847566 0.07865044\n"
          ],
          "name": "stdout"
        }
      ]
    },
    {
      "cell_type": "code",
      "metadata": {
        "id": "AnWG1pRo6EYC",
        "outputId": "36989934-c833-4b80-b45e-1fcceb2aa175",
        "colab": {
          "base_uri": "https://localhost:8080/",
          "height": 52
        }
      },
      "source": [
        "%%R\n",
        "\n",
        "X_sw=cbind(XtfwdT,Xvp)\n",
        "\n",
        "swap=function(por_swT, contratos_swT, nominal_swT, XtfwdT, tasafija_swT, plazocupon_swT, VTplazos_sw, Xvp, N)\n",
        "{\n",
        "  V0=matrix(0,1,ncol(N))\n",
        "  V0f=(((contratos_swT*(XtfwdT-tasafija_swT)*(plazocupon_swT/360)))/(1+Xvp*VTplazos_sw/360))*nominal_swT*(-1)^por_swT\n",
        "  for (j in (1:ncol(N)))\n",
        "  {\n",
        "    if(j==1)\n",
        "    {\n",
        "      V0[j]=sum(V0f[j:N[j]])\n",
        "    }\n",
        "    else\n",
        "    {\n",
        "      V0[j]=sum(V0f[(sum(N[1:j-1])+1):(sum(N[1:j]))])\n",
        "    }\n",
        "  }\n",
        "  V0\n",
        "}\n",
        "\n",
        "V0_sw=swap(por_swT, contratos_swT, nominal_swT, XtfwdT[1,], tasafija_swT, plazocupon_swT, VTplazos_sw, Xvp[1,], N)\n",
        "\n",
        "V0_sw"
      ],
      "execution_count": 25,
      "outputs": [
        {
          "output_type": "stream",
          "text": [
            "         [,1]     [,2]\n",
            "[1,] 4.875753 442.4803\n"
          ],
          "name": "stdout"
        }
      ]
    }
  ]
}