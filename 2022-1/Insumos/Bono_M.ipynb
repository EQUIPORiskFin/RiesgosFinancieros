{
  "nbformat": 4,
  "nbformat_minor": 0,
  "metadata": {
    "colab": {
      "name": "Bono M.ipynb",
      "version": "0.3.2",
      "provenance": [],
      "collapsed_sections": [],
      "include_colab_link": true
    },
    "kernelspec": {
      "name": "python3",
      "display_name": "Python 3"
    },
    "accelerator": "GPU"
  },
  "cells": [
    {
      "cell_type": "markdown",
      "metadata": {
        "id": "view-in-github",
        "colab_type": "text"
      },
      "source": [
        "<a href=\"https://colab.research.google.com/github/pikey-msc/RiesgosFinancieros/blob/master/2020-1/Insumos/Bono_M.ipynb\" target=\"_parent\"><img src=\"https://colab.research.google.com/assets/colab-badge.svg\" alt=\"Open In Colab\"/></a>"
      ]
    },
    {
      "cell_type": "code",
      "metadata": {
        "id": "dddCnnS8X1uM",
        "colab_type": "code",
        "colab": {
          "base_uri": "https://localhost:8080/",
          "height": 122
        },
        "outputId": "530cf340-a26f-41ad-8811-646d63fea59e"
      },
      "source": [
        "%load_ext rpy2.ipython\n",
        "!rm -rf RiesgosFinancieros\n",
        "!git clone \"https://github.com/pikey-msc/RiesgosFinancieros/\""
      ],
      "execution_count": 1,
      "outputs": [
        {
          "output_type": "stream",
          "text": [
            "Cloning into 'RiesgosFinancieros'...\n",
            "remote: Enumerating objects: 42, done.\u001b[K\n",
            "remote: Counting objects: 100% (42/42), done.\u001b[K\n",
            "remote: Compressing objects: 100% (40/40), done.\u001b[K\n",
            "remote: Total 42 (delta 7), reused 0 (delta 0), pack-reused 0\u001b[K\n",
            "Unpacking objects: 100% (42/42), done.\n"
          ],
          "name": "stdout"
        }
      ]
    },
    {
      "cell_type": "markdown",
      "metadata": {
        "id": "lIvkx-p7bl8T",
        "colab_type": "text"
      },
      "source": [
        "Características\n",
        "\n",
        "Valor nominal: Depende emisora, $100$ MXN (Bonos M), $1,000$ USD (United Mexican States: UMS).\n",
        "\n",
        "Plazo: Depende emisora, 3, 5, 7, 10, 20 y 30 años (Bonos M), y 5, 10, 15, 20, 25 y 30 años (UMS).\n",
        "\n",
        "Colocación: Subasta de Banco de México.\n",
        "\n",
        "Negociación: Depende emisora, a tasa de rendimiento (Bonos M), a tasa de rendimiento y en USD (UMS)\n",
        "\n",
        "Intereses: Depende de emisora, 182 días (Bonos M), 6 meses o anual (la tasa puede ser revisable). \n"
      ]
    },
    {
      "cell_type": "code",
      "metadata": {
        "id": "FseL5iIjX9jg",
        "colab_type": "code",
        "colab": {}
      },
      "source": [
        "%%R\n",
        "\n",
        "btasadesc=\"RiesgosFinancieros/2020-1/Insumos/tasa_yield.txt\"\n",
        "tfcupon=cbind( 0.065,\t0.0675,\t0.07,\t0.075,\t0.078) #Tasafija del cupón\n",
        "plazos=cbind( 378,\t405,\t550,\t1200,\t1800) #Vencimiento del bono\n",
        "plazocupon=cbind( 182,\t182, 182, 182, 182) #plazos fijos de cada cupón\n",
        "contratos=cbind(22000, -29000, 29000, -46000, 10000) #posición invertida\n",
        "nominal=100\n",
        "itpl=1 #poner 0 si se quiere interpolación lineal o 1 si se quiere tasa alambrada\n"
      ],
      "execution_count": 0,
      "outputs": []
    },
    {
      "cell_type": "code",
      "metadata": {
        "id": "u03or5BxYlzR",
        "colab_type": "code",
        "colab": {}
      },
      "source": [
        "%%R\n",
        "\n",
        "#carga de tasas de descuento\n",
        "data1<-read.table(btasadesc)\n",
        "n<-nrow(data1)\n",
        "m_orig=ncol(data1)\n",
        "X_orig=data.frame(data1[2:n,2:m_orig])\n",
        "nodos=data.frame(data1[1,2:m_orig])\n",
        "n=n-1"
      ],
      "execution_count": 0,
      "outputs": []
    },
    {
      "cell_type": "code",
      "metadata": {
        "id": "-9BKa-kdZTSX",
        "colab_type": "code",
        "colab": {}
      },
      "source": [
        "%%R\n",
        "#Tasa alambrada\n",
        "talamb=function(nodos,curva,plazos) #función de interpolación de tasas por el método alamabrada\n",
        "{\n",
        "  n=max(ncol(plazos),1)\n",
        "  m=max(ncol(nodos),1)\n",
        "  TC=matrix(0,1,n)\n",
        "  TL=matrix(0,1,n)\n",
        "  TF=matrix(0,1,n)\n",
        "  for (j in 1:n)\n",
        "  {\n",
        "    i=1\n",
        "    repeat\n",
        "    {\n",
        "      if(nodos[i]<= plazos[j] && plazos[j] <=nodos[i+1])\n",
        "      {\n",
        "        TC[j]=curva[i]\n",
        "        TL[j]=curva[i+1]\n",
        "        TF[j]=((((1+TL[j]*nodos[i+1]/360)/(1+TC[j]*nodos[i]/360))^((plazos[j]-nodos[i])/(nodos[i+1]-nodos[i]))*(1+TC[j]*nodos[i]/360))-1)*360/plazos[j]\n",
        "        break\n",
        "      }\n",
        "      else if (plazos[j]<nodos[1])\n",
        "      {\n",
        "        TC[j]=curva[1]\n",
        "        TL[j]=curva[1]\n",
        "        TF[j]=curva[1]\n",
        "        break\n",
        "      }\n",
        "      else if (plazos[j]>nodos[m])\n",
        "      {\n",
        "        TC[j]=curva[m]\n",
        "        TL[j]=curva[m]\n",
        "        TF[j]=curva[m]\n",
        "        break\n",
        "      }\n",
        "      else\n",
        "      {i=i+1}\n",
        "    }\n",
        "  }\n",
        "  as.matrix(t(as.numeric(rbind(TF))))\n",
        "}"
      ],
      "execution_count": 0,
      "outputs": []
    },
    {
      "cell_type": "code",
      "metadata": {
        "id": "HtmpYwXjYwa6",
        "colab_type": "code",
        "colab": {}
      },
      "source": [
        "%%R\n",
        "m=ncol(plazos)\n",
        "X=matrix(0,n-1,m)\n",
        "for (i in 1:(n-1))\n",
        "{\n",
        "X[i,]=if(itpl==0){approx(nodos,X_orig[i,],plazos)$y}else{talamb(nodos,X_orig[i,],plazos)}\n",
        "}"
      ],
      "execution_count": 0,
      "outputs": []
    },
    {
      "cell_type": "markdown",
      "metadata": {
        "id": "vvVq6_rpak6r",
        "colab_type": "text"
      },
      "source": [
        "$$V_{ty}=\\sum_{i=1}^{n}\\frac{N\\cdot C \\cdot t_{c}\\cdot p_c/360}{(1+t_{n} \\cdot p_c/360)^{(p_i/p_c)}} + \\frac{N\\cdot C}{(1+t_{n} \\cdot p_c/360)^{(p_n/p_c)}} \\quad \\textrm{ó}$$\n",
        "\t$$ V_{ty}=\\Bigg(\\frac{N\\cdot C \\cdot t_{c}\\cdot p_c}{360}\\bigg( \\frac{(1-(1+\\frac{t_n\\cdot p_c}{360})^{-(\\Big[\\frac{p_n}{p_c}\\Big]+1)})}{t_n\\cdot p_c/360}\\bigg) + \\frac{N\\cdot C}{(1+\\frac{t_{n} \\cdot p_c}{360})^{(\\Big[\\frac{p_n}{p_c}\\Big]+1)}}\\Bigg)\\bigg(1+\\frac{t_n\\cdot p_c}{360}\\bigg)^{1-\\frac{p_1}{p_c}}$$\t\t\t\n",
        "\t\n",
        "Donde $V_{ty}$: Valor del bono con tasa yield $t_n$ (Precio Sucio)\n",
        "$t_n$: tasa de interés al vencimiento.\n",
        "$N$: Valor Nominal del bono\n",
        "$C$: Número de contratos\n",
        "$p_{c}$: Plazo fijo para cada pago de intereses del cupón\n",
        "$p_{i}$: Plazo acumulado (en días) al cupón $i$\n",
        "$t_{c}$: Tasa cupón fija. \n",
        "En este caso se tiene un factor de riesgo subyacente y UN SÓLO factor de riesgo que son los cupones. \n"
      ]
    },
    {
      "cell_type": "code",
      "metadata": {
        "id": "xCHwWntAYyFM",
        "colab_type": "code",
        "colab": {
          "base_uri": "https://localhost:8080/",
          "height": 50
        },
        "outputId": "6f7b1ca2-08e0-465b-eb6a-834f9850f8f8"
      },
      "source": [
        "%%R\n",
        "bonoMyield=function(x, plazos, plazocupon, tfcupon, nominal, contratos) #valoración bono tasa fija\n",
        "{\n",
        "x=x0  \n",
        "N=as.integer(plazos/plazocupon)+1   \n",
        "a=(1-(1+x*plazocupon/360)^(-N))/(plazocupon*x/360)\n",
        "p1=plazos-plazocupon*(N-1)   \n",
        "((contratos*nominal*tfcupon*plazocupon/360)*a+(contratos*nominal)/((1+x*plazocupon/360)^N))*(1+x*plazocupon/360)^(1-p1/plazocupon)   \n",
        "}\n",
        "\n",
        "x0=X[1,] #tasas de descuento valor actual\n",
        "bonoMyield(x0,plazos, plazocupon, tfcupon, nominal, contratos)\n",
        "\n"
      ],
      "execution_count": 8,
      "outputs": [
        {
          "output_type": "display_data",
          "data": {
            "text/plain": [
              "        [,1]     [,2]    [,3]     [,4]    [,5]\n",
              "[1,] 2236687 -2943124 2971369 -4645964 1009444\n"
            ]
          },
          "metadata": {
            "tags": []
          }
        }
      ]
    },
    {
      "cell_type": "code",
      "metadata": {
        "id": "ejyFiUZ7a6AY",
        "colab_type": "code",
        "colab": {
          "base_uri": "https://localhost:8080/",
          "height": 50
        },
        "outputId": "08fc17d0-8f29-4460-909b-efc861e46fb0"
      },
      "source": [
        "%%R\n",
        "#OTRA OPCIÓN DE HACER LA VALORACIÓN\n",
        "bonotasafija=function(x, plazos, plazocupon, tfcupon, nominal, contratos) #valoración bono tasa fija\n",
        "{\n",
        "\tm=max(ncol(plazos),1)\n",
        "\tN=matrix(0,1,m)\n",
        "\tfor (j in (1:m))\n",
        "\t{\n",
        "\tN[j]=as.integer(plazos[j]/plazocupon[j])+1\n",
        "\t}\n",
        "\tplazini=plazos-plazocupon*(N-1)\n",
        "\tsvp=matrix(0,1,m)\n",
        "\tfor (j in (1:m))\n",
        "\t{\n",
        "\tvp=matrix(0,1,N[j])\n",
        "\t\tfor (i in (1:N[j]))\n",
        "\t\t{\n",
        "\t\tif(i==N[j])\n",
        "\t\t\t{\n",
        "\t\t\tplazocupcurr=plazini[j]+plazocupon[j]*(i-1)\n",
        "\t\t\tvp[i]=(contratos[j]*nominal*tfcupon[j]*plazocupon[j]/360+contratos[j]*nominal)*(1+x[j]*plazocupon[j]/360)^(-(plazocupcurr/plazocupon[j]))\n",
        "\t\t\tsvp[j]=vp[i]+svp[j]\n",
        "\t\t\t}\n",
        "\t\telse\n",
        "\t\t\t{\n",
        "\t\t\tplazocupcurr=plazini[j]+plazocupon[j]*(i-1)\n",
        "\t\t\tvp[i]=contratos[j]*nominal*tfcupon[j]*plazocupon[j]/360*(1+x[j]*plazocupon[j]/360)^(-(plazocupcurr/plazocupon[j]))\n",
        "\t\t\tsvp[j]=vp[i]+svp[j]\n",
        "\t\t\t}\n",
        "\t\t}\n",
        "\t}\n",
        "\t\tsvp\n",
        "}\n",
        "\n",
        "\n",
        "V0=bonotasafija(x0, plazos, plazocupon, tfcupon, nominal, contratos) #Valor del portafolio\n",
        "V0"
      ],
      "execution_count": 10,
      "outputs": [
        {
          "output_type": "display_data",
          "data": {
            "text/plain": [
              "        [,1]     [,2]    [,3]     [,4]    [,5]\n",
              "[1,] 2236687 -2943124 2971369 -4645964 1009444\n"
            ]
          },
          "metadata": {
            "tags": []
          }
        }
      ]
    }
  ]
}