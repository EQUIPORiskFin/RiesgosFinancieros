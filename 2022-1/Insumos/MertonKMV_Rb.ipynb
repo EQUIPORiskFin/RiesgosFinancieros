{
  "nbformat": 4,
  "nbformat_minor": 0,
  "metadata": {
    "kernelspec": {
      "display_name": "R",
      "language": "R",
      "name": "ir"
    },
    "language_info": {
      "codemirror_mode": "r",
      "file_extension": ".r",
      "mimetype": "text/x-r-source",
      "name": "R",
      "pygments_lexer": "r",
      "version": "3.3.1"
    },
    "colab": {
      "name": "MertonKMV_R.ipynb",
      "provenance": [],
      "collapsed_sections": [],
      "include_colab_link": true
    },
    "accelerator": "GPU"
  },
  "cells": [
    {
      "cell_type": "markdown",
      "metadata": {
        "id": "view-in-github",
        "colab_type": "text"
      },
      "source": [
        "<a href=\"https://colab.research.google.com/github/pikey-msc/RiesgosFinancieros/blob/master/2020-1/Insumos/MertonKMV_Rb.ipynb\" target=\"_parent\"><img src=\"https://colab.research.google.com/assets/colab-badge.svg\" alt=\"Open In Colab\"/></a>"
      ]
    },
    {
      "cell_type": "markdown",
      "metadata": {
        "id": "dPEF1ujr7wvM",
        "colab_type": "text"
      },
      "source": [
        "Paso de carga de librerías en R de todas las que se utilizarán"
      ]
    },
    {
      "cell_type": "code",
      "metadata": {
        "id": "57AsDOlcRWL9",
        "colab_type": "code",
        "outputId": "77b11126-60e6-465b-d0f7-1d892b234d4d",
        "colab": {
          "base_uri": "https://localhost:8080/",
          "height": 829
        }
      },
      "source": [
        "install.packages(\"quantmod\")\n",
        "install.packages(\"curl\")\n",
        "install.packages(\"data.table\")\n",
        "install.packages(\"RCurl\")\n",
        "install.packages(\"bitops\")\n",
        "install.packages(\"setInternet2\")\n",
        "install.packages(\"rootSolve\")\n",
        "install.packages(\"xml2\")\n",
        "library(rootSolve)\n",
        "library(quantmod)\n",
        "library(RCurl)\n",
        "library(data.table)\n",
        "library(xml2)\n",
        "require(jsonlite) #para el getQuotes\n"
      ],
      "execution_count": 1,
      "outputs": [
        {
          "output_type": "stream",
          "text": [
            "Installing package into ‘/usr/local/lib/R/site-library’\n",
            "(as ‘lib’ is unspecified)\n",
            "also installing the dependencies ‘xts’, ‘zoo’, ‘TTR’\n",
            "\n",
            "Installing package into ‘/usr/local/lib/R/site-library’\n",
            "(as ‘lib’ is unspecified)\n",
            "Installing package into ‘/usr/local/lib/R/site-library’\n",
            "(as ‘lib’ is unspecified)\n",
            "Installing package into ‘/usr/local/lib/R/site-library’\n",
            "(as ‘lib’ is unspecified)\n",
            "also installing the dependency ‘bitops’\n",
            "\n",
            "Installing package into ‘/usr/local/lib/R/site-library’\n",
            "(as ‘lib’ is unspecified)\n",
            "Installing package into ‘/usr/local/lib/R/site-library’\n",
            "(as ‘lib’ is unspecified)\n",
            "Warning message:\n",
            "“package ‘setInternet2’ is not available (for R version 3.6.1)”Installing package into ‘/usr/local/lib/R/site-library’\n",
            "(as ‘lib’ is unspecified)\n",
            "Installing package into ‘/usr/local/lib/R/site-library’\n",
            "(as ‘lib’ is unspecified)\n",
            "Loading required package: xts\n",
            "Loading required package: zoo\n",
            "\n",
            "Attaching package: ‘zoo’\n",
            "\n",
            "The following objects are masked from ‘package:base’:\n",
            "\n",
            "    as.Date, as.Date.numeric\n",
            "\n",
            "Registered S3 method overwritten by 'xts':\n",
            "  method     from\n",
            "  as.zoo.xts zoo \n",
            "Loading required package: TTR\n",
            "Registered S3 method overwritten by 'quantmod':\n",
            "  method            from\n",
            "  as.zoo.data.frame zoo \n",
            "Version 0.4-0 included new data defaults. See ?getSymbols.\n",
            "Loading required package: bitops\n",
            "\n",
            "Attaching package: ‘data.table’\n",
            "\n",
            "The following objects are masked from ‘package:xts’:\n",
            "\n",
            "    first, last\n",
            "\n",
            "Loading required package: jsonlite\n"
          ],
          "name": "stderr"
        }
      ]
    },
    {
      "cell_type": "code",
      "metadata": {
        "id": "hmhB2TtvLFBw",
        "colab_type": "code",
        "outputId": "597de14c-5ada-4856-f32f-cf4a235c3d72",
        "colab": {
          "base_uri": "https://localhost:8080/",
          "height": 227
        }
      },
      "source": [
        "Symbols<-c  (\"WALMEX.MX\")#tienen que ir en orden alfabético\n",
        "length(Symbols)\n",
        "\n",
        "\n",
        "start_date=Sys.Date()-3660 #fecha inicial\n",
        "\n",
        "#Creación del objeto para guardar los datos\n",
        "dataEnv<-new.env()\n",
        "\n",
        "#obtener los datos\n",
        "getSymbols.yahoo(Symbols,env=dataEnv,from=start_date)\n",
        "\n",
        "\n",
        "#limpiarlos, alinearnos y quedarnos con el precio de cierre \n",
        "\n",
        "\n",
        "\n",
        "#muestra de datos\n",
        "#Nos quedamos con los precios\n",
        "stock_prices = na.omit(dataEnv$`WALMEX.MX`)\n",
        "stock_prices=stock_prices[,4] #Close\n",
        "tail(stock_prices[,])\n"
      ],
      "execution_count": 2,
      "outputs": [
        {
          "output_type": "display_data",
          "data": {
            "text/plain": [
              "[1] 1"
            ],
            "text/latex": "1",
            "text/markdown": "1",
            "text/html": [
              "1"
            ]
          },
          "metadata": {
            "tags": []
          }
        },
        {
          "output_type": "stream",
          "text": [
            "Warning message:\n",
            "“WALMEX.MX contains missing values. Some functions will not work if objects contain missing values in the middle of the series. Consider using na.omit(), na.approx(), na.fill(), etc to remove or replace them.”"
          ],
          "name": "stderr"
        },
        {
          "output_type": "display_data",
          "data": {
            "text/plain": [
              "[1] \"WALMEX.MX\""
            ],
            "text/latex": "'WALMEX.MX'",
            "text/markdown": "'WALMEX.MX'",
            "text/html": [
              "'WALMEX.MX'"
            ]
          },
          "metadata": {
            "tags": []
          }
        },
        {
          "output_type": "display_data",
          "data": {
            "text/plain": [
              "           WALMEX.MX.Close\n",
              "2019-11-15           54.67\n",
              "2019-11-19           54.93\n",
              "2019-11-20           54.54\n",
              "2019-11-21           53.65\n",
              "2019-11-22           55.03\n",
              "2019-12-04           53.90"
            ]
          },
          "metadata": {
            "tags": []
          }
        }
      ]
    },
    {
      "cell_type": "markdown",
      "metadata": {
        "id": "IjUGLFfeA3Ty",
        "colab_type": "text"
      },
      "source": [
        "Se deja el código de \"webscrapping\" hay que arreglarlo"
      ]
    },
    {
      "cell_type": "code",
      "metadata": {
        "id": "hQ_Vf4r2LMD-",
        "colab_type": "code",
        "outputId": "a7385007-86a9-4280-9fda-b4bfd8580995",
        "colab": {
          "base_uri": "https://localhost:8080/",
          "height": 774
        }
      },
      "source": [
        "\n",
        "#PARA CARGAR EL NÚMERO DE ACCIONES EN VENTA\n",
        "\n",
        "getQuote <- function(ticks) {\n",
        "  qRoot <- \"https://query1.finance.yahoo.com/v7/finance/quote?fields=symbol,longName,regularMarketPrice,regularMarketChange,regularMarketTime,sharesOutstanding,bookValue&formatted=false&symbols=\"\n",
        "  z <- fromJSON(paste(qRoot, paste(ticks, collapse=\",\"), sep=\"\"))\n",
        "  z <- z$quoteResponse$result[,c(\"symbol\", \"regularMarketTime\", \"regularMarketPrice\", \"regularMarketChange\", \"longName\", \"sharesOutstanding\", \"bookValue\" )]\n",
        "  row.names(z) <- z$symbol\n",
        "  z$symbol <- NULL\n",
        "  names(z) <- c(\"Time\", \"Price\", \"Change\", \"Name\", \"Numeroacciones\", \"valorlibros\")\n",
        "  z$Time <- as.POSIXct(z$Time, origin = '1970-01-01 00:00:00')\n",
        "  return(z)\n",
        "}\n",
        "\n",
        "\n",
        "ticks=Symbols\n",
        "\n",
        "stqt=getQuote(Symbols)\n",
        "\n",
        "\n",
        "#PARA CARGAR LOS ESTADOS FINANCIEROS Y FLUJOS DE EFECTIVO\n",
        "url <- \"https://finance.yahoo.com/quote/\"\n",
        "scrapy_stocks <- function(stock){\n",
        "  if (\"rvest\" %in% installed.packages()) {\n",
        "    library(rvest)\n",
        "  }else{\n",
        "    install.packages(\"rvest\")\n",
        "    library(rvest)\n",
        "  }\n",
        "  for (i in 1:length(stock)) {\n",
        "    tryCatch(\n",
        "      {\n",
        "        # Income Statement\n",
        "        financial <- paste0(url,stock[i],\"/financials?p=\",stock[i])\n",
        "        wahis.session <- html_session(financial)                                \n",
        "        p <-    wahis.session %>% \n",
        "          html_nodes(xpath = '//*[@id=\"Col1-1-Financials-Proxy\"]/section/div[4]/div[1]/div[1]/div[2]') %>%\n",
        "          .[[1]] %>% html_children() %>% html_nodes(\"div\")\n",
        "        suppressWarnings(Values <- p[sapply(p, function(x){length(x %>% html_attrs())}) == 3] %>% \n",
        "                           html_text() %>% gsub(pattern = \",\",replacement = \"\") %>% \n",
        "                           gsub(pattern = \"-\",replacement = 0) %>% as.numeric()) \n",
        "        Headers <- wahis.session %>% \n",
        "          html_nodes(xpath = '//*[@id=\"Col1-1-Financials-Proxy\"]/section/div[4]/div[1]/div[1]') %>% \n",
        "          .[[1]] %>% html_nodes(\"span\") %>% html_text() %>% head()\n",
        "        Concepts <- p[sapply(p, function(x){length(x %>% html_attrs())}) == 2] %>% html_text() %>% .[seq(2,88,4)]\n",
        "        IS <- data.frame(Breakdown = Concepts[-c(4,16,19)], matrix(Values[!is.na(Values)], ncol = 5, byrow = T))\n",
        "        names(IS) <- Headers\n",
        "        temp1 <- IS\n",
        "        \n",
        "        # Balance Sheet\n",
        "        bsheet <- paste0(url,stock[i],\"/balance-sheet?p=\",stock[i])\n",
        "        wahis.session <- html_session(bsheet)\n",
        "        p <-    wahis.session %>% \n",
        "          html_nodes(xpath = '//*[@id=\"Col1-1-Financials-Proxy\"]/section/div[4]/div[1]/div[1]/div[2]') %>%\n",
        "          .[[1]] %>% html_children() %>% html_nodes(\"div\")\n",
        "        suppressWarnings(Values <- p[sapply(p, function(x){length(x %>% html_attrs())}) == 3] %>% \n",
        "                           html_text() %>% gsub(pattern = \",\",replacement = \"\") %>% gsub(pattern = \"-\",replacement = 0) %>% as.numeric()) \n",
        "        Headers <- wahis.session %>% \n",
        "          html_nodes(xpath = '//*[@id=\"Col1-1-Financials-Proxy\"]/section/div[4]/div[1]/div[1]') %>% \n",
        "          .[[1]] %>% html_nodes(\"span\") %>% html_text() %>% head(5)\n",
        "        Concepts <- p[sapply(p, function(x){length(x %>% html_attrs())}) == 2] %>% html_text() %>% .[seq(2,175,4)]\n",
        "        BS <- data.frame(Breakdown = Concepts[-c(1:3,11,12,22:24,32,39)], matrix(Values[!is.na(Values)], ncol = 4, byrow = T))\n",
        "        names(BS) <- Headers\n",
        "        temp2 <- BS\n",
        "        \n",
        "        # Cash flows\n",
        "        cash_f <- paste0(url,stock[i],\"/cash-flow?p=\",stock[i])\n",
        "        wahis.session <- html_session(cash_f)\n",
        "        p <-    wahis.session %>% \n",
        "          html_nodes(xpath = '//*[@id=\"Col1-1-Financials-Proxy\"]/section/div[4]/div[1]/div[1]/div[2]') %>%\n",
        "          .[[1]] %>% html_children() %>% html_nodes(\"div\")\n",
        "        suppressWarnings(Values <- p[sapply(p, function(x){length(x %>% html_attrs())}) == 3] %>% \n",
        "                           html_text() %>% gsub(pattern = \",\",replacement = \"\") %>% gsub(pattern = \"-\",replacement = 0) %>% as.numeric())\n",
        "        Headers <- wahis.session %>% \n",
        "          html_nodes(xpath = '//*[@id=\"Col1-1-Financials-Proxy\"]/section/div[4]/div[1]/div[1]') %>% \n",
        "          .[[1]] %>% html_nodes(\"span\") %>% html_text() %>% head()\n",
        "        Concepts <- p[sapply(p, function(x){length(x %>% html_attrs())}) == 2] %>% html_text() %>% .[seq(2,133,4)]\n",
        "        CF <- data.frame(Breakdown = Concepts[-c(1,13,20,30)], matrix(Values[!is.na(Values)], ncol = 5, byrow = T))\n",
        "        names(CF) <- Headers\n",
        "        temp3 <- CF\n",
        "        \n",
        "        # Shares Outstanding\n",
        "        stock_url <- paste0(url,stock[i],\"/key-statistics?p=\",stock[i])\n",
        "        SO <- html_session(stock_url) %>%\n",
        "          html_nodes(xpath = '//*[@id=\"Col1-0-KeyStatistics-Proxy\"]/section/div[2]/div[2]/div/div[2]/div/table/tbody/tr[3]/td[2]') %>% \n",
        "          html_text() %>% gsub(pattern = \"[A-z]\",replacement = \"\") %>% as.numeric()\n",
        "        temp4 <- SO\n",
        "        \n",
        "        assign(paste0(stock[i],'.f'),value = list(IS = temp1,BS = temp2,CF = temp3, SO = temp4),envir = parent.frame())\n",
        "        \n",
        "      },\n",
        "      error = function(cond){\n",
        "        message(stock[i], \"Give error \",cond)\n",
        "      }\n",
        "    )\n",
        "  }\n",
        "}\n",
        "\n",
        "#stock=Symbols\n",
        "scrapy_stocks(Symbols) \n",
        "attach(WALMEX.MX.f)\n",
        "#WALMEX.MX.f$BS\n",
        "#WALMEX.MX.f$IS\n",
        "#WALMEX.MX.f$CF\n",
        "BS\n"
      ],
      "execution_count": 3,
      "outputs": [
        {
          "output_type": "display_data",
          "data": {
            "text/plain": [
              "   Breakdown                                  12/30/2018 12/30/2017 12/30/2016\n",
              "1  Cash And Cash Equivalents                   38829598   35596117   27975536 \n",
              "2  Short Term Investments                             0          0          0 \n",
              "3  Total Cash                                  38829598   35596117   27975536 \n",
              "4  Net Receivables                              2745233    2414224    2291822 \n",
              "5  Inventory                                   63344265   59463255   53665239 \n",
              "6  Other Current Assets                               0     982374          0 \n",
              "7  Total Current Assets                       115614816  106876206  104022672 \n",
              "8  Gross property, plant and equipment        237056463  223608136  219644234 \n",
              "9  Accumulated Depreciation                    97688454   88645410   83294631 \n",
              "10 Net property, plant and equipment          139368009  134962726  136349603 \n",
              "11 Equity and other investments                       0          0          0 \n",
              "12 Goodwill                                    34989210   37373196   39420548 \n",
              "13 Intangible Assets                            2008529    1994832    1918984 \n",
              "14 Other long-term assets                       2226677    2047575    1518766 \n",
              "15 Total non-current assets                   190914017  188379458  183907630 \n",
              "16 Total Assets                               306528833  295255664  287930302 \n",
              "17 Total Revenue                                      0          0     533047 \n",
              "18 Accounts Payable                            85327000   80099063   65557689 \n",
              "19 Taxes payable                                      0          0          0 \n",
              "20 Accrued liabilities                                0          0          0 \n",
              "21 Deferred revenues                                  0          0          0 \n",
              "22 Other Current Liabilities                          0   19580513          0 \n",
              "23 Total Current Liabilities                  114165492  107827547   93956822 \n",
              "24 Long Term Debt                                     0          0   13077018 \n",
              "25 Deferred taxes liabilities                   5786932    6087187   10483437 \n",
              "26 Deferred revenues                            4881202          0          0 \n",
              "27 Other long-term liabilities                     8623   19815114   14778703 \n",
              "28 Total non-current liabilities               27449267   27894164   26947464 \n",
              "29 Total Liabilities                          141614759  135721711  120904286 \n",
              "30 Common Stock                                       0          0          0 \n",
              "31 Retained Earnings                          104638687   96413711   90545819 \n",
              "32 Accumulated other comprehensive income             0          0          0 \n",
              "33 Total stockholders' equity                 164914074  159533953  167026016 \n",
              "34 Total liabilities and stockholders' equity 306528833  295255664  287930302 \n",
              "   12/30/2015\n",
              "1   24790838 \n",
              "2          0 \n",
              "3   24790838 \n",
              "4    2751227 \n",
              "5   49748874 \n",
              "6          0 \n",
              "7   84848685 \n",
              "8  205815219 \n",
              "9   75592863 \n",
              "10 130222356 \n",
              "11         0 \n",
              "12  33057328 \n",
              "13   1398891 \n",
              "14    661750 \n",
              "15 168801434 \n",
              "16 253650119 \n",
              "17         0 \n",
              "18  56395523 \n",
              "19         0 \n",
              "20         0 \n",
              "21         0 \n",
              "22         0 \n",
              "23  77309353 \n",
              "24         0 \n",
              "25   9786893 \n",
              "26         0 \n",
              "27  13104120 \n",
              "28  24520116 \n",
              "29 101829469 \n",
              "30         0 \n",
              "31  86188284 \n",
              "32         0 \n",
              "33 151794806 \n",
              "34 253650119 "
            ],
            "text/latex": "A data.frame: 34 × 5\n\\begin{tabular}{r|lllll}\n Breakdown & 12/30/2018 & 12/30/2017 & 12/30/2016 & 12/30/2015\\\\\n <fct> & <dbl> & <dbl> & <dbl> & <dbl>\\\\\n\\hline\n\t Cash And Cash Equivalents                  &  38829598 &  35596117 &  27975536 &  24790838\\\\\n\t Short Term Investments                     &         0 &         0 &         0 &         0\\\\\n\t Total Cash                                 &  38829598 &  35596117 &  27975536 &  24790838\\\\\n\t Net Receivables                            &   2745233 &   2414224 &   2291822 &   2751227\\\\\n\t Inventory                                  &  63344265 &  59463255 &  53665239 &  49748874\\\\\n\t Other Current Assets                       &         0 &    982374 &         0 &         0\\\\\n\t Total Current Assets                       & 115614816 & 106876206 & 104022672 &  84848685\\\\\n\t Gross property, plant and equipment        & 237056463 & 223608136 & 219644234 & 205815219\\\\\n\t Accumulated Depreciation                   &  97688454 &  88645410 &  83294631 &  75592863\\\\\n\t Net property, plant and equipment          & 139368009 & 134962726 & 136349603 & 130222356\\\\\n\t Equity and other investments               &         0 &         0 &         0 &         0\\\\\n\t Goodwill                                   &  34989210 &  37373196 &  39420548 &  33057328\\\\\n\t Intangible Assets                          &   2008529 &   1994832 &   1918984 &   1398891\\\\\n\t Other long-term assets                     &   2226677 &   2047575 &   1518766 &    661750\\\\\n\t Total non-current assets                   & 190914017 & 188379458 & 183907630 & 168801434\\\\\n\t Total Assets                               & 306528833 & 295255664 & 287930302 & 253650119\\\\\n\t Total Revenue                              &         0 &         0 &    533047 &         0\\\\\n\t Accounts Payable                           &  85327000 &  80099063 &  65557689 &  56395523\\\\\n\t Taxes payable                              &         0 &         0 &         0 &         0\\\\\n\t Accrued liabilities                        &         0 &         0 &         0 &         0\\\\\n\t Deferred revenues                          &         0 &         0 &         0 &         0\\\\\n\t Other Current Liabilities                  &         0 &  19580513 &         0 &         0\\\\\n\t Total Current Liabilities                  & 114165492 & 107827547 &  93956822 &  77309353\\\\\n\t Long Term Debt                             &         0 &         0 &  13077018 &         0\\\\\n\t Deferred taxes liabilities                 &   5786932 &   6087187 &  10483437 &   9786893\\\\\n\t Deferred revenues                          &   4881202 &         0 &         0 &         0\\\\\n\t Other long-term liabilities                &      8623 &  19815114 &  14778703 &  13104120\\\\\n\t Total non-current liabilities              &  27449267 &  27894164 &  26947464 &  24520116\\\\\n\t Total Liabilities                          & 141614759 & 135721711 & 120904286 & 101829469\\\\\n\t Common Stock                               &         0 &         0 &         0 &         0\\\\\n\t Retained Earnings                          & 104638687 &  96413711 &  90545819 &  86188284\\\\\n\t Accumulated other comprehensive income     &         0 &         0 &         0 &         0\\\\\n\t Total stockholders' equity                 & 164914074 & 159533953 & 167026016 & 151794806\\\\\n\t Total liabilities and stockholders' equity & 306528833 & 295255664 & 287930302 & 253650119\\\\\n\\end{tabular}\n",
            "text/markdown": "\nA data.frame: 34 × 5\n\n| Breakdown &lt;fct&gt; | 12/30/2018 &lt;dbl&gt; | 12/30/2017 &lt;dbl&gt; | 12/30/2016 &lt;dbl&gt; | 12/30/2015 &lt;dbl&gt; |\n|---|---|---|---|---|\n| Cash And Cash Equivalents                  |  38829598 |  35596117 |  27975536 |  24790838 |\n| Short Term Investments                     |         0 |         0 |         0 |         0 |\n| Total Cash                                 |  38829598 |  35596117 |  27975536 |  24790838 |\n| Net Receivables                            |   2745233 |   2414224 |   2291822 |   2751227 |\n| Inventory                                  |  63344265 |  59463255 |  53665239 |  49748874 |\n| Other Current Assets                       |         0 |    982374 |         0 |         0 |\n| Total Current Assets                       | 115614816 | 106876206 | 104022672 |  84848685 |\n| Gross property, plant and equipment        | 237056463 | 223608136 | 219644234 | 205815219 |\n| Accumulated Depreciation                   |  97688454 |  88645410 |  83294631 |  75592863 |\n| Net property, plant and equipment          | 139368009 | 134962726 | 136349603 | 130222356 |\n| Equity and other investments               |         0 |         0 |         0 |         0 |\n| Goodwill                                   |  34989210 |  37373196 |  39420548 |  33057328 |\n| Intangible Assets                          |   2008529 |   1994832 |   1918984 |   1398891 |\n| Other long-term assets                     |   2226677 |   2047575 |   1518766 |    661750 |\n| Total non-current assets                   | 190914017 | 188379458 | 183907630 | 168801434 |\n| Total Assets                               | 306528833 | 295255664 | 287930302 | 253650119 |\n| Total Revenue                              |         0 |         0 |    533047 |         0 |\n| Accounts Payable                           |  85327000 |  80099063 |  65557689 |  56395523 |\n| Taxes payable                              |         0 |         0 |         0 |         0 |\n| Accrued liabilities                        |         0 |         0 |         0 |         0 |\n| Deferred revenues                          |         0 |         0 |         0 |         0 |\n| Other Current Liabilities                  |         0 |  19580513 |         0 |         0 |\n| Total Current Liabilities                  | 114165492 | 107827547 |  93956822 |  77309353 |\n| Long Term Debt                             |         0 |         0 |  13077018 |         0 |\n| Deferred taxes liabilities                 |   5786932 |   6087187 |  10483437 |   9786893 |\n| Deferred revenues                          |   4881202 |         0 |         0 |         0 |\n| Other long-term liabilities                |      8623 |  19815114 |  14778703 |  13104120 |\n| Total non-current liabilities              |  27449267 |  27894164 |  26947464 |  24520116 |\n| Total Liabilities                          | 141614759 | 135721711 | 120904286 | 101829469 |\n| Common Stock                               |         0 |         0 |         0 |         0 |\n| Retained Earnings                          | 104638687 |  96413711 |  90545819 |  86188284 |\n| Accumulated other comprehensive income     |         0 |         0 |         0 |         0 |\n| Total stockholders' equity                 | 164914074 | 159533953 | 167026016 | 151794806 |\n| Total liabilities and stockholders' equity | 306528833 | 295255664 | 287930302 | 253650119 |\n\n",
            "text/html": [
              "<table>\n",
              "<caption>A data.frame: 34 × 5</caption>\n",
              "<thead>\n",
              "\t<tr><th scope=col>Breakdown</th><th scope=col>12/30/2018</th><th scope=col>12/30/2017</th><th scope=col>12/30/2016</th><th scope=col>12/30/2015</th></tr>\n",
              "\t<tr><th scope=col>&lt;fct&gt;</th><th scope=col>&lt;dbl&gt;</th><th scope=col>&lt;dbl&gt;</th><th scope=col>&lt;dbl&gt;</th><th scope=col>&lt;dbl&gt;</th></tr>\n",
              "</thead>\n",
              "<tbody>\n",
              "\t<tr><td>Cash And Cash Equivalents                 </td><td> 38829598</td><td> 35596117</td><td> 27975536</td><td> 24790838</td></tr>\n",
              "\t<tr><td>Short Term Investments                    </td><td>        0</td><td>        0</td><td>        0</td><td>        0</td></tr>\n",
              "\t<tr><td>Total Cash                                </td><td> 38829598</td><td> 35596117</td><td> 27975536</td><td> 24790838</td></tr>\n",
              "\t<tr><td>Net Receivables                           </td><td>  2745233</td><td>  2414224</td><td>  2291822</td><td>  2751227</td></tr>\n",
              "\t<tr><td>Inventory                                 </td><td> 63344265</td><td> 59463255</td><td> 53665239</td><td> 49748874</td></tr>\n",
              "\t<tr><td>Other Current Assets                      </td><td>        0</td><td>   982374</td><td>        0</td><td>        0</td></tr>\n",
              "\t<tr><td>Total Current Assets                      </td><td>115614816</td><td>106876206</td><td>104022672</td><td> 84848685</td></tr>\n",
              "\t<tr><td>Gross property, plant and equipment       </td><td>237056463</td><td>223608136</td><td>219644234</td><td>205815219</td></tr>\n",
              "\t<tr><td>Accumulated Depreciation                  </td><td> 97688454</td><td> 88645410</td><td> 83294631</td><td> 75592863</td></tr>\n",
              "\t<tr><td>Net property, plant and equipment         </td><td>139368009</td><td>134962726</td><td>136349603</td><td>130222356</td></tr>\n",
              "\t<tr><td>Equity and other investments              </td><td>        0</td><td>        0</td><td>        0</td><td>        0</td></tr>\n",
              "\t<tr><td>Goodwill                                  </td><td> 34989210</td><td> 37373196</td><td> 39420548</td><td> 33057328</td></tr>\n",
              "\t<tr><td>Intangible Assets                         </td><td>  2008529</td><td>  1994832</td><td>  1918984</td><td>  1398891</td></tr>\n",
              "\t<tr><td>Other long-term assets                    </td><td>  2226677</td><td>  2047575</td><td>  1518766</td><td>   661750</td></tr>\n",
              "\t<tr><td>Total non-current assets                  </td><td>190914017</td><td>188379458</td><td>183907630</td><td>168801434</td></tr>\n",
              "\t<tr><td>Total Assets                              </td><td>306528833</td><td>295255664</td><td>287930302</td><td>253650119</td></tr>\n",
              "\t<tr><td>Total Revenue                             </td><td>        0</td><td>        0</td><td>   533047</td><td>        0</td></tr>\n",
              "\t<tr><td>Accounts Payable                          </td><td> 85327000</td><td> 80099063</td><td> 65557689</td><td> 56395523</td></tr>\n",
              "\t<tr><td>Taxes payable                             </td><td>        0</td><td>        0</td><td>        0</td><td>        0</td></tr>\n",
              "\t<tr><td>Accrued liabilities                       </td><td>        0</td><td>        0</td><td>        0</td><td>        0</td></tr>\n",
              "\t<tr><td>Deferred revenues                         </td><td>        0</td><td>        0</td><td>        0</td><td>        0</td></tr>\n",
              "\t<tr><td>Other Current Liabilities                 </td><td>        0</td><td> 19580513</td><td>        0</td><td>        0</td></tr>\n",
              "\t<tr><td>Total Current Liabilities                 </td><td>114165492</td><td>107827547</td><td> 93956822</td><td> 77309353</td></tr>\n",
              "\t<tr><td>Long Term Debt                            </td><td>        0</td><td>        0</td><td> 13077018</td><td>        0</td></tr>\n",
              "\t<tr><td>Deferred taxes liabilities                </td><td>  5786932</td><td>  6087187</td><td> 10483437</td><td>  9786893</td></tr>\n",
              "\t<tr><td>Deferred revenues                         </td><td>  4881202</td><td>        0</td><td>        0</td><td>        0</td></tr>\n",
              "\t<tr><td>Other long-term liabilities               </td><td>     8623</td><td> 19815114</td><td> 14778703</td><td> 13104120</td></tr>\n",
              "\t<tr><td>Total non-current liabilities             </td><td> 27449267</td><td> 27894164</td><td> 26947464</td><td> 24520116</td></tr>\n",
              "\t<tr><td>Total Liabilities                         </td><td>141614759</td><td>135721711</td><td>120904286</td><td>101829469</td></tr>\n",
              "\t<tr><td>Common Stock                              </td><td>        0</td><td>        0</td><td>        0</td><td>        0</td></tr>\n",
              "\t<tr><td>Retained Earnings                         </td><td>104638687</td><td> 96413711</td><td> 90545819</td><td> 86188284</td></tr>\n",
              "\t<tr><td>Accumulated other comprehensive income    </td><td>        0</td><td>        0</td><td>        0</td><td>        0</td></tr>\n",
              "\t<tr><td>Total stockholders' equity                </td><td>164914074</td><td>159533953</td><td>167026016</td><td>151794806</td></tr>\n",
              "\t<tr><td>Total liabilities and stockholders' equity</td><td>306528833</td><td>295255664</td><td>287930302</td><td>253650119</td></tr>\n",
              "</tbody>\n",
              "</table>\n"
            ]
          },
          "metadata": {
            "tags": []
          }
        }
      ]
    },
    {
      "cell_type": "code",
      "metadata": {
        "id": "65qkZOkVjBR1",
        "colab_type": "code",
        "outputId": "42ff6821-0641-4ccd-ce89-5de991ca9ee6",
        "colab": {
          "base_uri": "https://localhost:8080/",
          "height": 233
        }
      },
      "source": [
        "TSE <- \"Total stockholders' equity\"\n",
        "TL <- \"Total Liabilities\"\n",
        "dt <- colnames(BS)[2] # ÚLTIMA FECHA DISPONIBLE\n",
        "\n",
        "\n",
        "#K_0=BS[33,1]/1000 #Total Stockholder Equity VALOR DE LA EMPRESA\n",
        "#en millones https://finance.yahoo.com/quote/WALMEX.MX/balance-sheet?p=WALMEX.MX\n",
        "#Total stockholders' equity\n",
        "#En millones\n",
        "K_0=BS[BS$Breakdown==TSE, dt]*1000/1000000\n",
        "#nrow(BS)\n",
        "#D_0=BS[24,1]/1000 #Total Liabilities DEUDA ACTUAL\n",
        "#En millones\n",
        "D_0=BS[BS$Breakdown==TL, dt]*1000/1000000\n",
        "\n",
        "\n",
        "#Shares Outstanding (Sexpresa en miles de millones en la página)\n",
        "#En millones\n",
        "Numeroacciones=WALMEX.MX.f$SO*1000000000/1000000\n",
        "\n",
        "dt=strptime(dt, \"%m/%d/%Y\")\n",
        "dt=format(dt, \"%Y-%m\")\n",
        "dt\n",
        "#no esta sentencia entonces mi ultima fecha fue tanto \n",
        "n=nrow(stock_prices[paste(\"/\",dt,sep=\"\")]) #NUMERO DE FILAS A ANALIZAR PARA EL ÚLTIMO DATO\n",
        "\n",
        "A_0=stock_prices[paste(\"/\",dt,sep=\"\")][n] #valores actuales\n",
        "\n",
        "#A_0=A_0*stqt$Numeroacciones/1000000 #VALOR ACTUAL DE LAS ACCIONES VALOR DE ACCIÓN POR ACCIONES DISPONIBLES\n",
        "A_0=A_0*Numeroacciones #VALOR ACTUAL DE LAS ACCIONES VALOR DE ACCIÓN POR ACCIONES DISPONIBLES\n",
        "A_0/K_0\n",
        "\n",
        "A=stock_prices[paste(\"/\",dt,sep=\"\")]  #VECTOR DE PRECIOS \n",
        "\n",
        "vol_A=sqrt(var(log(as.matrix(A[2:n])/as.matrix(A[1:(n-1)]))))*sqrt(252) #VOLATILIDAD ANUAL\n",
        "\n",
        "#Valor del CETE\n",
        "r=0.0717\n",
        "T=1\n",
        "\n",
        "A_0\n",
        "K_0\n",
        "vol_A\n",
        "D_0\n",
        "r\n",
        "T\n"
      ],
      "execution_count": 4,
      "outputs": [
        {
          "output_type": "display_data",
          "data": {
            "text/plain": [
              "[1] \"2018-12\""
            ],
            "text/latex": "'2018-12'",
            "text/markdown": "'2018-12'",
            "text/html": [
              "'2018-12'"
            ]
          },
          "metadata": {
            "tags": []
          }
        },
        {
          "output_type": "display_data",
          "data": {
            "text/plain": [
              "           WALMEX.MX.Close\n",
              "2018-12-31         5.29049"
            ]
          },
          "metadata": {
            "tags": []
          }
        },
        {
          "output_type": "display_data",
          "data": {
            "text/plain": [
              "           WALMEX.MX.Close\n",
              "2018-12-31        872476.2"
            ]
          },
          "metadata": {
            "tags": []
          }
        },
        {
          "output_type": "display_data",
          "data": {
            "text/plain": [
              "[1] 164914.1"
            ],
            "text/latex": "164914.074",
            "text/markdown": "164914.074",
            "text/html": [
              "164914.074"
            ]
          },
          "metadata": {
            "tags": []
          }
        },
        {
          "output_type": "display_data",
          "data": {
            "text/plain": [
              "                WALMEX.MX.Close\n",
              "WALMEX.MX.Close 0.2385214      "
            ],
            "text/latex": "A matrix: 1 × 1 of type dbl\n\\begin{tabular}{r|l}\n  & WALMEX.MX.Close\\\\\n\\hline\n\tWALMEX.MX.Close & 0.2385214\\\\\n\\end{tabular}\n",
            "text/markdown": "\nA matrix: 1 × 1 of type dbl\n\n| <!--/--> | WALMEX.MX.Close |\n|---|---|\n| WALMEX.MX.Close | 0.2385214 |\n\n",
            "text/html": [
              "<table>\n",
              "<caption>A matrix: 1 × 1 of type dbl</caption>\n",
              "<thead>\n",
              "\t<tr><th></th><th scope=col>WALMEX.MX.Close</th></tr>\n",
              "</thead>\n",
              "<tbody>\n",
              "\t<tr><th scope=row>WALMEX.MX.Close</th><td>0.2385214</td></tr>\n",
              "</tbody>\n",
              "</table>\n"
            ]
          },
          "metadata": {
            "tags": []
          }
        },
        {
          "output_type": "display_data",
          "data": {
            "text/plain": [
              "[1] 141614.8"
            ],
            "text/latex": "141614.759",
            "text/markdown": "141614.759",
            "text/html": [
              "141614.759"
            ]
          },
          "metadata": {
            "tags": []
          }
        },
        {
          "output_type": "display_data",
          "data": {
            "text/plain": [
              "[1] 0.0717"
            ],
            "text/latex": "0.0717",
            "text/markdown": "0.0717",
            "text/html": [
              "0.0717"
            ]
          },
          "metadata": {
            "tags": []
          }
        },
        {
          "output_type": "display_data",
          "data": {
            "text/plain": [
              "[1] 1"
            ],
            "text/latex": "1",
            "text/markdown": "1",
            "text/html": [
              "1"
            ]
          },
          "metadata": {
            "tags": []
          }
        }
      ]
    },
    {
      "cell_type": "code",
      "metadata": {
        "id": "OfIx_-_BjwhK",
        "colab_type": "code",
        "outputId": "c11fda1e-6e53-44ca-8e2b-48421fb56f16",
        "colab": {
          "base_uri": "https://localhost:8080/",
          "height": 198
        }
      },
      "source": [
        "x=c(D_0,vol_A)\n",
        "\n",
        "#Función para estimar vol_k y D\n",
        "G = function(x) \n",
        "{\n",
        "  vol_k <- x[2]\n",
        "  D <- x[1]\n",
        "  c(A_0-K_0*pnorm((log(K_0/D)+(r+0.5*vol_k^2)*T)/(vol_k*sqrt(T)))+D*exp(-r*T)*pnorm((log(K_0/D)+(r-0.5*vol_k^2)*T)/(vol_k*sqrt(T))),\n",
        "  A_0*vol_A-vol_k*K_0*pnorm((log(K_0/D)+(r+0.5*vol_k^2)*T)/(vol_k*sqrt(T))) )\n",
        "}\n",
        "\n",
        "#K_0=164370\n",
        "\n",
        "ss=multiroot(G,x,positive = TRUE) #RESOLVER EL SISTEMA.\n",
        "\n",
        "D=ss$root[1]\n",
        "vol_k=ss$root[2]\n",
        "ss$root[1]/D_0\n",
        "vol_A/ss$root[2]\n",
        "G(c(D,vol_k))\n",
        "\n",
        "#Probabilidad de incumplimiento\n",
        "PD_merton=1-pnorm((log(K_0/D)+(r+0.5*vol_k^2)*T)/(vol_k*sqrt(T)))\n",
        "PD_merton\n"
      ],
      "execution_count": 0,
      "outputs": [
        {
          "output_type": "stream",
          "text": [
            "Warning message in stode(y, times, func, parms = parms, ...):\n",
            "“steady-state not reached”"
          ],
          "name": "stderr"
        },
        {
          "output_type": "display_data",
          "data": {
            "text/plain": [
              "[1] 0"
            ],
            "text/latex": "0",
            "text/markdown": "0",
            "text/html": [
              "0"
            ]
          },
          "metadata": {
            "tags": []
          }
        },
        {
          "output_type": "display_data",
          "data": {
            "text/plain": [
              "                WALMEX.MX.Close\n",
              "WALMEX.MX.Close 0.1890184      "
            ],
            "text/latex": "A matrix: 1 × 1 of type dbl\n\\begin{tabular}{r|l}\n  & WALMEX.MX.Close\\\\\n\\hline\n\tWALMEX.MX.Close & 0.1890184\\\\\n\\end{tabular}\n",
            "text/markdown": "\nA matrix: 1 × 1 of type dbl\n\n| <!--/--> | WALMEX.MX.Close |\n|---|---|\n| WALMEX.MX.Close | 0.1890184 |\n\n",
            "text/html": [
              "<table>\n",
              "<caption>A matrix: 1 × 1 of type dbl</caption>\n",
              "<thead>\n",
              "\t<tr><th></th><th scope=col>WALMEX.MX.Close</th></tr>\n",
              "</thead>\n",
              "<tbody>\n",
              "\t<tr><th scope=row>WALMEX.MX.Close</th><td>0.1890184</td></tr>\n",
              "</tbody>\n",
              "</table>\n"
            ]
          },
          "metadata": {
            "tags": []
          }
        },
        {
          "output_type": "display_data",
          "data": {
            "text/plain": [
              "           WALMEX.MX.Close\n",
              "2018-12-31        707562.1\n",
              "2018-12-31             0.0"
            ]
          },
          "metadata": {
            "tags": []
          }
        },
        {
          "output_type": "display_data",
          "data": {
            "text/plain": [
              "[1] 0"
            ],
            "text/latex": "0",
            "text/markdown": "0",
            "text/html": [
              "0"
            ]
          },
          "metadata": {
            "tags": []
          }
        }
      ]
    },
    {
      "cell_type": "code",
      "metadata": {
        "id": "Ti2-oe_yF6Rd",
        "colab_type": "code",
        "outputId": "059d4397-bd19-490f-e043-e24c550db078",
        "colab": {
          "base_uri": "https://localhost:8080/",
          "height": 362
        }
      },
      "source": [
        "#Sólo estimar la volatilidad dada la deuda\n",
        "#Probabilidad de Incumplimiento\n",
        "\n",
        "Vk = function(x) \n",
        "{\n",
        "  vol_k <- x\n",
        "  ((vol_k/vol_A)*(K_0/A_0))-pnorm((log(K_0/D)+(r+0.5*vol_k^2)*T)/(vol_k*sqrt(T)))\n",
        "}\n",
        "\n",
        "#Definir una Deuda\n",
        "D=D_0\n",
        "x=vol_A #semilla de la vol_k\n",
        "ss=multiroot(Vk,x,positive = TRUE) #RESOLVER EL SISTEMA.\n",
        "\n",
        "vol_k=ss$root\n",
        "print(\"Ratio vol_k/vol_A\")\n",
        "ss$root[1]/vol_A\n",
        "print(\"valor Vk bajo solución\")\n",
        "Vk(vol_k)\n",
        "\n",
        "PD_merton=1-pnorm((log(K_0/D)+(r+0.5*vol_k^2)*T)/(vol_k*sqrt(T)))\n",
        "\n",
        "print(\"Deuda estimada\")\n",
        "D\n",
        "print(\"Deuda sencilla\")\n",
        "D_0\n",
        "print(\"Vol estimada\")\n",
        "vol_k\n",
        "print(\"Vol semilla\")\n",
        "vol_A\n",
        "print(\"PD Merton\")\n",
        "PD_merton\n",
        "\n"
      ],
      "execution_count": 0,
      "outputs": [
        {
          "output_type": "stream",
          "text": [
            "[1] \"Ratio vol_k/vol_A\"\n"
          ],
          "name": "stdout"
        },
        {
          "output_type": "display_data",
          "data": {
            "text/plain": [
              "                WALMEX.MX.Close\n",
              "WALMEX.MX.Close 4.03426        "
            ],
            "text/latex": "A matrix: 1 × 1 of type dbl\n\\begin{tabular}{r|l}\n  & WALMEX.MX.Close\\\\\n\\hline\n\tWALMEX.MX.Close & 4.03426\\\\\n\\end{tabular}\n",
            "text/markdown": "\nA matrix: 1 × 1 of type dbl\n\n| <!--/--> | WALMEX.MX.Close |\n|---|---|\n| WALMEX.MX.Close | 4.03426 |\n\n",
            "text/html": [
              "<table>\n",
              "<caption>A matrix: 1 × 1 of type dbl</caption>\n",
              "<thead>\n",
              "\t<tr><th></th><th scope=col>WALMEX.MX.Close</th></tr>\n",
              "</thead>\n",
              "<tbody>\n",
              "\t<tr><th scope=row>WALMEX.MX.Close</th><td>4.03426</td></tr>\n",
              "</tbody>\n",
              "</table>\n"
            ]
          },
          "metadata": {
            "tags": []
          }
        },
        {
          "output_type": "stream",
          "text": [
            "[1] \"valor Vk bajo solución\"\n"
          ],
          "name": "stdout"
        },
        {
          "output_type": "display_data",
          "data": {
            "text/plain": [
              "           WALMEX.MX.Close\n",
              "2018-12-31   -9.825218e-11"
            ]
          },
          "metadata": {
            "tags": []
          }
        },
        {
          "output_type": "stream",
          "text": [
            "[1] \"Deuda estimada\"\n"
          ],
          "name": "stdout"
        },
        {
          "output_type": "display_data",
          "data": {
            "text/plain": [
              "[1] 141614.8"
            ],
            "text/latex": "141614.759",
            "text/markdown": "141614.759",
            "text/html": [
              "141614.759"
            ]
          },
          "metadata": {
            "tags": []
          }
        },
        {
          "output_type": "stream",
          "text": [
            "[1] \"Deuda sencilla\"\n"
          ],
          "name": "stdout"
        },
        {
          "output_type": "display_data",
          "data": {
            "text/plain": [
              "[1] 141614.8"
            ],
            "text/latex": "141614.759",
            "text/markdown": "141614.759",
            "text/html": [
              "141614.759"
            ]
          },
          "metadata": {
            "tags": []
          }
        },
        {
          "output_type": "stream",
          "text": [
            "[1] \"Vol estimada\"\n"
          ],
          "name": "stdout"
        },
        {
          "output_type": "display_data",
          "data": {
            "text/plain": [
              "[1] 0.9645693"
            ],
            "text/latex": "0.96456933901006",
            "text/markdown": "0.96456933901006",
            "text/html": [
              "0.96456933901006"
            ]
          },
          "metadata": {
            "tags": []
          }
        },
        {
          "output_type": "stream",
          "text": [
            "[1] \"Vol semilla\"\n"
          ],
          "name": "stdout"
        },
        {
          "output_type": "display_data",
          "data": {
            "text/plain": [
              "                WALMEX.MX.Close\n",
              "WALMEX.MX.Close 0.2390945      "
            ],
            "text/latex": "A matrix: 1 × 1 of type dbl\n\\begin{tabular}{r|l}\n  & WALMEX.MX.Close\\\\\n\\hline\n\tWALMEX.MX.Close & 0.2390945\\\\\n\\end{tabular}\n",
            "text/markdown": "\nA matrix: 1 × 1 of type dbl\n\n| <!--/--> | WALMEX.MX.Close |\n|---|---|\n| WALMEX.MX.Close | 0.2390945 |\n\n",
            "text/html": [
              "<table>\n",
              "<caption>A matrix: 1 × 1 of type dbl</caption>\n",
              "<thead>\n",
              "\t<tr><th></th><th scope=col>WALMEX.MX.Close</th></tr>\n",
              "</thead>\n",
              "<tbody>\n",
              "\t<tr><th scope=row>WALMEX.MX.Close</th><td>0.2390945</td></tr>\n",
              "</tbody>\n",
              "</table>\n"
            ]
          },
          "metadata": {
            "tags": []
          }
        },
        {
          "output_type": "stream",
          "text": [
            "[1] \"PD Merton\"\n"
          ],
          "name": "stdout"
        },
        {
          "output_type": "display_data",
          "data": {
            "text/plain": [
              "[1] 0.2374506"
            ],
            "text/latex": "0.23745057523002",
            "text/markdown": "0.23745057523002",
            "text/html": [
              "0.23745057523002"
            ]
          },
          "metadata": {
            "tags": []
          }
        }
      ]
    },
    {
      "cell_type": "markdown",
      "metadata": {
        "id": "da5yHAtbkDLf",
        "colab_type": "text"
      },
      "source": [
        "#KMV"
      ]
    },
    {
      "cell_type": "code",
      "metadata": {
        "id": "9wGFNTQukETk",
        "colab_type": "code",
        "outputId": "4fd24f01-ba04-4ea9-c8fb-ac90294bbd3e",
        "colab": {
          "base_uri": "https://localhost:8080/",
          "height": 535
        }
      },
      "source": [
        "print(\"A_0:\")\n",
        "A_0\n",
        "print(\"Valor de K_0\")\n",
        "K_0\n",
        "print(\"Valor de vol_A\")\n",
        "vol_A\n",
        "print(\"Valor de Deuda Actual\")\n",
        "D_0\n",
        "print(\"Tasa libre de riesgo\")\n",
        "r\n",
        "print(\"Temporalidad\")\n",
        "T\n",
        "\n",
        "\n",
        "#Función para estimar vol_k y D\n",
        "Gkmv = function(x) \n",
        "{\n",
        "  vol_k <- x[2]\n",
        "  K_0 <- x[1]\n",
        "  c(A_0-K_0*pnorm((log(K_0/D)+(r+0.5*vol_k^2)*T)/(vol_k*sqrt(T)))+D*exp(-r*T)*pnorm((log(K_0/D)+(r-0.5*vol_k^2)*T)/(vol_k*sqrt(T))),\n",
        "    A_0*vol_A-vol_k*K_0*pnorm((log(K_0/D)+(r+0.5*vol_k^2)*T)/(vol_k*sqrt(T))) )\n",
        "}\n",
        "\n",
        "D=D_0\n",
        "\n",
        "x=c(K_0,vol_A)\n",
        "\n",
        "ss=multiroot(Gkmv,x,positive = TRUE) #RESOLVER EL SISTEMA.\n",
        "\n",
        "K_e=ss$root[1]\n",
        "vol_k=ss$root[2]\n",
        "print(\"Cociente K_0/D_0\")\n",
        "K_e/D_0\n",
        "print(\"Cociente vol_K/vol_A\")\n",
        "ss$root[2]/vol_A\n",
        "print(\"Valor de solución en función:\")\n",
        "Gkmv(c(K_e,vol_k))\n",
        "\n",
        "DI=(K_e-D)/(vol_k*K_0)\n",
        "print(\"DI\")\n",
        "DI\n",
        "EDF=pnorm(-DI)\n",
        "print(\"EDF Normal\")\n",
        "EDF\n",
        " \n"
      ],
      "execution_count": 0,
      "outputs": [
        {
          "output_type": "stream",
          "text": [
            "[1] \"A_0:\"\n"
          ],
          "name": "stdout"
        },
        {
          "output_type": "display_data",
          "data": {
            "text/plain": [
              "           WALMEX.MX.Close\n",
              "2018-12-31        872476.2"
            ]
          },
          "metadata": {
            "tags": []
          }
        },
        {
          "output_type": "stream",
          "text": [
            "[1] \"Valor de K_0\"\n"
          ],
          "name": "stdout"
        },
        {
          "output_type": "display_data",
          "data": {
            "text/plain": [
              "[1] 164914.1"
            ],
            "text/latex": "164914.074",
            "text/markdown": "164914.074",
            "text/html": [
              "164914.074"
            ]
          },
          "metadata": {
            "tags": []
          }
        },
        {
          "output_type": "stream",
          "text": [
            "[1] \"Valor de vol_A\"\n"
          ],
          "name": "stdout"
        },
        {
          "output_type": "display_data",
          "data": {
            "text/plain": [
              "                WALMEX.MX.Close\n",
              "WALMEX.MX.Close 0.2390945      "
            ],
            "text/latex": "A matrix: 1 × 1 of type dbl\n\\begin{tabular}{r|l}\n  & WALMEX.MX.Close\\\\\n\\hline\n\tWALMEX.MX.Close & 0.2390945\\\\\n\\end{tabular}\n",
            "text/markdown": "\nA matrix: 1 × 1 of type dbl\n\n| <!--/--> | WALMEX.MX.Close |\n|---|---|\n| WALMEX.MX.Close | 0.2390945 |\n\n",
            "text/html": [
              "<table>\n",
              "<caption>A matrix: 1 × 1 of type dbl</caption>\n",
              "<thead>\n",
              "\t<tr><th></th><th scope=col>WALMEX.MX.Close</th></tr>\n",
              "</thead>\n",
              "<tbody>\n",
              "\t<tr><th scope=row>WALMEX.MX.Close</th><td>0.2390945</td></tr>\n",
              "</tbody>\n",
              "</table>\n"
            ]
          },
          "metadata": {
            "tags": []
          }
        },
        {
          "output_type": "stream",
          "text": [
            "[1] \"Valor de Deuda Actual\"\n"
          ],
          "name": "stdout"
        },
        {
          "output_type": "display_data",
          "data": {
            "text/plain": [
              "[1] 141614.8"
            ],
            "text/latex": "141614.759",
            "text/markdown": "141614.759",
            "text/html": [
              "141614.759"
            ]
          },
          "metadata": {
            "tags": []
          }
        },
        {
          "output_type": "stream",
          "text": [
            "[1] \"Tasa libre de riesgo\"\n"
          ],
          "name": "stdout"
        },
        {
          "output_type": "display_data",
          "data": {
            "text/plain": [
              "[1] 0.0717"
            ],
            "text/latex": "0.0717",
            "text/markdown": "0.0717",
            "text/html": [
              "0.0717"
            ]
          },
          "metadata": {
            "tags": []
          }
        },
        {
          "output_type": "stream",
          "text": [
            "[1] \"Temporalidad\"\n"
          ],
          "name": "stdout"
        },
        {
          "output_type": "display_data",
          "data": {
            "text/plain": [
              "[1] 1"
            ],
            "text/latex": "1",
            "text/markdown": "1",
            "text/html": [
              "1"
            ]
          },
          "metadata": {
            "tags": []
          }
        },
        {
          "output_type": "stream",
          "text": [
            "[1] \"Cociente K_0/D_0\"\n"
          ],
          "name": "stdout"
        },
        {
          "output_type": "display_data",
          "data": {
            "text/plain": [
              "[1] 7.091723"
            ],
            "text/latex": "7.09172315164889",
            "text/markdown": "7.09172315164889",
            "text/html": [
              "7.09172315164889"
            ]
          },
          "metadata": {
            "tags": []
          }
        },
        {
          "output_type": "stream",
          "text": [
            "[1] \"Cociente vol_K/vol_A\"\n"
          ],
          "name": "stdout"
        },
        {
          "output_type": "display_data",
          "data": {
            "text/plain": [
              "                WALMEX.MX.Close\n",
              "WALMEX.MX.Close 0.868747       "
            ],
            "text/latex": "A matrix: 1 × 1 of type dbl\n\\begin{tabular}{r|l}\n  & WALMEX.MX.Close\\\\\n\\hline\n\tWALMEX.MX.Close & 0.868747\\\\\n\\end{tabular}\n",
            "text/markdown": "\nA matrix: 1 × 1 of type dbl\n\n| <!--/--> | WALMEX.MX.Close |\n|---|---|\n| WALMEX.MX.Close | 0.868747 |\n\n",
            "text/html": [
              "<table>\n",
              "<caption>A matrix: 1 × 1 of type dbl</caption>\n",
              "<thead>\n",
              "\t<tr><th></th><th scope=col>WALMEX.MX.Close</th></tr>\n",
              "</thead>\n",
              "<tbody>\n",
              "\t<tr><th scope=row>WALMEX.MX.Close</th><td>0.868747</td></tr>\n",
              "</tbody>\n",
              "</table>\n"
            ]
          },
          "metadata": {
            "tags": []
          }
        },
        {
          "output_type": "stream",
          "text": [
            "[1] \"Valor de solución en función:\"\n"
          ],
          "name": "stdout"
        },
        {
          "output_type": "display_data",
          "data": {
            "text/plain": [
              "           WALMEX.MX.Close\n",
              "2018-12-31    2.910383e-11\n",
              "2018-12-31    0.000000e+00"
            ]
          },
          "metadata": {
            "tags": []
          }
        },
        {
          "output_type": "stream",
          "text": [
            "[1] \"DI\"\n"
          ],
          "name": "stdout"
        },
        {
          "output_type": "display_data",
          "data": {
            "text/plain": [
              "[1] 25.18419"
            ],
            "text/latex": "25.1841948119206",
            "text/markdown": "25.1841948119206",
            "text/html": [
              "25.1841948119206"
            ]
          },
          "metadata": {
            "tags": []
          }
        },
        {
          "output_type": "stream",
          "text": [
            "[1] \"EDF Normal\"\n"
          ],
          "name": "stdout"
        },
        {
          "output_type": "display_data",
          "data": {
            "text/plain": [
              "[1] 2.984264e-140"
            ],
            "text/latex": "2.98426415358263e-140",
            "text/markdown": "2.98426415358263e-140",
            "text/html": [
              "2.98426415358263e-140"
            ]
          },
          "metadata": {
            "tags": []
          }
        }
      ]
    }
  ]
}