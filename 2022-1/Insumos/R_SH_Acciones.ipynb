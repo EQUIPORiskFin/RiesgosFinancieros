{
  "nbformat": 4,
  "nbformat_minor": 0,
  "metadata": {
    "kernelspec": {
      "display_name": "R",
      "language": "R",
      "name": "ir"
    },
    "language_info": {
      "codemirror_mode": "r",
      "file_extension": ".r",
      "mimetype": "text/x-r-source",
      "name": "R",
      "pygments_lexer": "r",
      "version": "3.3.1"
    },
    "colab": {
      "name": "R_SH_Acciones.ipynb",
      "provenance": [],
      "collapsed_sections": [],
      "include_colab_link": true
    },
    "accelerator": "GPU"
  },
  "cells": [
    {
      "cell_type": "markdown",
      "metadata": {
        "id": "view-in-github",
        "colab_type": "text"
      },
      "source": [
        "<a href=\"https://colab.research.google.com/github/pikey-msc/RiesgosFinancieros/blob/master/2020-1/Insumos/R_SH_Acciones.ipynb\" target=\"_parent\"><img src=\"https://colab.research.google.com/assets/colab-badge.svg\" alt=\"Open In Colab\"/></a>"
      ]
    },
    {
      "cell_type": "markdown",
      "metadata": {
        "id": "dPEF1ujr7wvM",
        "colab_type": "text"
      },
      "source": [
        "Paso de carga de librerías en R de todas las que se utilizarán"
      ]
    },
    {
      "cell_type": "code",
      "metadata": {
        "id": "57AsDOlcRWL9",
        "colab_type": "code",
        "outputId": "7199a04e-0021-4c5f-c19f-c3c522c34d19",
        "colab": {
          "base_uri": "https://localhost:8080/",
          "height": 760
        }
      },
      "source": [
        "#require(quantmod)\n",
        "install.packages(\"quantmod\")\n",
        "library(quantmod)\n",
        "#require(data.table)\n",
        "install.packages(\"data.table\")\n",
        "library(data.table)\n",
        "#require(\"PerformanceAnalytics\")\n",
        "install.packages(\"PerformanceAnalytics\")\n",
        "library(\"PerformanceAnalytics\")\n",
        "\n",
        "con = gzcon(url('https://github.com/systematicinvestor/SIT/raw/master/sit.gz', 'rb'))\n",
        "source(con)\n",
        "close(con)\n",
        "\n"
      ],
      "execution_count": 1,
      "outputs": [
        {
          "output_type": "stream",
          "text": [
            "Installing package into ‘/usr/local/lib/R/site-library’\n",
            "(as ‘lib’ is unspecified)\n",
            "also installing the dependencies ‘xts’, ‘zoo’, ‘TTR’\n",
            "\n",
            "Loading required package: xts\n",
            "Loading required package: zoo\n",
            "\n",
            "Attaching package: ‘zoo’\n",
            "\n",
            "The following objects are masked from ‘package:base’:\n",
            "\n",
            "    as.Date, as.Date.numeric\n",
            "\n",
            "Registered S3 method overwritten by 'xts':\n",
            "  method     from\n",
            "  as.zoo.xts zoo \n",
            "Loading required package: TTR\n",
            "Registered S3 method overwritten by 'quantmod':\n",
            "  method            from\n",
            "  as.zoo.data.frame zoo \n",
            "Version 0.4-0 included new data defaults. See ?getSymbols.\n",
            "Installing package into ‘/usr/local/lib/R/site-library’\n",
            "(as ‘lib’ is unspecified)\n",
            "\n",
            "Attaching package: ‘data.table’\n",
            "\n",
            "The following objects are masked from ‘package:xts’:\n",
            "\n",
            "    first, last\n",
            "\n",
            "Installing package into ‘/usr/local/lib/R/site-library’\n",
            "(as ‘lib’ is unspecified)\n",
            "also installing the dependency ‘quadprog’\n",
            "\n",
            "\n",
            "Attaching package: ‘PerformanceAnalytics’\n",
            "\n",
            "The following object is masked from ‘package:graphics’:\n",
            "\n",
            "    legend\n",
            "\n",
            "Warning message in system(\"timedatectl\", intern = TRUE):\n",
            "“running command 'timedatectl' had status 1”"
          ],
          "name": "stderr"
        }
      ]
    },
    {
      "cell_type": "markdown",
      "metadata": {
        "id": "Rnp7xU_hAeXq",
        "colab_type": "text"
      },
      "source": [
        "Cargamos parámetros para valoración:\n",
        "\t \n",
        "   **Pérdidas y Ganancias simulación histórica (sin alisado)**\n",
        "   \n",
        "\t Un enfoque más claro es suponer que tenemos:\n",
        "1.   Una matriz $X_{(n+1)\\times m}$ de $m$ factores de riesgo y $n+1$ observaciones. \n",
        "2.   Denotemos el vector de precios actual como $X_{00}:=(x_{0,1},x_{0,2},\\ldots,x_{0,m})$. \n",
        "3.   Sea $r$ el número de instrumentos de un portafolio, entonces cada instrumento tiene una función de valuación $f_i\\colon A_i \\to R$ para todo $x\\in X$, $i=1,\\ldots, r$, donde $A_i\\subset X_i$ con $\\#(A_i)\\leq \\#(X_i)$.\n",
        "4.   Sea $r$ el número de instrumentos de un portafolio, entonces cada instrumento tiene una función de valuación $f_i\\colon A_i \\to R$ para todo $x\\in X$, $i=1,\\ldots, r$, donde $A_i\\subset X_i$ con $\\#(A_i)\\leq \\#(X_i)$.\n",
        "5.   Sea $M_{1\\times r}=(m_1,\\ldots,m_r)$ el vector de posiciones nominales de cada instrumento, es decir, el número de contratos que se tienen por instrumento $m_i\\in R$ $(i=1,\\ldots,r)$."
      ]
    },
    {
      "cell_type": "code",
      "metadata": {
        "id": "9xQDSuPQRWMH",
        "colab_type": "code",
        "colab": {}
      },
      "source": [
        "\n",
        "#Cargar los símbolos de yahoo finance para EQ\n",
        "Symbols<-c  ( \"GCARSOA1.MX\", \"WALMEX.MX\" )#tienen que ir en orden alfabético\n",
        "pos_eq=c(1000,2000) #monto inicial invertido en acciones\n",
        "#Cargar los símbolos de yahoo finance para FX\n",
        "SymbolsFX<-c(\"EURUSD=X\",\"GBPUSD=X\",\"USDMXN=X\" ) #tienen que ir en orden alfabético\n",
        "pos_fx=c(1000,-500,200) #monto inicial invertido en divisas\n",
        "nh=3660 #días de historia\n",
        "\n",
        "pos=cbind(t(pos_fx),t(pos_eq))\n"
      ],
      "execution_count": 0,
      "outputs": []
    },
    {
      "cell_type": "markdown",
      "metadata": {
        "id": "mOcLoO2ERWMN",
        "colab_type": "text"
      },
      "source": [
        "Ahora definimos el \"*environment*\""
      ]
    },
    {
      "cell_type": "code",
      "metadata": {
        "id": "zP3dhNYMRWMP",
        "colab_type": "code",
        "outputId": "6764376d-637a-4fd7-ea4e-0e6eabd322e9",
        "colab": {
          "base_uri": "https://localhost:8080/",
          "height": 542
        }
      },
      "source": [
        "start_date=Sys.Date()-nh #fecha inicial\n",
        "\n",
        "#Creación del objeto para guardar los datos\n",
        "dataEnv<-new.env()\n",
        "dataEnvFX<-new.env()\n",
        "\n",
        "#obtener los datos\n",
        "getSymbols.yahoo(Symbols,env=dataEnv,from=start_date)\n",
        "getSymbols.yahoo(SymbolsFX,env=dataEnvFX,from=start_date)\n",
        "\n",
        "#muestra\n",
        "tail(dataEnvFX$`GBPUSD=X`)\n",
        "\n"
      ],
      "execution_count": 3,
      "outputs": [
        {
          "output_type": "stream",
          "text": [
            "Warning message:\n",
            "“GCARSOA1.MX contains missing values. Some functions will not work if objects contain missing values in the middle of the series. Consider using na.omit(), na.approx(), na.fill(), etc to remove or replace them.”Warning message:\n",
            "“WALMEX.MX contains missing values. Some functions will not work if objects contain missing values in the middle of the series. Consider using na.omit(), na.approx(), na.fill(), etc to remove or replace them.”"
          ],
          "name": "stderr"
        },
        {
          "output_type": "display_data",
          "data": {
            "text/plain": [
              "[1] \"GCARSOA1.MX\" \"WALMEX.MX\"  "
            ],
            "text/latex": "\\begin{enumerate*}\n\\item 'GCARSOA1.MX'\n\\item 'WALMEX.MX'\n\\end{enumerate*}\n",
            "text/markdown": "1. 'GCARSOA1.MX'\n2. 'WALMEX.MX'\n\n\n",
            "text/html": [
              "<ol class=list-inline>\n",
              "\t<li>'GCARSOA1.MX'</li>\n",
              "\t<li>'WALMEX.MX'</li>\n",
              "</ol>\n"
            ]
          },
          "metadata": {
            "tags": []
          }
        },
        {
          "output_type": "stream",
          "text": [
            "Warning message:\n",
            "“EURUSD=X contains missing values. Some functions will not work if objects contain missing values in the middle of the series. Consider using na.omit(), na.approx(), na.fill(), etc to remove or replace them.”Warning message:\n",
            "“GBPUSD=X contains missing values. Some functions will not work if objects contain missing values in the middle of the series. Consider using na.omit(), na.approx(), na.fill(), etc to remove or replace them.”Warning message:\n",
            "“USDMXN=X contains missing values. Some functions will not work if objects contain missing values in the middle of the series. Consider using na.omit(), na.approx(), na.fill(), etc to remove or replace them.”"
          ],
          "name": "stderr"
        },
        {
          "output_type": "display_data",
          "data": {
            "text/plain": [
              "[1] \"EURUSD=X\" \"GBPUSD=X\" \"USDMXN=X\""
            ],
            "text/latex": "\\begin{enumerate*}\n\\item 'EURUSD=X'\n\\item 'GBPUSD=X'\n\\item 'USDMXN=X'\n\\end{enumerate*}\n",
            "text/markdown": "1. 'EURUSD=X'\n2. 'GBPUSD=X'\n3. 'USDMXN=X'\n\n\n",
            "text/html": [
              "<ol class=list-inline>\n",
              "\t<li>'EURUSD=X'</li>\n",
              "\t<li>'GBPUSD=X'</li>\n",
              "\t<li>'USDMXN=X'</li>\n",
              "</ol>\n"
            ]
          },
          "metadata": {
            "tags": []
          }
        },
        {
          "output_type": "display_data",
          "data": {
            "text/plain": [
              "           GBPUSD=X.Open GBPUSD=X.High GBPUSD=X.Low GBPUSD=X.Close\n",
              "2019-09-17      1.242730      1.249531     1.239465       1.242854\n",
              "2019-09-18      1.250313      1.250625     1.244137       1.250266\n",
              "2019-09-19      1.247007      1.249859     1.244245       1.247054\n",
              "2019-09-20      1.252662      1.258305     1.246479       1.252505\n",
              "2019-09-23      1.247085      1.249172     1.241527       1.247194\n",
              "2019-09-24      1.243441      1.243843     1.242900       1.243735\n",
              "           GBPUSD=X.Volume GBPUSD=X.Adjusted\n",
              "2019-09-17               0          1.242854\n",
              "2019-09-18               0          1.250266\n",
              "2019-09-19               0          1.247054\n",
              "2019-09-20               0          1.252505\n",
              "2019-09-23               0          1.247194\n",
              "2019-09-24               0          1.243735"
            ]
          },
          "metadata": {
            "tags": []
          }
        }
      ]
    },
    {
      "cell_type": "markdown",
      "metadata": {
        "id": "_KhrggjSDwXA",
        "colab_type": "text"
      },
      "source": [
        "Limpiamos NA's y nos quedamos con los precios de cierre"
      ]
    },
    {
      "cell_type": "code",
      "metadata": {
        "id": "TfZnjpRrRWMW",
        "colab_type": "code",
        "outputId": "cdb10563-1ea9-40c4-b850-329ac163a8eb",
        "colab": {
          "base_uri": "https://localhost:8080/",
          "height": 743
        }
      },
      "source": [
        "#limpiarlos, alinearnos y quedarnos con el precio de cierre \n",
        "\n",
        "bt.prep(dataEnv,align='remove.na',fill.gaps = T)\n",
        "bt.prep(dataEnvFX,align='remove.na',fill.gaps=T)\n",
        "\n",
        "#muestra de datos\n",
        "head(dataEnv$prices)\n",
        "head(dataEnvFX$prices)\n",
        "\n",
        "#muestra de datos\n",
        "head(dataEnv$prices)\n",
        "head(dataEnvFX$prices)\n",
        "\n",
        "\n",
        "#Nos quedamos con los precios\n",
        "stock_prices = dataEnv$prices\n",
        "tail(stock_prices[,])\n",
        "\n",
        "\n",
        "\n",
        "stock_pricesFX=dataEnvFX$prices\n",
        "tail(stock_pricesFX)\n",
        "\n"
      ],
      "execution_count": 4,
      "outputs": [
        {
          "output_type": "display_data",
          "data": {
            "text/plain": [
              "           GCARSOA1.MX WALMEX.MX\n",
              "2009-09-17     24.1518    24.695\n",
              "2009-09-18     23.3451    24.775\n",
              "2009-09-21     22.3477    24.355\n",
              "2009-09-22     22.1082    24.250\n",
              "2009-09-23     21.3015    23.595\n",
              "2009-09-24     20.3872    23.390"
            ]
          },
          "metadata": {
            "tags": []
          }
        },
        {
          "output_type": "display_data",
          "data": {
            "text/plain": [
              "           EURUSD=X GBPUSD=X USDMXN=X\n",
              "2009-09-16 1.471194 1.647989  13.1851\n",
              "2009-09-17 1.473297 1.643818  13.2699\n",
              "2009-09-18 1.471605 1.627101  13.2400\n",
              "2009-09-21 1.468407 1.622007  13.3787\n",
              "2009-09-22 1.481196 1.638404  13.3376\n",
              "2009-09-23 1.472602 1.635109  13.3710"
            ]
          },
          "metadata": {
            "tags": []
          }
        },
        {
          "output_type": "display_data",
          "data": {
            "text/plain": [
              "           GCARSOA1.MX WALMEX.MX\n",
              "2009-09-17     24.1518    24.695\n",
              "2009-09-18     23.3451    24.775\n",
              "2009-09-21     22.3477    24.355\n",
              "2009-09-22     22.1082    24.250\n",
              "2009-09-23     21.3015    23.595\n",
              "2009-09-24     20.3872    23.390"
            ]
          },
          "metadata": {
            "tags": []
          }
        },
        {
          "output_type": "display_data",
          "data": {
            "text/plain": [
              "           EURUSD=X GBPUSD=X USDMXN=X\n",
              "2009-09-16 1.471194 1.647989  13.1851\n",
              "2009-09-17 1.473297 1.643818  13.2699\n",
              "2009-09-18 1.471605 1.627101  13.2400\n",
              "2009-09-21 1.468407 1.622007  13.3787\n",
              "2009-09-22 1.481196 1.638404  13.3376\n",
              "2009-09-23 1.472602 1.635109  13.3710"
            ]
          },
          "metadata": {
            "tags": []
          }
        },
        {
          "output_type": "display_data",
          "data": {
            "text/plain": [
              "           GCARSOA1.MX WALMEX.MX\n",
              "2019-09-13       58.27     57.67\n",
              "2019-09-17       58.37     56.73\n",
              "2019-09-18       58.16     55.50\n",
              "2019-09-19       57.94     55.19\n",
              "2019-09-20       60.48     55.01\n",
              "2019-09-23       60.34     55.16"
            ]
          },
          "metadata": {
            "tags": []
          }
        },
        {
          "output_type": "display_data",
          "data": {
            "text/plain": [
              "           EURUSD=X GBPUSD=X USDMXN=X\n",
              "2019-09-17 1.100594 1.242854  19.4224\n",
              "2019-09-18 1.107469 1.250266  19.3528\n",
              "2019-09-19 1.103144 1.247054  19.3967\n",
              "2019-09-20 1.104850 1.252505  19.4292\n",
              "2019-09-23 1.101904 1.247194  19.4189\n",
              "2019-09-24 1.099626 1.243735  19.4868"
            ]
          },
          "metadata": {
            "tags": []
          }
        }
      ]
    },
    {
      "cell_type": "markdown",
      "metadata": {
        "id": "ybz1dRl2RWMb",
        "colab_type": "text"
      },
      "source": [
        "Cambiar moneda a pesos mexicanos, identificar "
      ]
    },
    {
      "cell_type": "code",
      "metadata": {
        "id": "6nFghrHPRWMd",
        "colab_type": "code",
        "outputId": "f14a7476-4b34-4e3a-8896-4c63081c286a",
        "colab": {
          "base_uri": "https://localhost:8080/",
          "height": 294
        }
      },
      "source": [
        "#cambiar todo a pesos mexicanos\n",
        "stock_pricesFX=cbind(stock_pricesFX[,1,with=F]*stock_pricesFX[,3,with=F],stock_pricesFX[,2,with=F]*stock_pricesFX[,3,with=F],stock_pricesFX[,3,with=F])\n",
        "tail(stock_pricesFX)\n",
        "\n",
        "stock_prices_EQFX=merge(stock_pricesFX,stock_prices,join = \"inner\")\n",
        "#stock_prices_EQFX\n",
        "tail(stock_prices_EQFX)\n",
        "\n",
        "\n",
        "#Preciso actuales\n",
        "#x0=as.data.table(as.matrix(stock_prices_EQFX[nrow(stock_prices_EQFX),])) #valores actuales\n",
        "x0=stock_prices_EQFX[nrow(stock_prices_EQFX),]\n",
        "x0\n"
      ],
      "execution_count": 5,
      "outputs": [
        {
          "output_type": "display_data",
          "data": {
            "text/plain": [
              "           EURUSD.X GBPUSD.X USDMXN.X\n",
              "2019-09-17 21.37618 24.13921  19.4224\n",
              "2019-09-18 21.43263 24.19615  19.3528\n",
              "2019-09-19 21.39735 24.18873  19.3967\n",
              "2019-09-20 21.46635 24.33517  19.4292\n",
              "2019-09-23 21.39776 24.21914  19.4189\n",
              "2019-09-24 21.42819 24.23641  19.4868"
            ]
          },
          "metadata": {
            "tags": []
          }
        },
        {
          "output_type": "display_data",
          "data": {
            "text/plain": [
              "           EURUSD.X GBPUSD.X USDMXN.X GCARSOA1.MX WALMEX.MX\n",
              "2019-09-13 21.48458 23.95415  19.4285       58.27     57.67\n",
              "2019-09-17 21.37618 24.13921  19.4224       58.37     56.73\n",
              "2019-09-18 21.43263 24.19615  19.3528       58.16     55.50\n",
              "2019-09-19 21.39735 24.18873  19.3967       57.94     55.19\n",
              "2019-09-20 21.46635 24.33517  19.4292       60.48     55.01\n",
              "2019-09-23 21.39776 24.21914  19.4189       60.34     55.16"
            ]
          },
          "metadata": {
            "tags": []
          }
        },
        {
          "output_type": "display_data",
          "data": {
            "text/plain": [
              "           EURUSD.X GBPUSD.X USDMXN.X GCARSOA1.MX WALMEX.MX\n",
              "2019-09-23 21.39776 24.21914  19.4189       60.34     55.16"
            ]
          },
          "metadata": {
            "tags": []
          }
        }
      ]
    },
    {
      "cell_type": "markdown",
      "metadata": {
        "id": "q1wx8ftzHBmI",
        "colab_type": "text"
      },
      "source": [
        "\n",
        "Paso 1. (Generación de rendimientos) Construir ${\\Delta X}_{n\\times m}$ que es la matriz de diferencias basados en el operador $T_j$, es decir\n",
        "\t\t$${\\Delta X}_t=\\Big[ T_j(\\frac{x_{t,1}}{x_{t+1,1}}), T_j(\\frac{x_{t,2}}{x_{t+1,2}}),\\ldots, T_j(\\frac{x_{t,m}}{x_{t+1,m}})\\Big]\\quad t=0,1,\\ldots, n-1.$$"
      ]
    },
    {
      "cell_type": "code",
      "metadata": {
        "id": "ix7N-zKGG2on",
        "colab_type": "code",
        "outputId": "6248e4d6-c214-4f96-db94-f00ee9c9be3d",
        "colab": {
          "base_uri": "https://localhost:8080/",
          "height": 301
        }
      },
      "source": [
        "\n",
        "stock_returns = Return.calculate(stock_prices_EQFX, method = c(\"continuous\"))\n",
        "head(stock_returns[,1:3])\n",
        "\n",
        "#CONFIRMACIÓN\n",
        "DeltaX=as.matrix(log(as.matrix(stock_prices_EQFX[2:nrow(stock_prices_EQFX)])/as.data.table(as.matrix(stock_prices_EQFX[1:(nrow(stock_prices_EQFX)-1)]))))\n",
        "#tail(DeltaX)\n",
        "head(DeltaX)"
      ],
      "execution_count": 6,
      "outputs": [
        {
          "output_type": "display_data",
          "data": {
            "text/plain": [
              "               EURUSD.X      GBPUSD.X     USDMXN.X\n",
              "2009-09-17           NA            NA           NA\n",
              "2009-09-18 -0.003404867 -0.0124774432 -0.002255762\n",
              "2009-09-21  0.008245837  0.0072857071  0.010421340\n",
              "2009-09-22  0.005594954  0.0069815501 -0.003076776\n",
              "2009-09-23 -0.003317897  0.0004879399  0.002501068\n",
              "2009-09-24  0.005119434 -0.0154189227  0.010230934"
            ]
          },
          "metadata": {
            "tags": []
          }
        },
        {
          "output_type": "display_data",
          "data": {
            "text/plain": [
              "     EURUSD.X     GBPUSD.X      USDMXN.X     GCARSOA1.MX  WALMEX.MX   \n",
              "[1,] -0.003404867 -0.0124774432 -0.002255762 -0.033971799  0.003234286\n",
              "[2,]  0.008245837  0.0072857071  0.010421340 -0.043663704 -0.017097913\n",
              "[3,]  0.005594954  0.0069815501 -0.003076776 -0.010774827 -0.004320550\n",
              "[4,] -0.003317897  0.0004879399  0.002501068 -0.037171088 -0.027381835\n",
              "[5,]  0.005119434 -0.0154189227  0.010230934 -0.043870289 -0.008726245\n",
              "[6,]  0.005702024  0.0058895805  0.003384723  0.009548572  0.004691883"
            ],
            "text/latex": "A matrix: 6 × 5 of type dbl\n\\begin{tabular}{lllll}\n EURUSD.X & GBPUSD.X & USDMXN.X & GCARSOA1.MX & WALMEX.MX\\\\\n\\hline\n\t -0.003404867 & -0.0124774432 & -0.002255762 & -0.033971799 &  0.003234286\\\\\n\t  0.008245837 &  0.0072857071 &  0.010421340 & -0.043663704 & -0.017097913\\\\\n\t  0.005594954 &  0.0069815501 & -0.003076776 & -0.010774827 & -0.004320550\\\\\n\t -0.003317897 &  0.0004879399 &  0.002501068 & -0.037171088 & -0.027381835\\\\\n\t  0.005119434 & -0.0154189227 &  0.010230934 & -0.043870289 & -0.008726245\\\\\n\t  0.005702024 &  0.0058895805 &  0.003384723 &  0.009548572 &  0.004691883\\\\\n\\end{tabular}\n",
            "text/markdown": "\nA matrix: 6 × 5 of type dbl\n\n| EURUSD.X | GBPUSD.X | USDMXN.X | GCARSOA1.MX | WALMEX.MX |\n|---|---|---|---|---|\n| -0.003404867 | -0.0124774432 | -0.002255762 | -0.033971799 |  0.003234286 |\n|  0.008245837 |  0.0072857071 |  0.010421340 | -0.043663704 | -0.017097913 |\n|  0.005594954 |  0.0069815501 | -0.003076776 | -0.010774827 | -0.004320550 |\n| -0.003317897 |  0.0004879399 |  0.002501068 | -0.037171088 | -0.027381835 |\n|  0.005119434 | -0.0154189227 |  0.010230934 | -0.043870289 | -0.008726245 |\n|  0.005702024 |  0.0058895805 |  0.003384723 |  0.009548572 |  0.004691883 |\n\n",
            "text/html": [
              "<table>\n",
              "<caption>A matrix: 6 × 5 of type dbl</caption>\n",
              "<thead>\n",
              "\t<tr><th scope=col>EURUSD.X</th><th scope=col>GBPUSD.X</th><th scope=col>USDMXN.X</th><th scope=col>GCARSOA1.MX</th><th scope=col>WALMEX.MX</th></tr>\n",
              "</thead>\n",
              "<tbody>\n",
              "\t<tr><td>-0.003404867</td><td>-0.0124774432</td><td>-0.002255762</td><td>-0.033971799</td><td> 0.003234286</td></tr>\n",
              "\t<tr><td> 0.008245837</td><td> 0.0072857071</td><td> 0.010421340</td><td>-0.043663704</td><td>-0.017097913</td></tr>\n",
              "\t<tr><td> 0.005594954</td><td> 0.0069815501</td><td>-0.003076776</td><td>-0.010774827</td><td>-0.004320550</td></tr>\n",
              "\t<tr><td>-0.003317897</td><td> 0.0004879399</td><td> 0.002501068</td><td>-0.037171088</td><td>-0.027381835</td></tr>\n",
              "\t<tr><td> 0.005119434</td><td>-0.0154189227</td><td> 0.010230934</td><td>-0.043870289</td><td>-0.008726245</td></tr>\n",
              "\t<tr><td> 0.005702024</td><td> 0.0058895805</td><td> 0.003384723</td><td> 0.009548572</td><td> 0.004691883</td></tr>\n",
              "</tbody>\n",
              "</table>\n"
            ]
          },
          "metadata": {
            "tags": []
          }
        }
      ]
    },
    {
      "cell_type": "markdown",
      "metadata": {
        "id": "cPNqoEH8GzFm",
        "colab_type": "text"
      },
      "source": [
        "Análisis gráfico"
      ]
    },
    {
      "cell_type": "code",
      "metadata": {
        "id": "KAdCB64gGxr8",
        "colab_type": "code",
        "outputId": "c6393773-7b56-43d1-f7cd-31f44e309482",
        "colab": {
          "base_uri": "https://localhost:8080/",
          "height": 857
        }
      },
      "source": [
        "charts.PerformanceSummary(stock_returns,main='Stock Absolute Performance',legend.loc=\"bottomright\")\n"
      ],
      "execution_count": 7,
      "outputs": [
        {
          "output_type": "display_data",
          "data": {
            "image/png": "[encoded data removed]",
            "text/plain": [
              "Plot with title “Stock Absolute Performance”"
            ]
          },
          "metadata": {
            "tags": []
          }
        }
      ]
    },
    {
      "cell_type": "markdown",
      "metadata": {
        "id": "AWCPVTpU-3Cv",
        "colab_type": "text"
      },
      "source": [
        "Paso 2. Construir ${X^\\ast}_{n\\times m}$ que es la matriz de factores de riesgo simulada basada en el vector de precios actual $X_{00}$\n",
        "\t\t$$X_{t}^\\ast=\\Big[x_{0,1}T^{-1}_j(\\Delta x_{t,1}), x_{0,2}T^{-1}_j(\\Delta x_{t,2}),\\ldots, x_{0,m}T^{-1}_j(\\Delta x_{t,m})\\Big]\\quad (t=1,\\ldots,n\\quad j=1,2),$$\n",
        "\t\tdonde $T_1(x)=\\ln(x)$, $T_2(x)=x-1$.\n",
        "\n",
        "Paso 3. Construcción de la matriz de reevaluación del portafolio basada en los escenarios históricos $Y_{n\\times r}$ de todos los instrumentos financieros, es decir\n",
        "\t\t$$Y_t=[m_1f_1(X_{t}^\\ast), m_2f_2(X_{t}^\\ast),\\ldots, m_rf_r(X_{t}^\\ast)]\\quad (t=1,\\ldots,n).$$\n",
        "    \n",
        "Paso 4. Construcción de la matriz de pérdidas y ganancias del portafolio basada en los escenarios históricos $\\Delta Y_{n\\times r}$ de todos los instrumentos financieros, es decir\n",
        "\t\t$$\\Delta Y_t=Y_0-Y_{t}=[m_1(f_1(X_{00})-f_1(X_{t}^\\ast)), m_2( f_2(X_{00})-f_2(X_{t}^\\ast)),\\ldots, m_r(f_r(X_{00})-f_r(X_{t}^\\ast))],$$\n",
        "\t\tpara $(t=1,\\ldots,n)$. Se puede obtener el vector de pérdidas totales ${\\Delta YT}_{n\\times m}$ muy fácilmente, esto es $\\Delta YT=\\sum_{k=1}^r Y_{kt}$ $(t=1,\\ldots,n)$, incluso se puede hacer lo mismo por tipo de riesgo.\n"
      ]
    },
    {
      "cell_type": "code",
      "metadata": {
        "id": "UmTDgNv9AVyF",
        "colab_type": "code",
        "outputId": "a640f20f-dc2a-4b5b-8385-9ccedc9aa3e6",
        "colab": {
          "base_uri": "https://localhost:8080/",
          "height": 769
        }
      },
      "source": [
        "n=nrow(DeltaX)\n",
        "n\n",
        "m=ncol(DeltaX)\n",
        "m\n",
        "\n",
        "\n",
        "V0=x0*pos #Valor del portafolio\n",
        "V0\n",
        "VT=sum(V0)\n",
        "sum(V0)\n",
        "#Cálculo de Distribución de Pérdidas y Ganancias\n",
        "X_ast<-matrix(0,n,m) #matriz de simulacion de precios\n",
        "Y_ast<-matrix(0,n,m) #matriz de simulacion de instrumentos financieros\n",
        "PL<-matrix(0,n,m) \n",
        "PLTdCAcc<-matrix(0,n,2) #POR FACTOR DE RIESGO\n",
        "PLT=matrix(0,n,1) #TOTAL\n",
        "for (i in (1:n))\n",
        "{\n",
        "  X_ast[i,]=x0*exp(DeltaX[i,]) #Simulación del precio\n",
        "  Y_ast[i,]=X_ast[i,]*pos\n",
        "  PL[i,]=Y_ast[i,]-V0  #Pérdidas y ganancias por posición\n",
        "  PLTdCAcc[i,]=c(sum(PL[i,1:(len(pos_fx))]),sum(PL[i,(len(pos_fx)+1):(len(pos_eq)+len(pos_fx))])) #Pérdidas y ganancias por factor de riesgo\n",
        "  PLT[i]=sum(PL[i,]) #Pérdidas y ganancias totales\n",
        "}\n",
        "PL[1:10,]\n",
        "PLTdCAcc[1:10,]\n",
        "PLT[1:10,]\n"
      ],
      "execution_count": 8,
      "outputs": [
        {
          "output_type": "display_data",
          "data": {
            "text/plain": [
              "[1] 2509"
            ],
            "text/latex": "2509",
            "text/markdown": "2509",
            "text/html": [
              "2509"
            ]
          },
          "metadata": {
            "tags": []
          }
        },
        {
          "output_type": "display_data",
          "data": {
            "text/plain": [
              "[1] 5"
            ],
            "text/latex": "5",
            "text/markdown": "5",
            "text/html": [
              "5"
            ]
          },
          "metadata": {
            "tags": []
          }
        },
        {
          "output_type": "display_data",
          "data": {
            "text/plain": [
              "           EURUSD.X  GBPUSD.X USDMXN.X GCARSOA1.MX WALMEX.MX\n",
              "2019-09-23 21397.76 -12109.57  3883.78       60340    110320"
            ]
          },
          "metadata": {
            "tags": []
          }
        },
        {
          "output_type": "display_data",
          "data": {
            "text/plain": [
              "[1] 183832"
            ],
            "text/latex": "183831.9758023",
            "text/markdown": "183831.9758023",
            "text/html": [
              "183831.9758023"
            ]
          },
          "metadata": {
            "tags": []
          }
        },
        {
          "output_type": "display_data",
          "data": {
            "text/plain": [
              "      [,1]       [,2]        [,3]       [,4]       [,5]       \n",
              " [1,]  -72.73264  150.157704  -8.751010 -2015.4307   357.38409\n",
              " [2,]  177.17194  -88.548943  40.685822 -2577.9764 -1870.20787\n",
              " [3,]  120.05504  -84.839365 -11.931156  -646.6630  -475.61486\n",
              " [4,]  -70.87793   -5.910183   9.725757 -2201.7296 -2979.78187\n",
              " [5,]  109.82533  185.284376  39.938655 -2589.9079  -958.49125\n",
              " [6,]  122.35907  -71.530711  13.167792   578.9203   518.82475\n",
              " [7,] -124.98893   86.389990  -5.959926  2436.4311  1760.42553\n",
              " [8,]  -50.81324  -59.772304  -1.291389   826.7413   -46.20733\n",
              " [9,]   57.40196   -3.452649  -6.401677 -1073.8048 -2149.54117\n",
              "[10,]  187.74258 -146.254648  71.627385 -3583.4366 -2852.29060"
            ],
            "text/latex": "A matrix: 10 × 5 of type dbl\n\\begin{tabular}{lllll}\n\t  -72.73264 &  150.157704 &  -8.751010 & -2015.4307 &   357.38409\\\\\n\t  177.17194 &  -88.548943 &  40.685822 & -2577.9764 & -1870.20787\\\\\n\t  120.05504 &  -84.839365 & -11.931156 &  -646.6630 &  -475.61486\\\\\n\t  -70.87793 &   -5.910183 &   9.725757 & -2201.7296 & -2979.78187\\\\\n\t  109.82533 &  185.284376 &  39.938655 & -2589.9079 &  -958.49125\\\\\n\t  122.35907 &  -71.530711 &  13.167792 &   578.9203 &   518.82475\\\\\n\t -124.98893 &   86.389990 &  -5.959926 &  2436.4311 &  1760.42553\\\\\n\t  -50.81324 &  -59.772304 &  -1.291389 &   826.7413 &   -46.20733\\\\\n\t   57.40196 &   -3.452649 &  -6.401677 & -1073.8048 & -2149.54117\\\\\n\t  187.74258 & -146.254648 &  71.627385 & -3583.4366 & -2852.29060\\\\\n\\end{tabular}\n",
            "text/markdown": "\nA matrix: 10 × 5 of type dbl\n\n|  -72.73264 |  150.157704 |  -8.751010 | -2015.4307 |   357.38409 |\n|  177.17194 |  -88.548943 |  40.685822 | -2577.9764 | -1870.20787 |\n|  120.05504 |  -84.839365 | -11.931156 |  -646.6630 |  -475.61486 |\n|  -70.87793 |   -5.910183 |   9.725757 | -2201.7296 | -2979.78187 |\n|  109.82533 |  185.284376 |  39.938655 | -2589.9079 |  -958.49125 |\n|  122.35907 |  -71.530711 |  13.167792 |   578.9203 |   518.82475 |\n| -124.98893 |   86.389990 |  -5.959926 |  2436.4311 |  1760.42553 |\n|  -50.81324 |  -59.772304 |  -1.291389 |   826.7413 |   -46.20733 |\n|   57.40196 |   -3.452649 |  -6.401677 | -1073.8048 | -2149.54117 |\n|  187.74258 | -146.254648 |  71.627385 | -3583.4366 | -2852.29060 |\n\n",
            "text/html": [
              "<table>\n",
              "<caption>A matrix: 10 × 5 of type dbl</caption>\n",
              "<tbody>\n",
              "\t<tr><td> -72.73264</td><td> 150.157704</td><td> -8.751010</td><td>-2015.4307</td><td>  357.38409</td></tr>\n",
              "\t<tr><td> 177.17194</td><td> -88.548943</td><td> 40.685822</td><td>-2577.9764</td><td>-1870.20787</td></tr>\n",
              "\t<tr><td> 120.05504</td><td> -84.839365</td><td>-11.931156</td><td> -646.6630</td><td> -475.61486</td></tr>\n",
              "\t<tr><td> -70.87793</td><td>  -5.910183</td><td>  9.725757</td><td>-2201.7296</td><td>-2979.78187</td></tr>\n",
              "\t<tr><td> 109.82533</td><td> 185.284376</td><td> 39.938655</td><td>-2589.9079</td><td> -958.49125</td></tr>\n",
              "\t<tr><td> 122.35907</td><td> -71.530711</td><td> 13.167792</td><td>  578.9203</td><td>  518.82475</td></tr>\n",
              "\t<tr><td>-124.98893</td><td>  86.389990</td><td> -5.959926</td><td> 2436.4311</td><td> 1760.42553</td></tr>\n",
              "\t<tr><td> -50.81324</td><td> -59.772304</td><td> -1.291389</td><td>  826.7413</td><td>  -46.20733</td></tr>\n",
              "\t<tr><td>  57.40196</td><td>  -3.452649</td><td> -6.401677</td><td>-1073.8048</td><td>-2149.54117</td></tr>\n",
              "\t<tr><td> 187.74258</td><td>-146.254648</td><td> 71.627385</td><td>-3583.4366</td><td>-2852.29060</td></tr>\n",
              "</tbody>\n",
              "</table>\n"
            ]
          },
          "metadata": {
            "tags": []
          }
        },
        {
          "output_type": "display_data",
          "data": {
            "text/plain": [
              "      [,1]       [,2]     \n",
              " [1,]   68.67406 -1658.047\n",
              " [2,]  129.30882 -4448.184\n",
              " [3,]   23.28452 -1122.278\n",
              " [4,]  -67.06236 -5181.511\n",
              " [5,]  335.04836 -3548.399\n",
              " [6,]   63.99616  1097.745\n",
              " [7,]  -44.55887  4196.857\n",
              " [8,] -111.87693   780.534\n",
              " [9,]   47.54764 -3223.346\n",
              "[10,]  113.11531 -6435.727"
            ],
            "text/latex": "A matrix: 10 × 2 of type dbl\n\\begin{tabular}{ll}\n\t   68.67406 & -1658.047\\\\\n\t  129.30882 & -4448.184\\\\\n\t   23.28452 & -1122.278\\\\\n\t  -67.06236 & -5181.511\\\\\n\t  335.04836 & -3548.399\\\\\n\t   63.99616 &  1097.745\\\\\n\t  -44.55887 &  4196.857\\\\\n\t -111.87693 &   780.534\\\\\n\t   47.54764 & -3223.346\\\\\n\t  113.11531 & -6435.727\\\\\n\\end{tabular}\n",
            "text/markdown": "\nA matrix: 10 × 2 of type dbl\n\n|   68.67406 | -1658.047 |\n|  129.30882 | -4448.184 |\n|   23.28452 | -1122.278 |\n|  -67.06236 | -5181.511 |\n|  335.04836 | -3548.399 |\n|   63.99616 |  1097.745 |\n|  -44.55887 |  4196.857 |\n| -111.87693 |   780.534 |\n|   47.54764 | -3223.346 |\n|  113.11531 | -6435.727 |\n\n",
            "text/html": [
              "<table>\n",
              "<caption>A matrix: 10 × 2 of type dbl</caption>\n",
              "<tbody>\n",
              "\t<tr><td>  68.67406</td><td>-1658.047</td></tr>\n",
              "\t<tr><td> 129.30882</td><td>-4448.184</td></tr>\n",
              "\t<tr><td>  23.28452</td><td>-1122.278</td></tr>\n",
              "\t<tr><td> -67.06236</td><td>-5181.511</td></tr>\n",
              "\t<tr><td> 335.04836</td><td>-3548.399</td></tr>\n",
              "\t<tr><td>  63.99616</td><td> 1097.745</td></tr>\n",
              "\t<tr><td> -44.55887</td><td> 4196.857</td></tr>\n",
              "\t<tr><td>-111.87693</td><td>  780.534</td></tr>\n",
              "\t<tr><td>  47.54764</td><td>-3223.346</td></tr>\n",
              "\t<tr><td> 113.11531</td><td>-6435.727</td></tr>\n",
              "</tbody>\n",
              "</table>\n"
            ]
          },
          "metadata": {
            "tags": []
          }
        },
        {
          "output_type": "display_data",
          "data": {
            "text/plain": [
              " [1] -1589.3725 -4318.8754 -1098.9933 -5248.5738 -3213.3507  1161.7413\n",
              " [7]  4152.2978   668.6571 -3175.7983 -6322.6119"
            ],
            "text/latex": "\\begin{enumerate*}\n\\item -1589.3725089027\n\\item -4318.87541559348\n\\item -1098.99331055404\n\\item -5248.57380910035\n\\item -3213.35074917561\n\\item 1161.74125088827\n\\item 4152.29776152549\n\\item 668.657064059683\n\\item -3175.79830343011\n\\item -6322.61185963972\n\\end{enumerate*}\n",
            "text/markdown": "1. -1589.3725089027\n2. -4318.87541559348\n3. -1098.99331055404\n4. -5248.57380910035\n5. -3213.35074917561\n6. 1161.74125088827\n7. 4152.29776152549\n8. 668.657064059683\n9. -3175.79830343011\n10. -6322.61185963972\n\n\n",
            "text/html": [
              "<ol class=list-inline>\n",
              "\t<li>-1589.3725089027</li>\n",
              "\t<li>-4318.87541559348</li>\n",
              "\t<li>-1098.99331055404</li>\n",
              "\t<li>-5248.57380910035</li>\n",
              "\t<li>-3213.35074917561</li>\n",
              "\t<li>1161.74125088827</li>\n",
              "\t<li>4152.29776152549</li>\n",
              "\t<li>668.657064059683</li>\n",
              "\t<li>-3175.79830343011</li>\n",
              "\t<li>-6322.61185963972</li>\n",
              "</ol>\n"
            ]
          },
          "metadata": {
            "tags": []
          }
        }
      ]
    },
    {
      "cell_type": "markdown",
      "metadata": {
        "id": "R0188HrUDKpu",
        "colab_type": "text"
      },
      "source": [
        "Paso 5. Obtenerla medida de riesgo basado en un nivel de confianza de la matriz ${\\Delta Y}_{\\cdot k}$ $(k=1,\\ldots,r)$ y $\\Delta YT$.\n",
        "\n",
        "Las pérdidas y ganancias vía simulación histórica sin alisado es donde se ponderan los escenarios históricos con un mismo peso para todos, es decir cada escenario tiene una probabilidad de ocurrencia de $1/n$."
      ]
    },
    {
      "cell_type": "code",
      "metadata": {
        "id": "OgScIGrWE7CA",
        "colab_type": "code",
        "outputId": "75881aa9-2f7c-475e-e22c-1e5cdba8d9ce",
        "colab": {
          "base_uri": "https://localhost:8080/",
          "height": 409
        }
      },
      "source": [
        "#VaR por posición sin alisado\n",
        "VaRCont=matrix(0,1,m)\n",
        "CVaRCont=matrix(0,1,m)\n",
        "alpha=0.95\n",
        "\n",
        "\n",
        "for (i in (1:m))\n",
        "{\n",
        "VaRCont[i]=quantile(PL[,i],1-alpha,n)\n",
        "CVaRCont[i]= mean(PL[which(PL[,i]<VaRCont[i]),i])\n",
        "}\n",
        "\n",
        "#Resumen medidas de riesgo por posición\n",
        "VaRCont=as.data.table(VaRCont)\n",
        "CVaRCont=as.data.table(CVaRCont)\n",
        "\n",
        "#valores absolutos con respecto al portafolio sin alisado\n",
        "names(VaRCont)=names(x0)\n",
        "names(CVaRCont)=names(x0)\n",
        "VaRCont/abs(as.matrix(V0))\n",
        "CVaRCont/abs(as.matrix(V0))\n",
        "\n",
        "\n",
        "#medias de riesgo por factor de riesgo acciones y divisas\n",
        "\n",
        "VaRfr=matrix(0,1,2)\n",
        "CVaRfr=matrix(0,1,2)\n",
        "\n",
        "for (i in (1:2))\n",
        "{\n",
        "  VaRfr[i]=quantile(PLTdCAcc[,i],1-alpha,n)\n",
        "  CVaRfr[i]= mean(PLTdCAcc[which(PLTdCAcc[,i]<VaRfr[i]),i])\n",
        "}\n",
        "\n",
        "\n",
        "\n",
        "VaRfr=as.data.table(VaRfr)\n",
        "CVaRfr=as.data.table(CVaRfr)\n",
        "\n",
        "names(VaRfr)=c(\"divisas\", \"acciones\")\n",
        "names(CVaRfr)=c(\"divisas\", \"acciones\")\n",
        "#VALORES ABSOLUTOS\n",
        "VaRfr/c(abs(as.matrix(sum(V0[,1:(len(pos_fx)+1)]))),abs(as.matrix(sum(V0[,(len(pos_fx)+1):(len(pos_eq)+len(pos_fx))]))))\n",
        "CVaRfr/c(abs(as.matrix(sum(V0[,1:(len(pos_fx)+1)]))),abs(as.matrix(sum(V0[,(len(pos_fx)+1):(len(pos_eq)+len(pos_fx))]))))\n",
        "\n",
        "\n",
        "#hist(as.matrix(PL[,3]))\n",
        "#hist(as.matrix(PL[,2]))\n",
        "\n",
        "\n",
        "#VaR Total\n",
        "VaRTotal=quantile(PLT,1-alpha,n)\n",
        "CVaRTotal= mean(PLT[which(PLT<VaRTotal),])\n",
        "\n",
        "#VALOR ABSOLUTOS\n",
        "VaRTotal\n",
        "CVaRTotal\n",
        "VaRTotal/sum(V0)\n",
        "CVaRTotal/sum(V0)"
      ],
      "execution_count": 9,
      "outputs": [
        {
          "output_type": "display_data",
          "data": {
            "text/plain": [
              "  EURUSD.X   GBPUSD.X   USDMXN.X   GCARSOA1.MX WALMEX.MX  \n",
              "1 -0.0146085 -0.0141307 -0.0112789 -0.03070152 -0.02241808"
            ],
            "text/latex": "A data.table: 1 × 5\n\\begin{tabular}{r|lllll}\n EURUSD.X & GBPUSD.X & USDMXN.X & GCARSOA1.MX & WALMEX.MX\\\\\n <dbl> & <dbl> & <dbl> & <dbl> & <dbl>\\\\\n\\hline\n\t -0.0146085 & -0.0141307 & -0.0112789 & -0.03070152 & -0.02241808\\\\\n\\end{tabular}\n",
            "text/markdown": "\nA data.table: 1 × 5\n\n| EURUSD.X &lt;dbl&gt; | GBPUSD.X &lt;dbl&gt; | USDMXN.X &lt;dbl&gt; | GCARSOA1.MX &lt;dbl&gt; | WALMEX.MX &lt;dbl&gt; |\n|---|---|---|---|---|\n| -0.0146085 | -0.0141307 | -0.0112789 | -0.03070152 | -0.02241808 |\n\n",
            "text/html": [
              "<table>\n",
              "<caption>A data.table: 1 × 5</caption>\n",
              "<thead>\n",
              "\t<tr><th scope=col>EURUSD.X</th><th scope=col>GBPUSD.X</th><th scope=col>USDMXN.X</th><th scope=col>GCARSOA1.MX</th><th scope=col>WALMEX.MX</th></tr>\n",
              "\t<tr><th scope=col>&lt;dbl&gt;</th><th scope=col>&lt;dbl&gt;</th><th scope=col>&lt;dbl&gt;</th><th scope=col>&lt;dbl&gt;</th><th scope=col>&lt;dbl&gt;</th></tr>\n",
              "</thead>\n",
              "<tbody>\n",
              "\t<tr><td>-0.0146085</td><td>-0.0141307</td><td>-0.0112789</td><td>-0.03070152</td><td>-0.02241808</td></tr>\n",
              "</tbody>\n",
              "</table>\n"
            ]
          },
          "metadata": {
            "tags": []
          }
        },
        {
          "output_type": "display_data",
          "data": {
            "text/plain": [
              "  EURUSD.X    GBPUSD.X    USDMXN.X    GCARSOA1.MX WALMEX.MX  \n",
              "1 -0.01973307 -0.01978449 -0.01570553 -0.04388783 -0.03368344"
            ],
            "text/latex": "A data.table: 1 × 5\n\\begin{tabular}{r|lllll}\n EURUSD.X & GBPUSD.X & USDMXN.X & GCARSOA1.MX & WALMEX.MX\\\\\n <dbl> & <dbl> & <dbl> & <dbl> & <dbl>\\\\\n\\hline\n\t -0.01973307 & -0.01978449 & -0.01570553 & -0.04388783 & -0.03368344\\\\\n\\end{tabular}\n",
            "text/markdown": "\nA data.table: 1 × 5\n\n| EURUSD.X &lt;dbl&gt; | GBPUSD.X &lt;dbl&gt; | USDMXN.X &lt;dbl&gt; | GCARSOA1.MX &lt;dbl&gt; | WALMEX.MX &lt;dbl&gt; |\n|---|---|---|---|---|\n| -0.01973307 | -0.01978449 | -0.01570553 | -0.04388783 | -0.03368344 |\n\n",
            "text/html": [
              "<table>\n",
              "<caption>A data.table: 1 × 5</caption>\n",
              "<thead>\n",
              "\t<tr><th scope=col>EURUSD.X</th><th scope=col>GBPUSD.X</th><th scope=col>USDMXN.X</th><th scope=col>GCARSOA1.MX</th><th scope=col>WALMEX.MX</th></tr>\n",
              "\t<tr><th scope=col>&lt;dbl&gt;</th><th scope=col>&lt;dbl&gt;</th><th scope=col>&lt;dbl&gt;</th><th scope=col>&lt;dbl&gt;</th><th scope=col>&lt;dbl&gt;</th></tr>\n",
              "</thead>\n",
              "<tbody>\n",
              "\t<tr><td>-0.01973307</td><td>-0.01978449</td><td>-0.01570553</td><td>-0.04388783</td><td>-0.03368344</td></tr>\n",
              "</tbody>\n",
              "</table>\n"
            ]
          },
          "metadata": {
            "tags": []
          }
        },
        {
          "output_type": "display_data",
          "data": {
            "text/plain": [
              "  divisas     acciones   \n",
              "1 -0.00301672 -0.02001042"
            ],
            "text/latex": "A data.table: 1 × 2\n\\begin{tabular}{r|ll}\n divisas & acciones\\\\\n <dbl> & <dbl>\\\\\n\\hline\n\t -0.00301672 & -0.02001042\\\\\n\\end{tabular}\n",
            "text/markdown": "\nA data.table: 1 × 2\n\n| divisas &lt;dbl&gt; | acciones &lt;dbl&gt; |\n|---|---|\n| -0.00301672 | -0.02001042 |\n\n",
            "text/html": [
              "<table>\n",
              "<caption>A data.table: 1 × 2</caption>\n",
              "<thead>\n",
              "\t<tr><th scope=col>divisas</th><th scope=col>acciones</th></tr>\n",
              "\t<tr><th scope=col>&lt;dbl&gt;</th><th scope=col>&lt;dbl&gt;</th></tr>\n",
              "</thead>\n",
              "<tbody>\n",
              "\t<tr><td>-0.00301672</td><td>-0.02001042</td></tr>\n",
              "</tbody>\n",
              "</table>\n"
            ]
          },
          "metadata": {
            "tags": []
          }
        },
        {
          "output_type": "display_data",
          "data": {
            "text/plain": [
              "  divisas      acciones   \n",
              "1 -0.004023694 -0.03014419"
            ],
            "text/latex": "A data.table: 1 × 2\n\\begin{tabular}{r|ll}\n divisas & acciones\\\\\n <dbl> & <dbl>\\\\\n\\hline\n\t -0.004023694 & -0.03014419\\\\\n\\end{tabular}\n",
            "text/markdown": "\nA data.table: 1 × 2\n\n| divisas &lt;dbl&gt; | acciones &lt;dbl&gt; |\n|---|---|\n| -0.004023694 | -0.03014419 |\n\n",
            "text/html": [
              "<table>\n",
              "<caption>A data.table: 1 × 2</caption>\n",
              "<thead>\n",
              "\t<tr><th scope=col>divisas</th><th scope=col>acciones</th></tr>\n",
              "\t<tr><th scope=col>&lt;dbl&gt;</th><th scope=col>&lt;dbl&gt;</th></tr>\n",
              "</thead>\n",
              "<tbody>\n",
              "\t<tr><td>-0.004023694</td><td>-0.03014419</td></tr>\n",
              "</tbody>\n",
              "</table>\n"
            ]
          },
          "metadata": {
            "tags": []
          }
        },
        {
          "output_type": "display_data",
          "data": {
            "text/plain": [
              "       5% \n",
              "-3316.845 "
            ],
            "text/latex": "\\textbf{5\\textbackslash{}\\%:} -3316.84503086527",
            "text/markdown": "**5%:** -3316.84503086527",
            "text/html": [
              "<strong>5%:</strong> -3316.84503086527"
            ]
          },
          "metadata": {
            "tags": []
          }
        },
        {
          "output_type": "display_data",
          "data": {
            "text/plain": [
              "[1] -5078.793"
            ],
            "text/latex": "-5078.79274090542",
            "text/markdown": "-5078.79274090542",
            "text/html": [
              "-5078.79274090542"
            ]
          },
          "metadata": {
            "tags": []
          }
        },
        {
          "output_type": "display_data",
          "data": {
            "text/plain": [
              "         5% \n",
              "-0.01804281 "
            ],
            "text/latex": "\\textbf{5\\textbackslash{}\\%:} -0.0180428079303915",
            "text/markdown": "**5%:** -0.0180428079303915",
            "text/html": [
              "<strong>5%:</strong> -0.0180428079303915"
            ]
          },
          "metadata": {
            "tags": []
          }
        },
        {
          "output_type": "display_data",
          "data": {
            "text/plain": [
              "[1] -0.02762736"
            ],
            "text/latex": "-0.0276273630783762",
            "text/markdown": "-0.0276273630783762",
            "text/html": [
              "-0.0276273630783762"
            ]
          },
          "metadata": {
            "tags": []
          }
        }
      ]
    },
    {
      "cell_type": "code",
      "metadata": {
        "id": "zhSnTs30q41v",
        "colab_type": "code",
        "colab": {},
        "cellView": "code"
      },
      "source": [
        "w0 <- 0.05 #@param {type:\"number\"}\n"
      ],
      "execution_count": 0,
      "outputs": []
    },
    {
      "cell_type": "markdown",
      "metadata": {
        "id": "BcmKDz6OL6MK",
        "colab_type": "text"
      },
      "source": [
        "Para las pérdidas y ganancias vía simulación histórica con alisado, se siguen los mismos pasos que en las pérdidas y ganancias sin alisado, pero no se le da el mismo peso a los escenarios, comúnmente en este método se ponderan más los escenarios más recientes y se les da menos peso a los más viejos, utilizando la función:\n",
        "\t$$w_i=\\lambda^{i-1}w_1\\quad (i=1,\\ldots,n),$$\n",
        "\t\\vskip-0.05cm donde se tienen que estimar las constantes $\\lambda\\in(0,1)$ y $w_1\\in(0,1)$ tal que $\\sum_{i=1}^n\\lambda^i w_1=1$. \n",
        "\tDonde $w_i$ representa la probabilidad del escenario más reciente, y $\\lambda$ la constante que indica que tanto decrece la probabilidad inicial con respecto al escenario $i$, si $\\lambda$ tiende a 1, no existe decrecimiento, si $\\lambda$ tiende a cero, el decrecimiento es casi inmediato.\n",
        "  \n",
        "Ya que se tiene los valores $w_i$ se ordena la matriz $\\Delta Y$ de menor a mayor y se obtiene el percentil que se desee basado en la distribución $w_i$.\n",
        "  \n",
        "Para resolver el valor de $\\lambda$, sabemos de inicio que $0<\\lambda<1$ entonces la expresión $\\sum_{i=1}^n\\lambda^i w_1=1$ es una serie geométrica por lo que al resolverla tenemos que $w_1(1-\\lambda^{n-1})/(1-\\lambda)=1$ por lo que finalmente tenemos que encontrar una:\n",
        "\n",
        "  $\\lambda$ que cumpla que $w_1(1-\\lambda^{n-1})/(1-\\lambda)-1=0$ dado un $w_1$ fijo.\t\n"
      ]
    },
    {
      "cell_type": "code",
      "metadata": {
        "id": "D2FJ027UNFIB",
        "colab_type": "code",
        "colab": {},
        "cellView": "code"
      },
      "source": [
        "#Medidas de riesgo CON alisado\n",
        "\n",
        "#Se necesita definir\n",
        "#1) El valor del peso inicial del primer escenario \"w0\"\n",
        "#2) La función de cuantil con vector de probabilidades no iguales\n",
        "#3) La función de CVaR con probabilidades no iguales\n",
        "\n",
        "#w0=0.05\n",
        "\n",
        "#Creación de dos funciones que sirven para este fin\n",
        "# Percentil con pesos de probabilidades\n",
        "# \n",
        "# v  un vector de observaciones\n",
        "# w Un vector numérico de valores positivos, en general es la distrubición.\n",
        "# p  el valor de la probabilidad entre 0 y 1.\n",
        "# \n",
        "# Esta función no interpola\n",
        "\n",
        "wquantile <- function(v,w=rep(1,length(v)),p=.5) \n",
        "{ \n",
        "  if ( !is.numeric(w) || length(v) != length(w) ) \n",
        "    stop(\"Los valores y los pesos tienen que tener misma longitud\") \n",
        "  if ( !is.numeric(p) || any( p<0 | p>1) ) \n",
        "    stop(\"Percentil tiene que ser 0<=p<=1\") \n",
        "  if ( min(w) < 0 ) stop(\"Los pesos tiene que ser mayores que 0\") \n",
        "  ranking <- order(v) \n",
        "  sumw <- cumsum(w[ranking]) \n",
        "  plist <- sumw / sumw[ length(sumw) ] \n",
        "  v [ ranking [ which.max( plist >= p ) ] ]  \n",
        "} \n",
        "\n",
        "#CVaR con alisado\n",
        "wcvar <- function(v,w=rep(1,length(v)),p=.5) \n",
        "{ \n",
        "  if ( !is.numeric(w) || length(v) != length(w) ) \n",
        "    stop(\"Los valores y los pesos tienen que tener misma longitud\") \n",
        "  if ( !is.numeric(p) || any( p<0 | p>1) ) \n",
        "    stop(\"Percentil tiene que ser 0<=p<=1\") \n",
        "  if ( min(w) < 0 ) stop(\"Los pesos tiene que ser mayores que 0\") \n",
        "  ranking <- order(v) \n",
        "  sumw <- cumsum(w[ranking]) \n",
        "  plist <- sumw / sumw[ length(sumw) ] \n",
        "  loss= v [ ranking [ which( plist < p ) ] ]  \n",
        "  esc=w [ ranking [ which( plist < p ) ] ]  \n",
        "  sum(loss*esc)/(sum(esc))\n",
        "} \n",
        "\n",
        "\n",
        "#esc_cvar=which(cumsum(p_esc[order(PLT[,1])])<pdca)\n",
        "\n",
        "\n",
        "#p_esc[esc_cvar]\n",
        "\n",
        "#tshs=cbind(PLT,p_esc)\n"
      ],
      "execution_count": 0,
      "outputs": []
    },
    {
      "cell_type": "code",
      "metadata": {
        "id": "ENGA-1WXqwlt",
        "colab_type": "code",
        "colab": {
          "base_uri": "https://localhost:8080/",
          "height": 1000
        },
        "outputId": "da367437-f911-44db-f0a3-25cdff19ae27"
      },
      "source": [
        "lambda =uniroot(function(x) w0*(1-x^(n))/(1-x)-1, c(0,0.99), tol = 1e-28)$root\n",
        "lambda\n",
        "\n",
        "#generamos la función que genera \"n\" escenarios con base en w0 y lambda\n",
        "genera_esc=function(lamda,w0,n)\n",
        "{\n",
        "  p_esc=matrix(0,n,1)\n",
        "  for (i in (1:n))\n",
        "  {\n",
        "    p_esc[i]=w0*lambda^(i-1)\n",
        "  }\n",
        "  p_esc\n",
        "}\n",
        "\n",
        "p_esc=genera_esc(lambda,w0,n)\n",
        "t(p_esc[1:10])\n",
        "sum(p_esc) #validamos que sume 1\n",
        "\n",
        "#Creamos las cajas de VaR y CVaR con alisado\n",
        "VaRca=matrix(0,1,ncol(PL))\n",
        "CVaRca=matrix(0,1,ncol(PL))\n",
        "\n",
        "#IMPORTANTE: VALIDAR QUE SE TENGA EL MISMO ORDEN DE ESCENARIOS, ES POR ESO QUE METEMOS P_ESC[ORDER(P_ESC)]\n",
        "for (j in (1:m))\n",
        "{\n",
        "  VaRca[j]=wquantile(as.matrix(PL[,j]), p_esc[order(p_esc)], 1-alpha)\n",
        "  CVaRca[j]=wcvar(as.matrix(PL[,j]), as.matrix(p_esc[order(p_esc)]), 1-alpha)\n",
        "}\n",
        "\n",
        "#Resumen medidas de riesgo por posición\n",
        "VaRca=as.data.table(VaRca)\n",
        "CVaRca=as.data.table(CVaRca)\n",
        "\n",
        "#valores absolutos con respecto al portafolio sin alisado\n",
        "names(VaRca)=names(x0)\n",
        "names(CVaRca)=names(x0)\n",
        "VaRca/abs(as.matrix(V0))\n",
        "CVaRca/abs(as.matrix(V0))\n",
        "\n",
        "\n",
        "#medias de riesgo por factor de riesgo acciones y divisas\n",
        "\n",
        "VaRfrca=matrix(0,1,2)\n",
        "CVaRfrca=matrix(0,1,2)\n",
        "\n",
        "\n",
        "for (j in (1:2))\n",
        "{\n",
        "  VaRfrca[j]=wquantile(as.matrix(PLTdCAcc[,j]), p_esc[order(p_esc)], 1-alpha)\n",
        "  CVaRfrca[j]= wcvar(as.matrix(PLTdCAcc[,j]), as.matrix(p_esc[order(p_esc)]), 1-alpha)\n",
        "}\n",
        "\n",
        "\n",
        "\n",
        "VaRfrca=as.data.table(VaRfrca)\n",
        "CVaRfrca=as.data.table(CVaRfrca)\n",
        "\n",
        "names(VaRfrca)=c(\"divisas\", \"acciones\")\n",
        "names(CVaRfrca)=c(\"divisas\", \"acciones\")\n",
        "#VALORES ABSOLUTOS\n",
        "VaRfrca/c(abs(as.matrix(sum(V0[,1:(len(pos_fx)+1)]))),abs(as.matrix(sum(V0[,(len(pos_fx)+1):(len(pos_eq)+len(pos_fx))]))))\n",
        "CVaRfrca/c(abs(as.matrix(sum(V0[,1:(len(pos_fx)+1)]))),abs(as.matrix(sum(V0[,(len(pos_fx)+1):(len(pos_eq)+len(pos_fx))]))))\n",
        "\n",
        "\n",
        "VaRcaT=wquantile(as.matrix(PLT), p_esc[order(p_esc)], 1-alpha)\n",
        "CVaRcaT=wcvar(as.matrix(PLT), p_esc[order(p_esc)], 1-alpha)\n",
        "\n",
        "\n",
        "V0\n",
        "VaRCont/abs(as.matrix(V0))\n",
        "VaRca/abs(as.matrix(V0))\n",
        "CVaRCont/abs(as.matrix(V0))\n",
        "CVaRca/abs(as.matrix(V0))\n",
        "\n",
        "\n",
        "c(sum(V0[,1:3]),sum(V0[,4:5]))\n",
        "VaRfr/c(abs(as.matrix(sum(V0[,1:3]))),abs(as.matrix(sum(V0[,4:5]))))\n",
        "VaRfrca/c(abs(as.matrix(sum(V0[,1:3]))),abs(as.matrix(sum(V0[,4:5]))))\n",
        "CVaRfr/c(abs(as.matrix(sum(V0[,1:3]))),abs(as.matrix(sum(V0[,4:5]))))\n",
        "CVaRfrca/c(abs(as.matrix(sum(V0[,1:3]))),abs(as.matrix(sum(V0[,4:5]))))\n",
        "\n",
        "\n",
        "sum(V0)\n",
        "VaRTotal/abs(sum(V0))\n",
        "VaRcaT/abs(sum(V0))\n",
        "\n",
        "CVaRTotal/abs(sum(V0))\n",
        "CVaRcaT/abs(sum(V0))\n"
      ],
      "execution_count": 15,
      "outputs": [
        {
          "output_type": "display_data",
          "data": {
            "text/plain": [
              "[1] 0.95"
            ],
            "text/latex": "0.95",
            "text/markdown": "0.95",
            "text/html": [
              "0.95"
            ]
          },
          "metadata": {
            "tags": []
          }
        },
        {
          "output_type": "display_data",
          "data": {
            "text/plain": [
              "     [,1] [,2]   [,3]     [,4]       [,5]       [,6]       [,7]      \n",
              "[1,] 0.05 0.0475 0.045125 0.04286875 0.04072531 0.03868905 0.03675459\n",
              "     [,8]       [,9]       [,10]     \n",
              "[1,] 0.03491686 0.03317102 0.03151247"
            ],
            "text/latex": "A matrix: 1 × 10 of type dbl\n\\begin{tabular}{llllllllll}\n\t 0.05 & 0.0475 & 0.045125 & 0.04286875 & 0.04072531 & 0.03868905 & 0.03675459 & 0.03491686 & 0.03317102 & 0.03151247\\\\\n\\end{tabular}\n",
            "text/markdown": "\nA matrix: 1 × 10 of type dbl\n\n| 0.05 | 0.0475 | 0.045125 | 0.04286875 | 0.04072531 | 0.03868905 | 0.03675459 | 0.03491686 | 0.03317102 | 0.03151247 |\n\n",
            "text/html": [
              "<table>\n",
              "<caption>A matrix: 1 × 10 of type dbl</caption>\n",
              "<tbody>\n",
              "\t<tr><td>0.05</td><td>0.0475</td><td>0.045125</td><td>0.04286875</td><td>0.04072531</td><td>0.03868905</td><td>0.03675459</td><td>0.03491686</td><td>0.03317102</td><td>0.03151247</td></tr>\n",
              "</tbody>\n",
              "</table>\n"
            ]
          },
          "metadata": {
            "tags": []
          }
        },
        {
          "output_type": "display_data",
          "data": {
            "text/plain": [
              "[1] 1"
            ],
            "text/latex": "0.999999999999999",
            "text/markdown": "0.999999999999999",
            "text/html": [
              "0.999999999999999"
            ]
          },
          "metadata": {
            "tags": []
          }
        },
        {
          "output_type": "display_data",
          "data": {
            "text/plain": [
              "  EURUSD.X     GBPUSD.X    USDMXN.X    GCARSOA1.MX WALMEX.MX  \n",
              "1 -0.009762709 -0.01294069 -0.01042155 -0.03892573 -0.02168165"
            ],
            "text/latex": "A data.table: 1 × 5\n\\begin{tabular}{r|lllll}\n EURUSD.X & GBPUSD.X & USDMXN.X & GCARSOA1.MX & WALMEX.MX\\\\\n <dbl> & <dbl> & <dbl> & <dbl> & <dbl>\\\\\n\\hline\n\t -0.009762709 & -0.01294069 & -0.01042155 & -0.03892573 & -0.02168165\\\\\n\\end{tabular}\n",
            "text/markdown": "\nA data.table: 1 × 5\n\n| EURUSD.X &lt;dbl&gt; | GBPUSD.X &lt;dbl&gt; | USDMXN.X &lt;dbl&gt; | GCARSOA1.MX &lt;dbl&gt; | WALMEX.MX &lt;dbl&gt; |\n|---|---|---|---|---|\n| -0.009762709 | -0.01294069 | -0.01042155 | -0.03892573 | -0.02168165 |\n\n",
            "text/html": [
              "<table>\n",
              "<caption>A data.table: 1 × 5</caption>\n",
              "<thead>\n",
              "\t<tr><th scope=col>EURUSD.X</th><th scope=col>GBPUSD.X</th><th scope=col>USDMXN.X</th><th scope=col>GCARSOA1.MX</th><th scope=col>WALMEX.MX</th></tr>\n",
              "\t<tr><th scope=col>&lt;dbl&gt;</th><th scope=col>&lt;dbl&gt;</th><th scope=col>&lt;dbl&gt;</th><th scope=col>&lt;dbl&gt;</th><th scope=col>&lt;dbl&gt;</th></tr>\n",
              "</thead>\n",
              "<tbody>\n",
              "\t<tr><td>-0.009762709</td><td>-0.01294069</td><td>-0.01042155</td><td>-0.03892573</td><td>-0.02168165</td></tr>\n",
              "</tbody>\n",
              "</table>\n"
            ]
          },
          "metadata": {
            "tags": []
          }
        },
        {
          "output_type": "display_data",
          "data": {
            "text/plain": [
              "  EURUSD.X    GBPUSD.X    USDMXN.X    GCARSOA1.MX WALMEX.MX  \n",
              "1 -0.01317736 -0.01606605 -0.01294891 -0.04778156 -0.02666106"
            ],
            "text/latex": "A data.table: 1 × 5\n\\begin{tabular}{r|lllll}\n EURUSD.X & GBPUSD.X & USDMXN.X & GCARSOA1.MX & WALMEX.MX\\\\\n <dbl> & <dbl> & <dbl> & <dbl> & <dbl>\\\\\n\\hline\n\t -0.01317736 & -0.01606605 & -0.01294891 & -0.04778156 & -0.02666106\\\\\n\\end{tabular}\n",
            "text/markdown": "\nA data.table: 1 × 5\n\n| EURUSD.X &lt;dbl&gt; | GBPUSD.X &lt;dbl&gt; | USDMXN.X &lt;dbl&gt; | GCARSOA1.MX &lt;dbl&gt; | WALMEX.MX &lt;dbl&gt; |\n|---|---|---|---|---|\n| -0.01317736 | -0.01606605 | -0.01294891 | -0.04778156 | -0.02666106 |\n\n",
            "text/html": [
              "<table>\n",
              "<caption>A data.table: 1 × 5</caption>\n",
              "<thead>\n",
              "\t<tr><th scope=col>EURUSD.X</th><th scope=col>GBPUSD.X</th><th scope=col>USDMXN.X</th><th scope=col>GCARSOA1.MX</th><th scope=col>WALMEX.MX</th></tr>\n",
              "\t<tr><th scope=col>&lt;dbl&gt;</th><th scope=col>&lt;dbl&gt;</th><th scope=col>&lt;dbl&gt;</th><th scope=col>&lt;dbl&gt;</th><th scope=col>&lt;dbl&gt;</th></tr>\n",
              "</thead>\n",
              "<tbody>\n",
              "\t<tr><td>-0.01317736</td><td>-0.01606605</td><td>-0.01294891</td><td>-0.04778156</td><td>-0.02666106</td></tr>\n",
              "</tbody>\n",
              "</table>\n"
            ]
          },
          "metadata": {
            "tags": []
          }
        },
        {
          "output_type": "display_data",
          "data": {
            "text/plain": [
              "  divisas      acciones   \n",
              "1 -0.002757819 -0.01597303"
            ],
            "text/latex": "A data.table: 1 × 2\n\\begin{tabular}{r|ll}\n divisas & acciones\\\\\n <dbl> & <dbl>\\\\\n\\hline\n\t -0.002757819 & -0.01597303\\\\\n\\end{tabular}\n",
            "text/markdown": "\nA data.table: 1 × 2\n\n| divisas &lt;dbl&gt; | acciones &lt;dbl&gt; |\n|---|---|\n| -0.002757819 | -0.01597303 |\n\n",
            "text/html": [
              "<table>\n",
              "<caption>A data.table: 1 × 2</caption>\n",
              "<thead>\n",
              "\t<tr><th scope=col>divisas</th><th scope=col>acciones</th></tr>\n",
              "\t<tr><th scope=col>&lt;dbl&gt;</th><th scope=col>&lt;dbl&gt;</th></tr>\n",
              "</thead>\n",
              "<tbody>\n",
              "\t<tr><td>-0.002757819</td><td>-0.01597303</td></tr>\n",
              "</tbody>\n",
              "</table>\n"
            ]
          },
          "metadata": {
            "tags": []
          }
        },
        {
          "output_type": "display_data",
          "data": {
            "text/plain": [
              "  divisas      acciones  \n",
              "1 -0.003009876 -0.0222568"
            ],
            "text/latex": "A data.table: 1 × 2\n\\begin{tabular}{r|ll}\n divisas & acciones\\\\\n <dbl> & <dbl>\\\\\n\\hline\n\t -0.003009876 & -0.0222568\\\\\n\\end{tabular}\n",
            "text/markdown": "\nA data.table: 1 × 2\n\n| divisas &lt;dbl&gt; | acciones &lt;dbl&gt; |\n|---|---|\n| -0.003009876 | -0.0222568 |\n\n",
            "text/html": [
              "<table>\n",
              "<caption>A data.table: 1 × 2</caption>\n",
              "<thead>\n",
              "\t<tr><th scope=col>divisas</th><th scope=col>acciones</th></tr>\n",
              "\t<tr><th scope=col>&lt;dbl&gt;</th><th scope=col>&lt;dbl&gt;</th></tr>\n",
              "</thead>\n",
              "<tbody>\n",
              "\t<tr><td>-0.003009876</td><td>-0.0222568</td></tr>\n",
              "</tbody>\n",
              "</table>\n"
            ]
          },
          "metadata": {
            "tags": []
          }
        },
        {
          "output_type": "display_data",
          "data": {
            "text/plain": [
              "           EURUSD.X  GBPUSD.X USDMXN.X GCARSOA1.MX WALMEX.MX\n",
              "2019-09-23 21397.76 -12109.57  3883.78       60340    110320"
            ]
          },
          "metadata": {
            "tags": []
          }
        },
        {
          "output_type": "display_data",
          "data": {
            "text/plain": [
              "  EURUSD.X   GBPUSD.X   USDMXN.X   GCARSOA1.MX WALMEX.MX  \n",
              "1 -0.0146085 -0.0141307 -0.0112789 -0.03070152 -0.02241808"
            ],
            "text/latex": "A data.table: 1 × 5\n\\begin{tabular}{r|lllll}\n EURUSD.X & GBPUSD.X & USDMXN.X & GCARSOA1.MX & WALMEX.MX\\\\\n <dbl> & <dbl> & <dbl> & <dbl> & <dbl>\\\\\n\\hline\n\t -0.0146085 & -0.0141307 & -0.0112789 & -0.03070152 & -0.02241808\\\\\n\\end{tabular}\n",
            "text/markdown": "\nA data.table: 1 × 5\n\n| EURUSD.X &lt;dbl&gt; | GBPUSD.X &lt;dbl&gt; | USDMXN.X &lt;dbl&gt; | GCARSOA1.MX &lt;dbl&gt; | WALMEX.MX &lt;dbl&gt; |\n|---|---|---|---|---|\n| -0.0146085 | -0.0141307 | -0.0112789 | -0.03070152 | -0.02241808 |\n\n",
            "text/html": [
              "<table>\n",
              "<caption>A data.table: 1 × 5</caption>\n",
              "<thead>\n",
              "\t<tr><th scope=col>EURUSD.X</th><th scope=col>GBPUSD.X</th><th scope=col>USDMXN.X</th><th scope=col>GCARSOA1.MX</th><th scope=col>WALMEX.MX</th></tr>\n",
              "\t<tr><th scope=col>&lt;dbl&gt;</th><th scope=col>&lt;dbl&gt;</th><th scope=col>&lt;dbl&gt;</th><th scope=col>&lt;dbl&gt;</th><th scope=col>&lt;dbl&gt;</th></tr>\n",
              "</thead>\n",
              "<tbody>\n",
              "\t<tr><td>-0.0146085</td><td>-0.0141307</td><td>-0.0112789</td><td>-0.03070152</td><td>-0.02241808</td></tr>\n",
              "</tbody>\n",
              "</table>\n"
            ]
          },
          "metadata": {
            "tags": []
          }
        },
        {
          "output_type": "display_data",
          "data": {
            "text/plain": [
              "  EURUSD.X     GBPUSD.X    USDMXN.X    GCARSOA1.MX WALMEX.MX  \n",
              "1 -0.009762709 -0.01294069 -0.01042155 -0.03892573 -0.02168165"
            ],
            "text/latex": "A data.table: 1 × 5\n\\begin{tabular}{r|lllll}\n EURUSD.X & GBPUSD.X & USDMXN.X & GCARSOA1.MX & WALMEX.MX\\\\\n <dbl> & <dbl> & <dbl> & <dbl> & <dbl>\\\\\n\\hline\n\t -0.009762709 & -0.01294069 & -0.01042155 & -0.03892573 & -0.02168165\\\\\n\\end{tabular}\n",
            "text/markdown": "\nA data.table: 1 × 5\n\n| EURUSD.X &lt;dbl&gt; | GBPUSD.X &lt;dbl&gt; | USDMXN.X &lt;dbl&gt; | GCARSOA1.MX &lt;dbl&gt; | WALMEX.MX &lt;dbl&gt; |\n|---|---|---|---|---|\n| -0.009762709 | -0.01294069 | -0.01042155 | -0.03892573 | -0.02168165 |\n\n",
            "text/html": [
              "<table>\n",
              "<caption>A data.table: 1 × 5</caption>\n",
              "<thead>\n",
              "\t<tr><th scope=col>EURUSD.X</th><th scope=col>GBPUSD.X</th><th scope=col>USDMXN.X</th><th scope=col>GCARSOA1.MX</th><th scope=col>WALMEX.MX</th></tr>\n",
              "\t<tr><th scope=col>&lt;dbl&gt;</th><th scope=col>&lt;dbl&gt;</th><th scope=col>&lt;dbl&gt;</th><th scope=col>&lt;dbl&gt;</th><th scope=col>&lt;dbl&gt;</th></tr>\n",
              "</thead>\n",
              "<tbody>\n",
              "\t<tr><td>-0.009762709</td><td>-0.01294069</td><td>-0.01042155</td><td>-0.03892573</td><td>-0.02168165</td></tr>\n",
              "</tbody>\n",
              "</table>\n"
            ]
          },
          "metadata": {
            "tags": []
          }
        },
        {
          "output_type": "display_data",
          "data": {
            "text/plain": [
              "  EURUSD.X    GBPUSD.X    USDMXN.X    GCARSOA1.MX WALMEX.MX  \n",
              "1 -0.01973307 -0.01978449 -0.01570553 -0.04388783 -0.03368344"
            ],
            "text/latex": "A data.table: 1 × 5\n\\begin{tabular}{r|lllll}\n EURUSD.X & GBPUSD.X & USDMXN.X & GCARSOA1.MX & WALMEX.MX\\\\\n <dbl> & <dbl> & <dbl> & <dbl> & <dbl>\\\\\n\\hline\n\t -0.01973307 & -0.01978449 & -0.01570553 & -0.04388783 & -0.03368344\\\\\n\\end{tabular}\n",
            "text/markdown": "\nA data.table: 1 × 5\n\n| EURUSD.X &lt;dbl&gt; | GBPUSD.X &lt;dbl&gt; | USDMXN.X &lt;dbl&gt; | GCARSOA1.MX &lt;dbl&gt; | WALMEX.MX &lt;dbl&gt; |\n|---|---|---|---|---|\n| -0.01973307 | -0.01978449 | -0.01570553 | -0.04388783 | -0.03368344 |\n\n",
            "text/html": [
              "<table>\n",
              "<caption>A data.table: 1 × 5</caption>\n",
              "<thead>\n",
              "\t<tr><th scope=col>EURUSD.X</th><th scope=col>GBPUSD.X</th><th scope=col>USDMXN.X</th><th scope=col>GCARSOA1.MX</th><th scope=col>WALMEX.MX</th></tr>\n",
              "\t<tr><th scope=col>&lt;dbl&gt;</th><th scope=col>&lt;dbl&gt;</th><th scope=col>&lt;dbl&gt;</th><th scope=col>&lt;dbl&gt;</th><th scope=col>&lt;dbl&gt;</th></tr>\n",
              "</thead>\n",
              "<tbody>\n",
              "\t<tr><td>-0.01973307</td><td>-0.01978449</td><td>-0.01570553</td><td>-0.04388783</td><td>-0.03368344</td></tr>\n",
              "</tbody>\n",
              "</table>\n"
            ]
          },
          "metadata": {
            "tags": []
          }
        },
        {
          "output_type": "display_data",
          "data": {
            "text/plain": [
              "  EURUSD.X    GBPUSD.X    USDMXN.X    GCARSOA1.MX WALMEX.MX  \n",
              "1 -0.01317736 -0.01606605 -0.01294891 -0.04778156 -0.02666106"
            ],
            "text/latex": "A data.table: 1 × 5\n\\begin{tabular}{r|lllll}\n EURUSD.X & GBPUSD.X & USDMXN.X & GCARSOA1.MX & WALMEX.MX\\\\\n <dbl> & <dbl> & <dbl> & <dbl> & <dbl>\\\\\n\\hline\n\t -0.01317736 & -0.01606605 & -0.01294891 & -0.04778156 & -0.02666106\\\\\n\\end{tabular}\n",
            "text/markdown": "\nA data.table: 1 × 5\n\n| EURUSD.X &lt;dbl&gt; | GBPUSD.X &lt;dbl&gt; | USDMXN.X &lt;dbl&gt; | GCARSOA1.MX &lt;dbl&gt; | WALMEX.MX &lt;dbl&gt; |\n|---|---|---|---|---|\n| -0.01317736 | -0.01606605 | -0.01294891 | -0.04778156 | -0.02666106 |\n\n",
            "text/html": [
              "<table>\n",
              "<caption>A data.table: 1 × 5</caption>\n",
              "<thead>\n",
              "\t<tr><th scope=col>EURUSD.X</th><th scope=col>GBPUSD.X</th><th scope=col>USDMXN.X</th><th scope=col>GCARSOA1.MX</th><th scope=col>WALMEX.MX</th></tr>\n",
              "\t<tr><th scope=col>&lt;dbl&gt;</th><th scope=col>&lt;dbl&gt;</th><th scope=col>&lt;dbl&gt;</th><th scope=col>&lt;dbl&gt;</th><th scope=col>&lt;dbl&gt;</th></tr>\n",
              "</thead>\n",
              "<tbody>\n",
              "\t<tr><td>-0.01317736</td><td>-0.01606605</td><td>-0.01294891</td><td>-0.04778156</td><td>-0.02666106</td></tr>\n",
              "</tbody>\n",
              "</table>\n"
            ]
          },
          "metadata": {
            "tags": []
          }
        },
        {
          "output_type": "display_data",
          "data": {
            "text/plain": [
              "[1]  13171.98 170660.00"
            ],
            "text/latex": "\\begin{enumerate*}\n\\item 13171.9758023\n\\item 170660\n\\end{enumerate*}\n",
            "text/markdown": "1. 13171.9758023\n2. 170660\n\n\n",
            "text/html": [
              "<ol class=list-inline>\n",
              "\t<li>13171.9758023</li>\n",
              "\t<li>170660</li>\n",
              "</ol>\n"
            ]
          },
          "metadata": {
            "tags": []
          }
        },
        {
          "output_type": "display_data",
          "data": {
            "text/plain": [
              "  divisas     acciones   \n",
              "1 -0.01683613 -0.02001042"
            ],
            "text/latex": "A data.table: 1 × 2\n\\begin{tabular}{r|ll}\n divisas & acciones\\\\\n <dbl> & <dbl>\\\\\n\\hline\n\t -0.01683613 & -0.02001042\\\\\n\\end{tabular}\n",
            "text/markdown": "\nA data.table: 1 × 2\n\n| divisas &lt;dbl&gt; | acciones &lt;dbl&gt; |\n|---|---|\n| -0.01683613 | -0.02001042 |\n\n",
            "text/html": [
              "<table>\n",
              "<caption>A data.table: 1 × 2</caption>\n",
              "<thead>\n",
              "\t<tr><th scope=col>divisas</th><th scope=col>acciones</th></tr>\n",
              "\t<tr><th scope=col>&lt;dbl&gt;</th><th scope=col>&lt;dbl&gt;</th></tr>\n",
              "</thead>\n",
              "<tbody>\n",
              "\t<tr><td>-0.01683613</td><td>-0.02001042</td></tr>\n",
              "</tbody>\n",
              "</table>\n"
            ]
          },
          "metadata": {
            "tags": []
          }
        },
        {
          "output_type": "display_data",
          "data": {
            "text/plain": [
              "  divisas     acciones   \n",
              "1 -0.01539121 -0.01597303"
            ],
            "text/latex": "A data.table: 1 × 2\n\\begin{tabular}{r|ll}\n divisas & acciones\\\\\n <dbl> & <dbl>\\\\\n\\hline\n\t -0.01539121 & -0.01597303\\\\\n\\end{tabular}\n",
            "text/markdown": "\nA data.table: 1 × 2\n\n| divisas &lt;dbl&gt; | acciones &lt;dbl&gt; |\n|---|---|\n| -0.01539121 | -0.01597303 |\n\n",
            "text/html": [
              "<table>\n",
              "<caption>A data.table: 1 × 2</caption>\n",
              "<thead>\n",
              "\t<tr><th scope=col>divisas</th><th scope=col>acciones</th></tr>\n",
              "\t<tr><th scope=col>&lt;dbl&gt;</th><th scope=col>&lt;dbl&gt;</th></tr>\n",
              "</thead>\n",
              "<tbody>\n",
              "\t<tr><td>-0.01539121</td><td>-0.01597303</td></tr>\n",
              "</tbody>\n",
              "</table>\n"
            ]
          },
          "metadata": {
            "tags": []
          }
        },
        {
          "output_type": "display_data",
          "data": {
            "text/plain": [
              "  divisas     acciones   \n",
              "1 -0.02245598 -0.03014419"
            ],
            "text/latex": "A data.table: 1 × 2\n\\begin{tabular}{r|ll}\n divisas & acciones\\\\\n <dbl> & <dbl>\\\\\n\\hline\n\t -0.02245598 & -0.03014419\\\\\n\\end{tabular}\n",
            "text/markdown": "\nA data.table: 1 × 2\n\n| divisas &lt;dbl&gt; | acciones &lt;dbl&gt; |\n|---|---|\n| -0.02245598 | -0.03014419 |\n\n",
            "text/html": [
              "<table>\n",
              "<caption>A data.table: 1 × 2</caption>\n",
              "<thead>\n",
              "\t<tr><th scope=col>divisas</th><th scope=col>acciones</th></tr>\n",
              "\t<tr><th scope=col>&lt;dbl&gt;</th><th scope=col>&lt;dbl&gt;</th></tr>\n",
              "</thead>\n",
              "<tbody>\n",
              "\t<tr><td>-0.02245598</td><td>-0.03014419</td></tr>\n",
              "</tbody>\n",
              "</table>\n"
            ]
          },
          "metadata": {
            "tags": []
          }
        },
        {
          "output_type": "display_data",
          "data": {
            "text/plain": [
              "  divisas     acciones  \n",
              "1 -0.01679793 -0.0222568"
            ],
            "text/latex": "A data.table: 1 × 2\n\\begin{tabular}{r|ll}\n divisas & acciones\\\\\n <dbl> & <dbl>\\\\\n\\hline\n\t -0.01679793 & -0.0222568\\\\\n\\end{tabular}\n",
            "text/markdown": "\nA data.table: 1 × 2\n\n| divisas &lt;dbl&gt; | acciones &lt;dbl&gt; |\n|---|---|\n| -0.01679793 | -0.0222568 |\n\n",
            "text/html": [
              "<table>\n",
              "<caption>A data.table: 1 × 2</caption>\n",
              "<thead>\n",
              "\t<tr><th scope=col>divisas</th><th scope=col>acciones</th></tr>\n",
              "\t<tr><th scope=col>&lt;dbl&gt;</th><th scope=col>&lt;dbl&gt;</th></tr>\n",
              "</thead>\n",
              "<tbody>\n",
              "\t<tr><td>-0.01679793</td><td>-0.0222568</td></tr>\n",
              "</tbody>\n",
              "</table>\n"
            ]
          },
          "metadata": {
            "tags": []
          }
        },
        {
          "output_type": "display_data",
          "data": {
            "text/plain": [
              "[1] 183832"
            ],
            "text/latex": "183831.9758023",
            "text/markdown": "183831.9758023",
            "text/html": [
              "183831.9758023"
            ]
          },
          "metadata": {
            "tags": []
          }
        },
        {
          "output_type": "display_data",
          "data": {
            "text/plain": [
              "         5% \n",
              "-0.01804281 "
            ],
            "text/latex": "\\textbf{5\\textbackslash{}\\%:} -0.0180428079303915",
            "text/markdown": "**5%:** -0.0180428079303915",
            "text/html": [
              "<strong>5%:</strong> -0.0180428079303915"
            ]
          },
          "metadata": {
            "tags": []
          }
        },
        {
          "output_type": "display_data",
          "data": {
            "text/plain": [
              "[1] -0.01592635"
            ],
            "text/latex": "-0.0159263451686504",
            "text/markdown": "-0.0159263451686504",
            "text/html": [
              "-0.0159263451686504"
            ]
          },
          "metadata": {
            "tags": []
          }
        },
        {
          "output_type": "display_data",
          "data": {
            "text/plain": [
              "[1] -0.02762736"
            ],
            "text/latex": "-0.0276273630783762",
            "text/markdown": "-0.0276273630783762",
            "text/html": [
              "-0.0276273630783762"
            ]
          },
          "metadata": {
            "tags": []
          }
        },
        {
          "output_type": "display_data",
          "data": {
            "text/plain": [
              "[1] -0.02068361"
            ],
            "text/latex": "-0.020683606236856",
            "text/markdown": "-0.020683606236856",
            "text/html": [
              "-0.020683606236856"
            ]
          },
          "metadata": {
            "tags": []
          }
        }
      ]
    }
  ]
}